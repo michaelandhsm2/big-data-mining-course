{
 "cells": [
  {
   "cell_type": "markdown",
   "metadata": {},
   "source": [
    "# Homework 2\n",
    "\n",
    "## Description\n",
    "\n",
    "### Data\n",
    "[News Popularity in Multiple Social Media Platforms Data Set](https://archive.ics.uci.edu/ml/datasets/News+Popularity+in+Multiple+Social+Media+Platforms) - 13 CSV files, 155MB in total  \n",
    "\n",
    "This dataset contains a large set of news items and their respective social feedback on Facebook, Google + and LinkedIn.\n",
    "\n",
    "\n",
    "### Format\n",
    "One CSV File with News Data Records and 12 CSV Files with Social Feedback.\n",
    "The Social Feedback File contains the feedback from one of the social platforms {Facebook, Google+, LinkedIn} on one of the topics {Economy, Microsoft, Palestine, Obama}.\n",
    "\n",
    "#### News Data Variables\n",
    "Each record contains 11 attributes\n",
    "\n",
    "1. IDLink (numeric): Unique identifier of news items \n",
    "2. Title (string): Title of the news item according to the official media sources \n",
    "3. Headline (string): Headline of the news item according to the official media sources \n",
    "4. Source (string): Original news outlet that published the news item \n",
    "5. Topic (string): Query topic used to obtain the items in the official media sources \n",
    "6. PublishDate (timestamp): Date and time of the news items' publication \n",
    "7. SentimentTitle (numeric): Sentiment score of the text in the news items' title \n",
    "8. SentimentHeadline (numeric): Sentiment score of the text in the news items' headline \n",
    "9. Facebook (numeric): Final value of the news items' popularity according to the social media source Facebook \n",
    "10. GooglePlus (numeric): Final value of the news items' popularity according to the social media source Google+ \n",
    "11. LinkedIn (numeric): Final value of the news items' popularity according to the social media source LinkedIn \n",
    "\n",
    "#### Social Feedback Variables\n",
    "Each record contains 145 attributes\n",
    "\n",
    "1. IDLink (numeric): Unique identifier of news items \n",
    "2. TS1 (numeric): Level of popularity in time slice 1 (0-20 minutes upon publication) \n",
    "3. TS2 (numeric): Level of popularity in time slice 2 (20-40 minutes upon publication) \n",
    "4. TS... (numeric): Level of popularity in time slice ... \n",
    "5. TS144 (numeric): Final level of popularity after 2 days upon publication\n",
    "\n",
    "\n",
    "### Task\n",
    "4 subtasks:\n",
    "+ (20pt) In social feedback data, calculate the average popularity of each news by hour, and by day, respectively\n",
    "+ (20pt) In news data, calculate the sum and average sentiment score of each topic, respectively\n",
    "+ (30pt) In news data, count the words in two fields: ‘Title’ and ‘Headline’ respectively, and list the most frequent words according to the term frequency in descending order, in total, per day, and per topic, respectively\n",
    "+ (30pt) From the previous subtask, for the top-100 frequent words per topic in titles and headlines, calculate their co-occurrence matrices (100x100), respectively. Each entry in the matrix will contain the co-occurrence frequency in all news titles and headlines, respectively\n",
    "\n",
    "### Implementation Issues\n",
    "+ Large number of Attributes for each record"
   ]
  },
  {
   "cell_type": "markdown",
   "metadata": {},
   "source": [
    "## Implementation"
   ]
  },
  {
   "cell_type": "code",
   "execution_count": 1,
   "metadata": {},
   "outputs": [
    {
     "name": "stdout",
     "output_type": "stream",
     "text": [
      "Spark Entity:       org.apache.spark.sql.SparkSession@3fb4a07d\n",
      "Spark version:      2.3.0\n",
      "Spark master:       local[*]\n",
      "Running 'locally'?: true\n"
     ]
    }
   ],
   "source": [
    "// Pre-Configured Spark Context in sc\n",
    "\n",
    "println(\"Spark Entity:       \" + spark)\n",
    "println(\"Spark version:      \" + spark.version)\n",
    "println(\"Spark master:       \" + spark.sparkContext.master)\n",
    "println(\"Running 'locally'?: \" + spark.sparkContext.isLocal)"
   ]
  },
  {
   "cell_type": "markdown",
   "metadata": {},
   "source": [
    "### Task 1 - Average Popularity (By Hour, By Day)"
   ]
  },
  {
   "cell_type": "code",
   "execution_count": 2,
   "metadata": {},
   "outputs": [
    {
     "data": {
      "text/plain": [
       "List(./data/social/test/GooglePlus_Palestine.csv, ./data/social/test/LinkedIn_Palestine.csv)"
      ]
     },
     "execution_count": 2,
     "metadata": {},
     "output_type": "execute_result"
    }
   ],
   "source": [
    "import java.io.File\n",
    "\n",
    "val inputFile = new File(\"./data/social/test/\")\n",
    "var inputList = List[File]()\n",
    "if(inputFile.isDirectory){\n",
    "    inputList = inputFile.listFiles.filter(_.isFile).toList\n",
    "}else if(inputFile.isFile){\n",
    "    inputList = List[File](inputFile)\n",
    "}\n",
    "inputList"
   ]
  },
  {
   "cell_type": "code",
   "execution_count": 3,
   "metadata": {},
   "outputs": [
    {
     "name": "stdout",
     "output_type": "stream",
     "text": [
      "\n",
      "Loaded Data Sample: ((61974,0),(-1.0,1)) -- ((UID, Hour), (Popularity, Count))"
     ]
    }
   ],
   "source": [
    "var flattenSocialData = spark.sparkContext.emptyRDD[((String, Int), (Double, Int))]\n",
    "\n",
    "inputList.foreach{ input =>\n",
    "    val data = spark.sparkContext.textFile(input.toString)\n",
    "    val header = data.first\n",
    "    val flattenData = data.filter(l => l != header).\n",
    "    flatMap{ dataString =>\n",
    "        val attr = dataString.split(\",\")\n",
    "        attr.zipWithIndex.\n",
    "        filter{\n",
    "            case (value,index) => index >= 1\n",
    "        }.map{\n",
    "            case (value,index) => ((attr(0),(index-1)/3),(value.toDouble,1))\n",
    "        }\n",
    "    }\n",
    "    flattenSocialData = flattenSocialData.union(flattenData)\n",
    "}\n",
    "\n",
    "print(\"\\nLoaded Data Sample: \")\n",
    "flattenSocialData.take(1).foreach(print)\n",
    "print(\" -- ((UID, Hour), (Popularity, Count))\")"
   ]
  },
  {
   "cell_type": "code",
   "execution_count": 4,
   "metadata": {},
   "outputs": [
    {
     "name": "stdout",
     "output_type": "stream",
     "text": [
      "\n",
      "Intermediate Data Sample: ((79184,9),(-6.0,6)) -- ((UID, Hour), (Popularity, Count))"
     ]
    }
   ],
   "source": [
    "flattenSocialData.persist()\n",
    "\n",
    "val pop_by_hour = flattenSocialData.\n",
    "    reduceByKey{case ((ia, ib), (ja, jb)) => (ia+ja, ib+jb)}\n",
    "\n",
    "print(\"\\nIntermediate Data Sample: \")\n",
    "pop_by_hour.take(1).foreach(print)\n",
    "print(\" -- ((UID, Hour), (Popularity, Count))\")"
   ]
  },
  {
   "cell_type": "code",
   "execution_count": 5,
   "metadata": {},
   "outputs": [
    {
     "name": "stdout",
     "output_type": "stream",
     "text": [
      "\n",
      "Popularity by Day Data Sample: (84459,(Day,1,0.0)) -- ((UID, ('Day', No., Popularity Average))"
     ]
    }
   ],
   "source": [
    "val pop_by_day = flattenSocialData.\n",
    "    map{case((uid, hr), (sum, count)) => ((uid, hr/24), (sum/count, 1))}.\n",
    "    reduceByKey{case ((ia, ib), (ja, jb)) => (ia+ja, ib+jb)}.\n",
    "    map{case((uid, day), (sum, count)) => (uid,(\"Day\", day, sum / count))}\n",
    "    \n",
    "\n",
    "print(\"\\nPopularity by Day Data Sample: \")\n",
    "pop_by_day.take(1).foreach(print)\n",
    "print(\" -- ((UID, ('Day', No., Popularity Average))\")"
   ]
  },
  {
   "cell_type": "code",
   "execution_count": 6,
   "metadata": {},
   "outputs": [
    {
     "name": "stdout",
     "output_type": "stream",
     "text": [
      "\n",
      "All Popularity Data Sample: (99997,CompactBuffer((Hour,22,1.6666666666666667), (Hour,4,0.0), (Hour,3,0.0), (Hour,12,0.0), (Hour,8,0.0), (Hour,1,0.0), (Hour,6,0.0), (Hour,9,0.0), (Hour,10,0.0), (Hour,11,0.0), (Hour,46,2.0), (Hour,38,2.0), (Hour,41,2.0), (Hour,15,0.0), (Hour,25,2.0), (Hour,24,2.0), (Hour,20,0.6666666666666666), (Hour,13,0.0), (Hour,17,0.16666666666666666), (Hour,28,2.0), (Hour,2,0.0), (Hour,0,0.0), (Hour,42,2.0), (Hour,7,0.0), (Hour,32,2.0), (Hour,39,2.0), (Hour,34,2.0), (Hour,29,2.0), (Hour,43,2.0), (Hour,5,0.0), (Hour,33,2.0), (Hour,27,2.0), (Hour,31,2.0), (Hour,26,2.0), (Hour,37,2.0), (Hour,36,2.0), (Hour,40,2.0), (Hour,18,0.5), (Hour,19,0.5), (Hour,30,2.0), (Hour,44,2.0), (Hour,23,2.0), (Hour,21,1.1666666666666667), (Hour,47,2.0), (Hour,16,0.0), (Hour,45,2.0), (Hour,14,0.0), (Hour,35,2.0), (Day,1,2.0), (Day,0,0.2777777777777778)))\n"
     ]
    }
   ],
   "source": [
    "val all_pop = pop_by_hour.\n",
    "    map{case((uid, hr), (sum, count)) => (uid,(\"Hour\", hr, sum / count))}.\n",
    "    union(pop_by_day).\n",
    "    groupByKey.\n",
    "    sortByKey(ascending = false)\n",
    "    \n",
    "print(\"\\nAll Popularity Data Sample: \")\n",
    "all_pop.take(1).foreach(println)"
   ]
  },
  {
   "cell_type": "code",
   "execution_count": 7,
   "metadata": {},
   "outputs": [
    {
     "name": "stdout",
     "output_type": "stream",
     "text": [
      "\n",
      "Sorted Data Values for 99997: Vector((Day,0,0.2777777777777778), (Day,1,2.0), (Hour,0,0.0), (Hour,1,0.0), (Hour,2,0.0), (Hour,3,0.0), (Hour,4,0.0), (Hour,5,0.0), (Hour,6,0.0), (Hour,7,0.0), (Hour,8,0.0), (Hour,9,0.0), (Hour,10,0.0), (Hour,11,0.0), (Hour,12,0.0), (Hour,13,0.0), (Hour,14,0.0), (Hour,15,0.0), (Hour,16,0.0), (Hour,17,0.16666666666666666), (Hour,18,0.5), (Hour,19,0.5), (Hour,20,0.6666666666666666), (Hour,21,1.1666666666666667), (Hour,22,1.6666666666666667), (Hour,23,2.0), (Hour,24,2.0), (Hour,25,2.0), (Hour,26,2.0), (Hour,27,2.0), (Hour,28,2.0), (Hour,29,2.0), (Hour,30,2.0), (Hour,31,2.0), (Hour,32,2.0), (Hour,33,2.0), (Hour,34,2.0), (Hour,35,2.0), (Hour,36,2.0), (Hour,37,2.0), (Hour,38,2.0), (Hour,39,2.0), (Hour,40,2.0), (Hour,41,2.0), (Hour,42,2.0), (Hour,43,2.0), (Hour,44,2.0), (Hour,45,2.0), (Hour,46,2.0), (Hour,47,2.0))"
     ]
    }
   ],
   "source": [
    "val test_tuple = all_pop.first()\n",
    "print(\"\\nSorted Data Values for \"+test_tuple._1+\": \")\n",
    "print(test_tuple._2.toVector.sortBy { tup => (tup._1, tup._2) })"
   ]
  },
  {
   "cell_type": "code",
   "execution_count": 8,
   "metadata": {},
   "outputs": [
    {
     "name": "stdout",
     "output_type": "stream",
     "text": [
      "\n",
      "Finalized Data Sample: 99997,0.2777777777777778,2.0,0.0,0.0,0.0,0.0,0.0,0.0,0.0,0.0,0.0,0.0,0.0,0.0,0.0,0.0,0.0,0.0,0.0,0.16666666666666666,0.5,0.5,0.6666666666666666,1.1666666666666667,1.6666666666666667,2.0,2.0,2.0,2.0,2.0,2.0,2.0,2.0,2.0,2.0,2.0,2.0,2.0,2.0,2.0,2.0,2.0,2.0,2.0,2.0,2.0,2.0,2.0,2.0,2.0\n"
     ]
    }
   ],
   "source": [
    "val all_tuple = all_pop.map { case(uid, iterable) => \n",
    "    val vect = iterable.toVector.sortBy { tup => \n",
    "        (tup._1, tup._2)\n",
    "    }.map{ case (doh, no, value) => value }\n",
    "    uid+\",\"+vect.mkString(\",\")\n",
    "}\n",
    "print(\"\\nFinalized Data Sample: \")\n",
    "all_tuple.take(1).foreach(println)"
   ]
  },
  {
   "cell_type": "code",
   "execution_count": 12,
   "metadata": {},
   "outputs": [],
   "source": [
    "all_tuple.saveAsTextFile(\"./output\")"
   ]
  },
  {
   "cell_type": "markdown",
   "metadata": {},
   "source": [
    "103820004 Michael Fu"
   ]
  }
 ],
 "metadata": {
  "kernelspec": {
   "display_name": "Apache Toree - Scala",
   "language": "scala",
   "name": "apache_toree_scala"
  },
  "language_info": {
   "file_extension": ".scala",
   "name": "scala",
   "version": "2.11.8"
  }
 },
 "nbformat": 4,
 "nbformat_minor": 2
}
