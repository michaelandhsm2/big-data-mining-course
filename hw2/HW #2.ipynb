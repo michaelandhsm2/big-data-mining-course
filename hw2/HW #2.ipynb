{
 "cells": [
  {
   "cell_type": "markdown",
   "metadata": {},
   "source": [
    "# Homework 2\n",
    "\n",
    "## Description\n",
    "\n",
    "### Data\n",
    "[News Popularity in Multiple Social Media Platforms Data Set](https://archive.ics.uci.edu/ml/datasets/News+Popularity+in+Multiple+Social+Media+Platforms) - 13 CSV files, 155MB in total  \n",
    "\n",
    "This dataset contains a large set of news items and their respective social feedback on Facebook, Google + and LinkedIn.\n",
    "\n",
    "\n",
    "### Format\n",
    "One CSV File with News Data Records and 12 CSV Files with Social Feedback.\n",
    "The Social Feedback File contains the feedback from one of the social platforms {Facebook, Google+, LinkedIn} on one of the topics {Economy, Microsoft, Palestine, Obama}.\n",
    "\n",
    "#### News Data Variables\n",
    "Each record contains 11 attributes\n",
    "\n",
    "1. IDLink (numeric): Unique identifier of news items \n",
    "2. Title (string): Title of the news item according to the official media sources \n",
    "3. Headline (string): Headline of the news item according to the official media sources \n",
    "4. Source (string): Original news outlet that published the news item \n",
    "5. Topic (string): Query topic used to obtain the items in the official media sources \n",
    "6. PublishDate (timestamp): Date and time of the news items' publication \n",
    "7. SentimentTitle (numeric): Sentiment score of the text in the news items' title \n",
    "8. SentimentHeadline (numeric): Sentiment score of the text in the news items' headline \n",
    "9. Facebook (numeric): Final value of the news items' popularity according to the social media source Facebook \n",
    "10. GooglePlus (numeric): Final value of the news items' popularity according to the social media source Google+ \n",
    "11. LinkedIn (numeric): Final value of the news items' popularity according to the social media source LinkedIn \n",
    "\n",
    "#### Social Feedback Variables\n",
    "Each record contains 145 attributes\n",
    "\n",
    "1. IDLink (numeric): Unique identifier of news items \n",
    "2. TS1 (numeric): Level of popularity in time slice 1 (0-20 minutes upon publication) \n",
    "3. TS2 (numeric): Level of popularity in time slice 2 (20-40 minutes upon publication) \n",
    "4. TS... (numeric): Level of popularity in time slice ... \n",
    "5. TS144 (numeric): Final level of popularity after 2 days upon publication\n",
    "\n",
    "\n",
    "### Task\n",
    "4 subtasks:\n",
    "+ (20pt) In social feedback data, calculate the average popularity of each news by hour, and by day, respectively\n",
    "+ (20pt) In news data, calculate the sum and average sentiment score of each topic, respectively\n",
    "+ (30pt) In news data, count the words in two fields: ‘Title’ and ‘Headline’ respectively, and list the most frequent words according to the term frequency in descending order, in total, per day, and per topic, respectively\n",
    "+ (30pt) From the previous subtask, for the top-100 frequent words per topic in titles and headlines, calculate their co-occurrence matrices (100x100), respectively. Each entry in the matrix will contain the co-occurrence frequency in all news titles and headlines, respectively\n",
    "\n",
    "### Implementation Issues\n",
    "+ Large number of Attributes for each record"
   ]
  },
  {
   "cell_type": "markdown",
   "metadata": {},
   "source": [
    "## Implementation"
   ]
  },
  {
   "cell_type": "code",
   "execution_count": 1,
   "metadata": {},
   "outputs": [
    {
     "name": "stdout",
     "output_type": "stream",
     "text": [
      "Running 'locally'?: true\n",
      "Spark Entity:       org.apache.spark.sql.SparkSession@921c098\n",
      "Spark version:      2.2.0\n",
      "Spark master:       local[*]\n"
     ]
    }
   ],
   "source": [
    "// Pre-Configured Spark Context in sc\n",
    "\n",
    "println(\"Spark Entity:       \" + spark)\n",
    "println(\"Spark version:      \" + spark.version)\n",
    "println(\"Spark master:       \" + spark.sparkContext.master)\n",
    "println(\"Running 'locally'?: \" + spark.sparkContext.isLocal)"
   ]
  },
  {
   "cell_type": "code",
   "execution_count": 40,
   "metadata": {},
   "outputs": [
    {
     "name": "stdout",
     "output_type": "stream",
     "text": [
      "Available line magics:\n",
      "%lsmagic %showtypes %adddeps %truncation %addjar\n",
      "\n",
      "Available cell magics:\n",
      "%%sql %%html %%javascript %%dataframe %%pyspark %%scala %%sparkr\n",
      "\n",
      "Type %<magic_name> for usage info.\n",
      "         \n"
     ]
    }
   ],
   "source": [
    "%lsmagic"
   ]
  },
  {
   "cell_type": "markdown",
   "metadata": {},
   "source": [
    "### Task 1 - Average Popularity (By Hour, By Day)"
   ]
  },
  {
   "cell_type": "code",
   "execution_count": 11,
   "metadata": {},
   "outputs": [
    {
     "data": {
      "text/plain": [
       "inputBuffer = ArrayBuffer()\n",
       "inputPath = data/social/test\n",
       "iterator = org.apache.hadoop.fs.FileSystem$6@568bbd55\n"
      ]
     },
     "metadata": {},
     "output_type": "display_data"
    },
    {
     "data": {
      "text/plain": [
       "org.apache.hadoop.fs.FileSystem$6@568bbd55"
      ]
     },
     "execution_count": 11,
     "metadata": {},
     "output_type": "execute_result"
    }
   ],
   "source": [
    "import org.apache.hadoop.fs._\n",
    "import org.apache.hadoop.conf.Configuration\n",
    "\n",
    "val inputBuffer = scala.collection.mutable.ArrayBuffer.empty[String]\n",
    "\n",
    "val inputPath = new Path(\"./data/social/test\")\n",
    "val iterator = inputPath.getFileSystem(new Configuration()).listFiles(inputPath, true)"
   ]
  },
  {
   "cell_type": "code",
   "execution_count": 12,
   "metadata": {},
   "outputs": [
    {
     "name": "stdout",
     "output_type": "stream",
     "text": [
      "file:/home/micky/big_data/hw2/data/social/test/Facebook_Palestine.csv\n",
      "file:/home/micky/big_data/hw2/data/social/test/GooglePlus_Palestine.csv\n",
      "file:/home/micky/big_data/hw2/data/social/test/GooglePlus_Microsoft.csv\n"
     ]
    }
   ],
   "source": [
    "while(iterator.hasNext()){\n",
    "    val fileStatus = iterator.next()\n",
    "    inputBuffer += fileStatus.getPath().toString()\n",
    "}\n",
    "inputBuffer.toArray.foreach(println)"
   ]
  },
  {
   "cell_type": "code",
   "execution_count": 14,
   "metadata": {},
   "outputs": [
    {
     "name": "stdout",
     "output_type": "stream",
     "text": [
      "\n",
      "Loaded Data Sample: ((61974,0),(-1.0,1)) -- ((UID, Hour), (Popularity, Count))"
     ]
    },
    {
     "data": {
      "text/plain": [
       "flattenSocialData = UnionRDD[32] at union at <console>:58\n"
      ]
     },
     "metadata": {},
     "output_type": "display_data"
    },
    {
     "data": {
      "text/plain": [
       "UnionRDD[32] at union at <console>:58"
      ]
     },
     "execution_count": 14,
     "metadata": {},
     "output_type": "execute_result"
    }
   ],
   "source": [
    "var flattenSocialData = spark.sparkContext.emptyRDD[((String, Int), (Double, Int))]\n",
    "\n",
    "inputBuffer.toArray.foreach{ input =>\n",
    "    val data = spark.sparkContext.textFile(input)\n",
    "    val header = data.first\n",
    "    val flattenData = data.filter(l => l != header).\n",
    "    flatMap{ dataString =>\n",
    "        val attr = dataString.split(\",\")\n",
    "        attr.zipWithIndex.\n",
    "        filter{\n",
    "            case (value,index) => index >= 1\n",
    "        }.map{\n",
    "            case (value,index) => ((attr(0),(index-1)/3),(value.toDouble,1))\n",
    "        }\n",
    "    }\n",
    "    flattenSocialData = flattenSocialData.union(flattenData)\n",
    "}\n",
    "\n",
    "print(\"\\nLoaded Data Sample: \")\n",
    "flattenSocialData.take(1).foreach(print)\n",
    "print(\" -- ((UID, Hour), (Popularity, Count))\")"
   ]
  },
  {
   "cell_type": "code",
   "execution_count": 15,
   "metadata": {},
   "outputs": [
    {
     "name": "stdout",
     "output_type": "stream",
     "text": [
      "\n",
      "((16768,38),(10.0,3)) -- ((UID, Hour), (Popularity, Count))                     "
     ]
    },
    {
     "data": {
      "text/plain": [
       "pop_by_hour = ShuffledRDD[33] at reduceByKey at <console>:48\n"
      ]
     },
     "metadata": {},
     "output_type": "display_data"
    },
    {
     "data": {
      "text/plain": [
       "ShuffledRDD[33] at reduceByKey at <console>:48"
      ]
     },
     "execution_count": 15,
     "metadata": {},
     "output_type": "execute_result"
    }
   ],
   "source": [
    "flattenSocialData.persist()\n",
    "\n",
    "val pop_by_hour = flattenSocialData.\n",
    "    reduceByKey{case ((ia, ib), (ja, jb)) => (ia+ja, ib+jb)}\n",
    "\n",
    "print(\"\\nIntermediate Data Sample: \")\n",
    "pop_by_hour.take(1).foreach(print)\n",
    "print(\" -- ((UID, Hour), (Popularity, Count))\")"
   ]
  },
  {
   "cell_type": "code",
   "execution_count": 16,
   "metadata": {},
   "outputs": [
    {
     "name": "stdout",
     "output_type": "stream",
     "text": [
      "\n",
      "(18258,(Day,1,1.0)) -- ((UID, ('Day', No., Popularity Average))                 "
     ]
    },
    {
     "data": {
      "text/plain": [
       "pop_by_day = MapPartitionsRDD[36] at map at <console>:44\n"
      ]
     },
     "metadata": {},
     "output_type": "display_data"
    },
    {
     "data": {
      "text/plain": [
       "MapPartitionsRDD[36] at map at <console>:44"
      ]
     },
     "execution_count": 16,
     "metadata": {},
     "output_type": "execute_result"
    }
   ],
   "source": [
    "val pop_by_day = flattenSocialData.\n",
    "    map{case((uid, hr), (sum, count)) => ((uid, hr/24), (sum/count, 1))}.\n",
    "    reduceByKey{case ((ia, ib), (ja, jb)) => (ia+ja, ib+jb)}.\n",
    "    map{case((uid, day), (sum, count)) => (uid,(\"Day\", day, sum / count))};\n",
    "    \n",
    "\n",
    "print(\"\\nPopularity by Day Data Sample: \")\n",
    "pop_by_day.take(1).foreach(print)\n",
    "print(\" -- ((UID, ('Day', No., Popularity Average))\")"
   ]
  },
  {
   "cell_type": "code",
   "execution_count": 17,
   "metadata": {},
   "outputs": [
    {
     "name": "stdout",
     "output_type": "stream",
     "text": [
      "[Stage 17:================================================>         (5 + 1) / 6]\n",
      "(99997,CompactBuffer((Hour,0,0.0), (Hour,15,27.833333333333332), (Hour,18,38.5), (Hour,21,58.666666666666664), (Hour,14,26.166666666666668), (Hour,22,64.66666666666667), (Hour,32,110.83333333333333), (Hour,9,12.333333333333334), (Hour,31,108.83333333333333), (Hour,34,111.0), (Hour,13,24.0), (Hour,5,4.5), (Hour,26,80.83333333333333), (Hour,4,3.8333333333333335), (Hour,25,77.33333333333333), (Hour,47,148.0), (Hour,24,74.5), (Hour,41,140.33333333333334), (Hour,20,52.666666666666664), (Hour,10,16.666666666666668), (Hour,17,32.166666666666664), (Hour,37,130.16666666666666), (Hour,29,100.66666666666667), (Hour,6,5.5), (Hour,46,146.66666666666666), (Hour,38,132.16666666666666), (Hour,3,2.6666666666666665), (Hour,36,111.0), (Hour,30,104.5), (Hour,8,6.666666666666667), (Hour,16,28.0), (Hour,35,111.0), (Hour,11,20.0), (Hour,2,1.0), (Hour,42,143.0), (Hour,19,44.666666666666664), (Hour,43,144.66666666666666), (Hour,40,138.5), (Hour,39,134.5), (Hour,44,145.0), (Hour,45,145.5), (Hour,23,70.33333333333333), (Hour,33,111.0), (Hour,28,95.83333333333333), (Hour,7,5.5), (Hour,12,21.333333333333332), (Hour,1,0.0), (Hour,27,88.16666666666667), (Day,0,23.65277777777778), (Day,1,118.08333333333333)))"
     ]
    },
    {
     "data": {
      "text/plain": [
       "all_pop = ShuffledRDD[42] at sortByKey at <console>:49\n"
      ]
     },
     "metadata": {},
     "output_type": "display_data"
    },
    {
     "data": {
      "text/plain": [
       "ShuffledRDD[42] at sortByKey at <console>:49"
      ]
     },
     "execution_count": 17,
     "metadata": {},
     "output_type": "execute_result"
    }
   ],
   "source": [
    "val all_pop = pop_by_hour.\n",
    "    map{case((uid, hr), (sum, count)) => (uid,(\"Hour\", hr, sum / count))}.\n",
    "    union(pop_by_day).\n",
    "    groupByKey.\n",
    "    sortByKey(ascending = false)\n",
    "    \n",
    "print(\"\\nAll Popularity Data Sample: \")\n",
    "all_pop.take(1).foreach(println)"
   ]
  },
  {
   "cell_type": "code",
   "execution_count": 18,
   "metadata": {},
   "outputs": [
    {
     "name": "stdout",
     "output_type": "stream",
     "text": [
      "\n",
      "Sorted Data Values for 99997: Vector((Day,0,23.65277777777778), (Day,1,118.08333333333333), (Hour,0,0.0), (Hour,1,0.0), (Hour,2,1.0), (Hour,3,2.6666666666666665), (Hour,4,3.8333333333333335), (Hour,5,4.5), (Hour,6,5.5), (Hour,7,5.5), (Hour,8,6.666666666666667), (Hour,9,12.333333333333334), (Hour,10,16.666666666666668), (Hour,11,20.0), (Hour,12,21.333333333333332), (Hour,13,24.0), (Hour,14,26.166666666666668), (Hour,15,27.833333333333332), (Hour,16,28.0), (Hour,17,32.166666666666664), (Hour,18,38.5), (Hour,19,44.666666666666664), (Hour,20,52.666666666666664), (Hour,21,58.666666666666664), (Hour,22,64.66666666666667), (Hour,23,70.33333333333333), (Hour,24,74.5), (Hour,25,77.33333333333333), (Hour,26,80.83333333333333), (Hour,27,88.16666666666667), (Hour,28,95.83333333333333), (Hour,29,100.66666666666667), (Hour,30,104.5), (Hour,31,108.83333333333333), (Hour,32,110.83333333333333), (Hour,33,111.0), (Hour,34,111.0), (Hour,35,111.0), (Hour,36,111.0), (Hour,37,130.16666666666666), (Hour,38,132.16666666666666), (Hour,39,134.5), (Hour,40,138.5), (Hour,41,140.33333333333334), (Hour,42,143.0), (Hour,43,144.66666666666666), (Hour,44,145.0), (Hour,45,145.5), (Hour,46,146.66666666666666), (Hour,47,148.0))"
     ]
    },
    {
     "data": {
      "text/plain": [
       "test_tuple = (99997,CompactBuffer((Hour,0,0.0), (Hour,15,27.833333333333332), (Hour,18,38.5), (Hour,21,58.666666666666664), (Hour,14,26.166666666666668), (Hour,22,64.66666666666667), (Hour,32,110.83333333333333), (Hour,9,12.333333333333334), (Hour,31,108.83333333333333), (Hour,34,111.0), (Hour,13,24.0), (Hour,5,4.5), (Hour,26,80.83333333333333), (Hour,4,3.8333333333333335), (Hour,25,77.33333333333333), (Hour,47,148.0), (Hour,24,74.5), (Hour,41,140.33333333333334), (Hour,20,52.666666666666664), (Hour,10,16.666666666666668), (Hour,17,32.166666666666664), (Hour,37,130.16666666666666), (Hour,29,100.66666666666667), (Hour,6,5.5), (Hour,46,146.66666666666666), (Hour,38,132.16666666666666), (Hour,3,2.6666666666666665), (Hour,36,111.0), (Hour,30,104.5)...\n"
      ]
     },
     "metadata": {},
     "output_type": "display_data"
    },
    {
     "data": {
      "text/plain": [
       "(99997,CompactBuffer((Hour,0,0.0), (Hour,15,27.833333333333332), (Hour,18,38.5), (Hour,21,58.666666666666664), (Hour,14,26.166666666666668), (Hour,22,64.66666666666667), (Hour,32,110.83333333333333), (Hour,9,12.333333333333334), (Hour,31,108.83333333333333), (Hour,34,111.0), (Hour,13,24.0), (Hour,5,4.5), (Hour,26,80.83333333333333), (Hour,4,3.8333333333333335), (Hour,25,77.33333333333333), (Hour,47,148.0), (Hour,24,74.5), (Hour,41,140.33333333333334), (Hour,20,52.666666666666664), (Hour,10,16.666666666666668), (Hour,17,32.166666666666664), (Hour,37,130.16666666666666), (Hour,29,100.66666666666667), (Hour,6,5.5), (Hour,46,146.66666666666666), (Hour,38,132.16666666666666), (Hour,3,2.6666666666666665), (Hour,36,111.0), (Hour,30,104.5), (Hour,8,6.666666666666667), (Hour,16,28.0), (Hour,35,111.0), (Hour,11,20.0), (Hour,2,1.0), (Hour,42,143.0), (Hour,19,44.666666666666664), (Hour,43,144.66666666666666), (Hour,40,138.5), (Hour,39,134.5), (Hour,44,145.0), (Hour,45,145.5), (Hour,23,70.33333333333333), (Hour,33,111.0), (Hour,28,95.83333333333333), (Hour,7,5.5), (Hour,12,21.333333333333332), (Hour,1,0.0), (Hour,27,88.16666666666667), (Day,0,23.65277777777778), (Day,1,118.08333333333333)))"
      ]
     },
     "execution_count": 18,
     "metadata": {},
     "output_type": "execute_result"
    }
   ],
   "source": [
    "val test_tuple = all_pop.first()\n",
    "print(\"\\nSorted Data Values for \"+test_tuple._1+\": \")\n",
    "print(test_tuple._2.toVector.sortBy { tup => (tup._1, tup._2) })"
   ]
  },
  {
   "cell_type": "code",
   "execution_count": 19,
   "metadata": {},
   "outputs": [
    {
     "name": "stdout",
     "output_type": "stream",
     "text": [
      "\n",
      "Finalized Data Sample: 99997,23.65277777777778,118.08333333333333,0.0,0.0,1.0,2.6666666666666665,3.8333333333333335,4.5,5.5,5.5,6.666666666666667,12.333333333333334,16.666666666666668,20.0,21.333333333333332,24.0,26.166666666666668,27.833333333333332,28.0,32.166666666666664,38.5,44.666666666666664,52.666666666666664,58.666666666666664,64.66666666666667,70.33333333333333,74.5,77.33333333333333,80.83333333333333,88.16666666666667,95.83333333333333,100.66666666666667,104.5,108.83333333333333,110.83333333333333,111.0,111.0,111.0,111.0,130.16666666666666,132.16666666666666,134.5,138.5,140.33333333333334,143.0,144.66666666666666,145.0,145.5,146.66666666666666,148.0\n"
     ]
    },
    {
     "data": {
      "text/plain": [
       "all_tuple = MapPartitionsRDD[43] at map at <console>:47\n"
      ]
     },
     "metadata": {},
     "output_type": "display_data"
    },
    {
     "data": {
      "text/plain": [
       "MapPartitionsRDD[43] at map at <console>:47"
      ]
     },
     "execution_count": 19,
     "metadata": {},
     "output_type": "execute_result"
    }
   ],
   "source": [
    "val all_tuple = all_pop.map { case(uid, iterable) => \n",
    "    val vect = iterable.toVector.sortBy { tup => \n",
    "        (tup._1, tup._2)\n",
    "    }.map{ case (doh, no, value) => value }\n",
    "    uid+\",\"+vect.mkString(\",\")\n",
    "}\n",
    "print(\"\\nFinalized Data Sample: \")\n",
    "all_tuple.take(1).foreach(println)"
   ]
  },
  {
   "cell_type": "code",
   "execution_count": 12,
   "metadata": {},
   "outputs": [],
   "source": [
    "all_tuple.saveAsTextFile(\"./output\")"
   ]
  },
  {
   "cell_type": "markdown",
   "metadata": {},
   "source": [
    "### Task 2 - Sum and Average Sentiment Score For Each Topic"
   ]
  },
  {
   "cell_type": "code",
   "execution_count": 23,
   "metadata": {},
   "outputs": [
    {
     "name": "stdout",
     "output_type": "stream",
     "text": [
      "\"IDLink\",\"Title\",\"Headline\",\"Source\",\"Topic\",\"PublishDate\",\"SentimentTitle\",\"SentimentHeadline\",\"Facebook\",\"GooglePlus\",\"LinkedIn\"\n",
      "99248,\"Obama Lays Wreath at Arlington National Cemetery\",\"Obama Lays Wreath at Arlington National Cemetery. President Barack Obama has laid a wreath at the Tomb of the Unknowns to honor\",\"USA TODAY\",\"obama\",\"2002-04-02 00:00:00\",0,-0.0533001790889026,-1,-1,-1\n",
      "10423,\"A Look at the Health of the Chinese Economy\",\"Tim Haywood, investment director business-unit head for fixed income at Gam, discusses the China beige book and the state of the economy.\",\"Bloomberg\",\"economy\",\"2008-09-20 00:00:00\",0.208333333333333,-0.156385810542806,-1,-1,-1\n"
     ]
    },
    {
     "data": {
      "text/plain": [
       "newsData = ./data/news.csv MapPartitionsRDD[51] at textFile at <console>:41\n"
      ]
     },
     "metadata": {},
     "output_type": "display_data"
    },
    {
     "data": {
      "text/plain": [
       "./data/news.csv MapPartitionsRDD[51] at textFile at <console>:41"
      ]
     },
     "execution_count": 23,
     "metadata": {},
     "output_type": "execute_result"
    }
   ],
   "source": [
    "val newsData = spark.sparkContext.textFile(\"./data/news.csv\")\n",
    "newsData.take(3).foreach(println)"
   ]
  },
  {
   "cell_type": "code",
   "execution_count": 75,
   "metadata": {},
   "outputs": [
    {
     "data": {
      "text/plain": [
       "newsData = MapPartitionsRDD[311] at rdd at <console>:41\n"
      ]
     },
     "metadata": {},
     "output_type": "display_data"
    },
    {
     "data": {
      "text/plain": [
       "MapPartitionsRDD[311] at rdd at <console>:41"
      ]
     },
     "execution_count": 75,
     "metadata": {},
     "output_type": "execute_result"
    }
   ],
   "source": [
    "val newsData = spark.read.format(\"csv\")\n",
    "  .option(\"header\", \"true\")\n",
    "  .load(\"./data/news.csv\").rdd;"
   ]
  },
  {
   "cell_type": "code",
   "execution_count": 110,
   "metadata": {},
   "outputs": [
    {
     "name": "stdout",
     "output_type": "stream",
     "text": [
      "\n",
      "Flatten Sentient Score Sample: (obama,(0.0,-0.0533001790889026,1)) -- (Topic, (Title Sentient Score, Headline Sentient Score)\n",
      "\n"
     ]
    },
    {
     "data": {
      "text/plain": [
       "flattenSentientScore = MapPartitionsRDD[331] at map at <console>:44\n"
      ]
     },
     "metadata": {},
     "output_type": "display_data"
    },
    {
     "data": {
      "text/plain": [
       "MapPartitionsRDD[331] at map at <console>:44"
      ]
     },
     "execution_count": 110,
     "metadata": {},
     "output_type": "execute_result"
    }
   ],
   "source": [
    "val flattenSentientScore = newsData.\n",
    "  map{ attr =>\n",
    "      (attr.get(4),(attr.get(6).toString.toDouble, attr.get(7).toString.toDouble, 1))\n",
    "  }\n",
    "\n",
    "print(\"\\nFlatten Sentient Score Sample: \")\n",
    "flattenSentientScore.take(1).foreach(print)\n",
    "print(\" -- (Topic, (Title Sentient Score, Headline Sentient Score, Count))\\n\\n\")"
   ]
  },
  {
   "cell_type": "code",
   "execution_count": 113,
   "metadata": {},
   "outputs": [
    {
     "name": "stdout",
     "output_type": "stream",
     "text": [
      "\n",
      "Flatten Sentient Score Sample: (economy,(-0.216876698802048,0.1505171962963803,4))(obama,(0.0833333333333333,0.049702577676314405,2))(microsoft,(-0.1349140451704208,-0.0449422627877205,2)) -- (Topic, (Title Sentient Score, Headline Sentient Score)\n",
      "\n"
     ]
    },
    {
     "data": {
      "text/plain": [
       "smallerSampleSize = ParallelCollectionRDD[336] at parallelize at <console>:48\n",
       "reducedSentientScore = ShuffledRDD[337] at reduceByKey at <console>:49\n"
      ]
     },
     "metadata": {},
     "output_type": "display_data"
    },
    {
     "data": {
      "text/plain": [
       "ShuffledRDD[337] at reduceByKey at <console>:49"
      ]
     },
     "execution_count": 113,
     "metadata": {},
     "output_type": "execute_result"
    }
   ],
   "source": [
    "var smallerSampleSize = sc.parallelize(flattenSentientScore.take(10))\n",
    "var reducedSentientScore = smallerSampleSize.reduceByKey(\n",
    "    (a,b) =>\n",
    "    (a._1 + b._1, a._2+ b._2, a._3 + b._3)\n",
    ")\n",
    "\n",
    "print(\"\\Reduced Sentient Score Sample: \")\n",
    "reducedSentientScore.take(1).foreach(print)\n",
    "print(\" -- (Topic, (Title Sentient Score, Headline Sentient Score, Count))\\n\\n\")"
   ]
  },
  {
   "cell_type": "code",
   "execution_count": 124,
   "metadata": {
    "scrolled": true
   },
   "outputs": [
    {
     "name": "stdout",
     "output_type": "stream",
     "text": [
      "\n",
      "Final Sentient Score: \n",
      "\n",
      "For economy (4 entries): \n",
      "        Sum of Title Sentient Score: -0.216876698802048\n",
      "        Sum of Headline Sentient Score: 0.1505171962963803\n",
      "        Average of Title Sentient Score: -0.054219174700512\n",
      "        Average of Headline Sentient Score: 0.037629299074095075\n",
      "\n",
      "For obama (2 entries): \n",
      "        Sum of Title Sentient Score: 0.0833333333333333\n",
      "        Sum of Headline Sentient Score: 0.049702577676314405\n",
      "        Average of Title Sentient Score: 0.04166666666666665\n",
      "        Average of Headline Sentient Score: 0.024851288838157203\n",
      "\n",
      "For microsoft (2 entries): \n",
      "        Sum of Title Sentient Score: -0.1349140451704208\n",
      "        Sum of Headline Sentient Score: -0.0449422627877205\n",
      "        Average of Title Sentient Score: -0.0674570225852104\n",
      "        Average of Headline Sentient Score: -0.02247113139386025\n",
      "\n",
      "For palestine (2 entries): \n",
      "        Sum of Title Sentient Score: -0.173925271309261\n",
      "        Sum of Headline Sentient Score: -0.05609038667495457\n",
      "        Average of Title Sentient Score: -0.0869626356546305\n",
      "        Average of Headline Sentient Score: -0.028045193337477285\n",
      "\n"
     ]
    },
    {
     "data": {
      "text/plain": [
       "finalSentientScore = MapPartitionsRDD[344] at map at <console>:51\n"
      ]
     },
     "metadata": {},
     "output_type": "display_data"
    },
    {
     "data": {
      "text/plain": [
       "myprint: (s: (Any, Double, Double, Double, Double, Any))Unit\n"
      ]
     },
     "metadata": {},
     "output_type": "display_data"
    },
    {
     "data": {
      "text/plain": [
       "MapPartitionsRDD[344] at map at <console>:51"
      ]
     },
     "execution_count": 124,
     "metadata": {},
     "output_type": "execute_result"
    }
   ],
   "source": [
    "var finalSentientScore = reducedSentientScore.map{\n",
    "    case (topic,(titleSum, headSum, count)) =>\n",
    "    (topic, titleSum, headSum, titleSum/count, headSum/count, count)\n",
    "}\n",
    "\n",
    "def myprint(s: Tuple6[Any, Double, Double, Double, Double, Any]): Unit = {\n",
    "        println(\"For \"+s._1+\" (\"+s._6+\" entries): \")\n",
    "        println(\"        Sum of Title Sentient Score: \" + s._2)\n",
    "        println(\"        Sum of Headline Sentient Score: \" + s._3)\n",
    "        println(\"        Average of Title Sentient Score: \" + s._4)\n",
    "        println(\"        Average of Headline Sentient Score: \" + s._5 + \"\\n\")\n",
    "    }\n",
    "\n",
    "println(\"\\nFinal Sentient Score: \\n\")\n",
    "finalSentientScore.collect().foreach(myprint)"
   ]
  },
  {
   "cell_type": "code",
   "execution_count": null,
   "metadata": {},
   "outputs": [],
   "source": []
  },
  {
   "cell_type": "markdown",
   "metadata": {},
   "source": [
    "103820004 Michael Fu"
   ]
  }
 ],
 "metadata": {
  "kernelspec": {
   "display_name": "Apache Toree - Scala",
   "language": "scala",
   "name": "apache_toree_scala"
  },
  "language_info": {
   "codemirror_mode": "text/x-scala",
   "file_extension": ".scala",
   "mimetype": "text/x-scala",
   "name": "scala",
   "pygments_lexer": "scala",
   "version": "2.11.8"
  }
 },
 "nbformat": 4,
 "nbformat_minor": 2
}
