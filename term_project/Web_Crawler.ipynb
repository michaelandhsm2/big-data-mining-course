{
 "cells": [
  {
   "cell_type": "markdown",
   "metadata": {},
   "source": [
    "# RSS Crawler for Ney York Times Articles"
   ]
  },
  {
   "cell_type": "code",
   "execution_count": null,
   "metadata": {},
   "outputs": [],
   "source": []
  },
  {
   "cell_type": "code",
   "execution_count": 1,
   "metadata": {},
   "outputs": [],
   "source": [
    "rss_list = ['http://rss.nytimes.com/services/xml/rss/nyt/World.xml', \n",
    "       'http://rss.nytimes.com/services/xml/rss/nyt/Technology.xml', \n",
    "       'http://rss.nytimes.com/services/xml/rss/nyt/US.xml', \n",
    "       'http://rss.nytimes.com/services/xml/rss/nyt/Business.xml']"
   ]
  },
  {
   "cell_type": "code",
   "execution_count": 2,
   "metadata": {},
   "outputs": [],
   "source": [
    "import re\n",
    "\n",
    "def text(_test):\n",
    "    return _test.replace(\"’\", \"'\").replace(\"‘\", \"'\").replace(\"“\", \"\\\"\").replace(\"”\", \"\\\"\").replace(\"—\", \"-\").replace(\"•\", \"\")\n",
    "    \n",
    "\n",
    "def Process_Article(article_category, rss_article, link_result):\n",
    "        article_title = text(rss_article.title.text)\n",
    "        article_description = text(rss_article.description.text)\n",
    "        article_time = (rss_article.pubDate.text)\n",
    "        \n",
    "        keywords = []\n",
    "        for category in rss_article.findAll('category', attrs={\"domain\": \"http://www.nytimes.com/namespaces/keywords/des\"}):\n",
    "            keywords.append(text(category.text))\n",
    "        article_keywords = ', '.join(keywords)\n",
    "        \n",
    "        paragraphs = []\n",
    "        article_soup = BeautifulSoup(link_result, 'html.parser').find('article')\n",
    "        if(article_soup != None):\n",
    "            for segment in article_soup.findAll('div', class_=\"StoryBodyCompanionColumn\"):\n",
    "                for paragraph in segment.findAll('p'):\n",
    "                    paragraphs.append(text(paragraph.text))\n",
    "        article_paragraphs = ' '.join(paragraphs)\n",
    "        \n",
    "        return [article_title, article_category, article_time, article_keywords, article_description, article_paragraphs]"
   ]
  },
  {
   "cell_type": "code",
   "execution_count": 3,
   "metadata": {},
   "outputs": [
    {
     "name": "stdout",
     "output_type": "stream",
     "text": [
      "Merkel Says Migration Could Make or Break the E.U.\n",
      "Beijing Dispatch: Mao 101: Inside a Chinese Classroom Training the Communists of Tomorrow\n",
      "Helsinki Summit Meeting Is Set for Trump and Putin\n",
      "Britain Abetted U.S. Torture of Terrorism Suspects, Parliament Finds\n",
      "Rescue Team in Thailand to Drill Into Cave to Try to Reach Trapped Boys\n",
      "Mattis, in South Korea, Affirms ‘Ironclad’ Alliance Despite Halt to Drills\n",
      "Australian Law Targets Foreign Interference. China Is Not Pleased.\n",
      "South Korea Must Offer Civilian Alternatives to Military Service, Court Rules\n",
      "Maryland, Supreme Court, Russia: Your Thursday Evening Briefing\n",
      "Letter 64: ‘Somewhere in Australia,’ Explained\n",
      "Israeli Judge Convicts Man on Charges of Threatening U.S. Jewish Groups\n",
      "French Cement Giant Lafarge Indicted on Terror Financing Charge in Syria\n",
      "Captured on Video, Jogger Is Elusive After Pushing Woman Into Traffic\n",
      "Chartered Plane Crashes in Mumbai, Killing at Least 5\n",
      "Fire at Nairobi Market Kills at Least 15\n",
      "Mexican Soccer Fans’ New Champions: The South Korean Squad\n",
      "Shanghai Knife Attack Kills Two Schoolchildren\n",
      "As Cameroon English Speakers Fight to Break Away, Violence Mounts\n",
      "Dutch Lawmakers Approve Partial Ban on Burqas and Niqabs\n",
      "Other Countries Forge Ahead on Crypto Regulations\n",
      "A Victory for Coral: Unesco Removes Belize Reef From Its Endangered List\n",
      "U.N. Reports Sharp Increase in Children Killed or Maimed in Conflicts\n",
      "China and Russia Move to Cut Human Rights Jobs in U.N. Peacekeeping\n",
      "Supreme Court, Disney, Unions: Your Wednesday Evening Briefing\n",
      "Rescue Ship Docks in Malta as 8 Nations Agree to Take Its Migrants\n",
      "China Won’t Yield ‘Even One Inch’ of South China Sea, Xi Tells Mattis\n",
      "O.P.C.W., Chemical Weapons Watchdog, Gets Power to Assign Blame\n",
      "Moroccan Protest Leader Is Sentenced to 20 Years in Prison\n",
      "E.U. Leader Warns of ‘Worst-Case Scenarios,’ Citing Trump\n",
      "Hills Ablaze Above Manchester as U.K. Wildfire Rages for 4th Day\n",
      "Sudan Won’t Execute Woman Who Killed Husband After Reported Rape, Lawyer Says\n",
      "A Peace Deal for South Sudan Is Signed. Will It Last?\n",
      "Trump and Putin Will Hold Summit Meeting, Officials Say\n",
      "Facebook Halts Aquila, Its Internet Drone Project\n",
      "Poland’s Holocaust Law Weakened After ‘Storm and Consternation’\n",
      "As Search for Thai Boys Lost in Cave Hits Day 5, a Nation Holds Its Breath\n",
      "In Hong Kong, Where Guns Are Rare, Deadly Shooting Shocks Residents\n",
      "A Nightmare for Mexico’s Soccer Opponents: More Chuckys On the Way\n",
      "Tropical Forests Suffered Near-Record Tree Losses in 2017\n",
      "BULLETIN BOARD: Our International Report Becomes a Bit More Modern\n",
      "18 Ways to Navigate Stress at the Airport\n",
      "Australia Diary: The Poetry of Urban Angst\n",
      "Tiaras, Purses and Cash: Malaysia Seizes Record Haul From Ex-Leader Najib\n",
      "Trump Travel Ban: How It Affects the Countries\n",
      "Roiling Markets, U.S. Insists World Must Stop Buying Iranian Oil\n",
      "Supreme Court, Primaries, Lionel Messi: Your Tuesday Evening Briefing\n",
      "As Mexico Election Nears, Call for Change Finds Wider Audience\n",
      "Amazon to Buy Online Pharmacy PillPack, Jumping Into the Drug Business\n",
      "Facebook and Twitter Expand Peek Into Who’s Behind Their Ads\n",
      "Can Raya Install a Wondrous Utopia While Also Helping Celebrities Hook Up?\n",
      "Tech We’re Using: Now He Pulls Data Off the Web. In 1979, It Was Clips From the ‘Morgue.’\n",
      "A Senate Committee Votes for Peace in the Music Industry\n",
      "Tech Tip: Explore the Great Indoors\n",
      "Amazon Has a Business Proposition for You: Deliver Its Packages\n",
      "Despite Caution Over Cryptocurrency, Investors Are Bullish\n",
      "Apple and Samsung End Smartphone Patent Wars\n",
      "Genealogists Turn to Cousins’ DNA and Family Trees to Crack Five More Cold Cases\n",
      "Instagram Now Looks Like a Bargain\n",
      "NASA Again Delays Launch of Troubled Webb Telescope; Cost Estimate Rises to $9.7 Billion\n",
      "Facebook Halts Aquila, Its Internet Drone Project\n",
      "Tech Tip: Use the iPhone’s Sleep Diary\n",
      "Trump Backs Softer Restrictions on Chinese Investment\n",
      "State of the Art: We Have Reached Peak Screen. Now Revolution Is in the Air.\n",
      "Uber Regains Its License to Operate in London, a Win for Its New C.E.O.\n",
      "Tech Tip: Find Free (Old) Feature Films Online\n",
      "Top Tech Companies Met With Intelligence Officials to Discuss Midterms\n",
      "With Cryptocurrencies in Free Fall, One Big Firm Doubles Down\n",
      "Frank Heart, Who Linked Computers Before the Internet, Dies at 89\n",
      "Supreme Court Sides With American Express on Merchant Fees\n",
      "Robots or Job Training: Manufacturers Grapple With How to Improve Their Economic Fortunes\n",
      "Tech Tip: Taking a Vacation From Email\n",
      "China Extends Lead as Most Prolific Supercomputer Maker\n",
      "Advertising: Advertisers Sip Rosé and Ponder Ethics in South of France\n",
      "Uber Claims to Have Changed. A London Judge Will Decide.\n",
      "Thermostats, Locks and Lights: Digital Tools of Domestic Abuse\n",
      "James Gips, Who Extended Computer Use to the Disabled, Dies at 72\n",
      "Want to Feel Happier? Your Phone Can Help. (Maybe.)\n",
      "Tech Tip: Locked Out of Your iPhone? Here’s What to Do\n",
      "Bits: The Week in Tech: Silicon Valley Gets Even More Political\n",
      "A Day Care and a Dog Rescue Benefit: On Facebook, They Were Political Ads\n",
      "Elated v. Scared: Americans Are Divided on Justice Kennedy’s Retirement\n",
      "For Survivors of Japanese Internment Camps, Court’s Korematsu Ruling Is ‘Bittersweet’\n",
      "5 People Killed in Shooting at Capital Gazette Newspaper in Maryland\n",
      "Multiple Fatalities at Capital Gazette Newspaper in Annapolis\n",
      "‘This Is Intimidation’: Interview With ICE Whistle-Blower Is Interrupted by Federal Agents\n",
      "All Over U.S., Local Officials Cancel Deals to Detain Immigrants\n",
      "White Supremacists’ Use of Campus Propaganda Is Soaring, Report Finds\n",
      "Immigration Lawyer Broke Her Foot When ICE Officer Pushed Her, She Says\n",
      "Maryland, Supreme Court, Russia: Your Thursday Evening Briefing\n",
      "Former ICE Lawyer Sentenced to Four Years in Prison for Stealing Immigrants’ Identities\n",
      "Agents Seek to Dissolve I.C.E. in Immigration Policy Backlash\n",
      "Fact Check of the Day: 4 Misleading or False Claims From Trump’s North Dakota Rally\n",
      "Will a Shocker in New York Have a Ripple Effect in Massachusetts?\n",
      "‘Harry Potter and the Cursed Child’ Will Open in San Francisco\n",
      "Kennedy’s Retirement Could Clear Path for Trump’s Environmental Rollbacks\n",
      "Fighting Privilege: The Senate Finally Wants to Pay Its Interns\n",
      "Fact Check of the Day: Trump Falsely Claims to Be First Republican to Win Wisconsin Since Eisenhower\n",
      "$16 Million vs. $4: Why Payouts in Police Shootings Vary Widely\n",
      "On Washington: Denied a Filibuster, Democrats Eye Other Tactics in Supreme Court Fight\n",
      "I.R.S. Nominee Says He Won’t Weaponize Agency\n",
      "In Human Trafficking Report, State Dept. Warns Against Separating Children From Parents\n",
      "House G.O.P. Breaks Into Open Warfare With Rosenstein, Demanding Russia Files\n",
      "Ex-Aide to Roger Stone Is Subpoenaed in Russia Investigation\n",
      "Political War Over Replacing Justice Kennedy on Supreme Court Underway\n",
      "Wisconsin Lawmakers Outraged After Ex-Student Gets ‘Lenient’ Sentence for Sex Crimes\n",
      "California Today: California Today: Testing a Strategy to Stop New Soda Taxes\n",
      "Helsinki Summit Meeting Is Set for Trump and Putin\n",
      "Supreme Court Justice Anthony Kennedy Is Retiring. What Happens Now?\n",
      "Anthony Kennedy, Immigration, World Cup: Your Thursday Briefing\n",
      "Trump, at Rally, Vows to Carry On Anthony Kennedy’s Legacy With Court Pick\n",
      "Kennedy Retirement Injects an Inflammatory New Issue Into Midterms\n",
      "Fact Check of the Day: Democrats Cite McConnell’s Precedent to Delay Supreme Court Hearings. But Does It Apply? \n",
      "Departure of Kennedy, ‘Firewall for Abortion Rights,’ Could End Roe v. Wade\n",
      "News Analysis: Anthony Kennedy’s Exit May Echo for Generations\n",
      "Top Democrat’s Defeat Throws Party Leadership Into Turmoil\n",
      "Pompeo Outlines Plans for Global Challenges, Including Venezuela and Palestinian Refugees\n",
      "News Analysis: In Influence if Not in Title, This Has Been the Kennedy Court\n",
      "Fans of XXXTentacion React to His Public Memorial on Social Media\n",
      "A Seismic Change in Predicting How Earthquakes Will Shake Tall Buildings\n",
      "Ben Jealous ‘Just Climbed K2’ in Maryland Governor’s Race. Next Is Everest.\n",
      "Amazon to Buy Online Pharmacy PillPack, Jumping Into the Drug Business\n",
      "Amazon Has a Business Proposition for You: Deliver Its Packages\n",
      "DealBook: Demystifying the Blockchain\n",
      "Comcast Has Fallen Behind Disney in the Pursuit of Fox. Here Are Its Options.\n",
      "With Jobs to Fill, Businesses Play the Visa Lottery\n",
      "Trump Backs Softer Restrictions on Chinese Investment\n",
      "Justice Dept. Approves Disney’s Purchase of Fox Assets\n",
      "Chobani, the Greek Yogurt Maker, Reclaims Control of Its Finances\n",
      "Tech We’re Using: Now He Pulls Data Off the Web. In 1979, It Was Clips From the ‘Morgue.’\n",
      "8 States Impose New Rules on Equifax After Data Breach\n",
      "News Analysis: Labor Unions Will Be Smaller After Supreme Court Decision, but Maybe Not Weaker\n",
      "US Tech Stocks Jump; Amazon Deal Shakes Health Care Firms\n",
      "A Senate Committee Votes for Peace in the Music Industry\n",
      "‘Stress Tests’ Results Clear Way for Big Banks to Reward Investors\n",
      "Why Have Bank Stocks Had Such a Bad Two Weeks? A Flattening Yield Curve\n",
      "Another Equifax Employee Faces Charge of Insider Trading After Big Breach\n",
      "French Cement Giant Lafarge Indicted on Terror Financing Charge in Syria\n",
      "Bridgewater Plans to Become a Partnership as Ray Dalio Takes a Step Back\n",
      "Trump’s Trade Threats Hit China’s Stock Market and Currency\n",
      "Wheels: A Gated Community for a Home on Wheels\n",
      "John Legend Plunges Into the Celebrity Rosé Business\n",
      "After #MeToo, the Ripple Effect\n",
      "Confused About Blockchains? Here’s What You Need to Know\n",
      "FUD and HODL: How to Speak Cryptoslang\n",
      "Industries, Looking for Efficiency, Turn to Blockchains\n",
      "Governments Explore Using Blockchains to Improve Service\n",
      "The People Leading the Blockchain Revolution\n",
      "Essay: A Field Guide to the Hurdles Facing Blockchain Adoption\n",
      "If Fund Managers Back Bitcoin\n"
     ]
    }
   ],
   "source": [
    "import requests\n",
    "from bs4 import BeautifulSoup\n",
    "import csv\n",
    "\n",
    "for rss in rss_list:\n",
    "    rss_result = requests.get(rss)\n",
    "    if(rss_result.status_code == 200):\n",
    "        rss_soup = BeautifulSoup(rss_result.text, \"lxml-xml\")\n",
    "        rss_title = rss_soup.rss.channel.title.text\n",
    "        with open('./data/'+rss_title+'.csv', \"w\", encoding=\"utf_8\") as csv_file:\n",
    "            writer = csv.writer(csv_file, delimiter=',', quoting=csv.QUOTE_ALL)\n",
    "            for rss_article in rss_soup.findAll('item'):\n",
    "                link_result = requests.get(rss_article.link.text)\n",
    "                print(rss_article.title.text)\n",
    "                if(link_result.status_code == 200):\n",
    "                    writer.writerow(Process_Article(rss_title, rss_article, link_result.text))\n"
   ]
  },
  {
   "cell_type": "code",
   "execution_count": null,
   "metadata": {},
   "outputs": [],
   "source": []
  },
  {
   "cell_type": "markdown",
   "metadata": {},
   "source": [
    "## Parsing RSS Feeds"
   ]
  },
  {
   "cell_type": "code",
   "execution_count": 51,
   "metadata": {},
   "outputs": [
    {
     "data": {
      "text/plain": [
       "200"
      ]
     },
     "execution_count": 51,
     "metadata": {},
     "output_type": "execute_result"
    }
   ],
   "source": [
    "import requests\n",
    "result = requests.get(\"http://rss.nytimes.com/services/xml/rss/nyt/World.xml\")\n",
    "data = result.text\n",
    "result.status_code"
   ]
  },
  {
   "cell_type": "code",
   "execution_count": 64,
   "metadata": {},
   "outputs": [
    {
     "name": "stdout",
     "output_type": "stream",
     "text": [
      "NYT > World\n",
      "Erdogan’s Election Win Gives Him Vastly Expanded Powers in Turkey\n",
      "https://www.nytimes.com/2018/06/24/world/europe/turkey-election-erdogan.html?partner=rss&emc=rss\n",
      "President Recep Tayyip Erdogan of Turkey at a polling station in Istanbul on Sunday.\n",
      "Elections\n",
      "Politics and Government\n",
      "Voting and Voters\n"
     ]
    }
   ],
   "source": [
    "from bs4 import BeautifulSoup\n",
    "soup = BeautifulSoup(data, \"lxml-xml\")\n",
    "print(soup.rss.channel.title.text)\n",
    "rss_article = soup.find('item')\n",
    "print(rss_article.title.text)\n",
    "print(rss_article.link.text)\n",
    "print(rss_article.description.text)\n",
    "for category in rss_article.findAll('category', attrs={\"domain\": \"http://www.nytimes.com/namespaces/keywords/des\"}):\n",
    "    print(category.text)"
   ]
  },
  {
   "cell_type": "markdown",
   "metadata": {},
   "source": [
    "## Parsing Individual Websites"
   ]
  },
  {
   "cell_type": "code",
   "execution_count": 67,
   "metadata": {},
   "outputs": [
    {
     "data": {
      "text/plain": [
       "200"
      ]
     },
     "execution_count": 67,
     "metadata": {},
     "output_type": "execute_result"
    }
   ],
   "source": [
    "import requests\n",
    "result = requests.get(\"https://www.nytimes.com/2018/06/24/world/europe/turkey-election-erdogan.html\")\n",
    "data = result.text\n",
    "result.status_code"
   ]
  },
  {
   "cell_type": "code",
   "execution_count": 68,
   "metadata": {},
   "outputs": [],
   "source": [
    "from bs4 import BeautifulSoup\n",
    "soup = BeautifulSoup(data, 'html.parser')\n",
    "article = soup.find('article')"
   ]
  },
  {
   "cell_type": "code",
   "execution_count": 70,
   "metadata": {},
   "outputs": [
    {
     "name": "stdout",
     "output_type": "stream",
     "text": [
      "ANKARA, Turkey — Turkish voters gave President Recep Tayyip Erdogan a decisive victory in national elections on Sunday, lengthening his 15-year grip on power and granting him vastly expanded authority over the legislature and judiciary.The election was the first to be held since Turkish voters narrowly approved a referendum last year to give the president — once a largely ceremonial role — sweeping executive powers. Mr. Erdogan will also have a pliant Parliament, with his conservative party and its allies having won about 53 percent of the vote in legislative elections on Sunday.Mr. Erdogan has overseen a crackdown on lawyers, judges, civil servants and journalists under a state of emergency declared after a failed coup two years ago. His critics had portrayed Sunday’s election as their last chance to prevent Turkey from becoming an authoritarian state.The victory has potentially grave consequences for cooperation within NATO, security in Iraq and Syria, and control of immigration flows into Europe.\n",
      "\n",
      "Turkey has continued to cooperate with its Western partners on counterterrorism efforts, but Mr. Erdogan has tested the NATO alliance by drawing closer to President Vladimir V. Putin of Russia, buying an advanced Russian missile defense system and planning a Russian-built nuclear reactor in Turkey.As in other countries where strongmen have gained at the ballot box, many Turkish voters appeared to have accepted Mr. Erdogan’s argument that powerful centralized authority was essential to forge a strong state and guard against the threat of terrorism.\n",
      "\n",
      "The results released by the official Anadolu news agency showed Mr. Erdogan with just under 53 percent of the vote, enough to spare him from a runoff against his leading challenger, Muharrem Ince, who won nearly 31 percent.At 10:30 p.m., Mr. Erdogan, 64, gave a short televised speech to applauding supporters at the gates of Huber Pavilion, one of his residences in Istanbul.\n",
      "\n",
      "“It seems the nation has entrusted me with the duty of the presidency, and to us a very big responsibility in the legislature,” Mr. Erdogan said. “Turkey has given a lesson of democracy with a turnout of close to 90 percent. I hope that some will not provoke to hide their own failure.”Mr. Erdogan said he would travel to Ankara, the capital, to make his traditional victory speech from the balcony of his party headquarters.Flag-waving crowds gathered after midnight at the party headquarters, waiting for him to appear. He finally emerged at 3 a.m. Monday.Mr. Erdogan acknowledged that his own party had taken a hit in the campaign, but said the result was a vindication of his ability to deliver. “The winner is the politics of providing services,” he said. “The winner is the supremacy of the national will. The winner is Turkey, the Turkish nation. The winner is all the aggrieved people in our region, all the oppressed in the world.”\n",
      "\n",
      "Opposition parties initially called his claim of victory premature, but after midnight, Bulent Tezcan, the vice chairman of Mr. Ince’s party, the Republican People’s Party, conceded defeat in a brief televised speech.“Our citizens should not be provoked, whatever the result is,” he said, urging his supporters to continue their campaign for democracy through peaceful means.\n",
      "\n",
      "The victory means Mr. Erdogan will almost certainly make good on his desire to become the country’s longest-ruling leader, surpassing Mustafa Kemal Ataturk, who founded the modern Turkish republic out of the ruins of the collapsed Ottoman Empire.Under the new system brought in by last year’s referendum, Mr. Erdogan can run for a second term as president — and a third, if he were to call an early election — opening the possibility that he could stay in office until 2032.In parliamentary races, Mr. Erdogan’s party placed first, with more than 42 percent of the vote, the Anadolu agency reported, enough to retain a majority in alliance with the Nationalist Movement Party, which received about 11 percent.Defenders of Turkey’s multiparty democracy did receive some cause for hope: The H.D.P. party, a liberal democratic party that emphasizes minority rights and is led by an imprisoned Kurd, Selahattin Demirtas, surpassed the 10 percent threshold needed to enter Parliament.\n",
      "\n",
      "The deputy head of the Supreme Election Board said five parties had passed the threshold.Soner Cagaptay, a scholar and author who has called Mr. Erdogan a “new sultan” in the vein of the absolute rulers of the Ottoman Empire, said the new Parliament would be the most politically diverse in 35 years, with nearly every major political faction represented.Support for Mr. Erdogan appeared to be similar to its level in last year’s constitutional referendum, “suggesting that polarization around his simultaneously adored and loathed persona continues to divide Turkey,” Mr. Cagaptay said.\n",
      "\n",
      "Amanda Sloat, an Obama administration official who is a senior fellow at the Brookings Institution, said that “one of the country’s biggest challenges for the foreseeable future remains the deep polarization of Turkish society.”She said Mr. Erdogan’s reliance on the Nationalist Movement Party for its majority “means foreign policy will likely remain influenced by nationalist considerations.”But she said the hard-fought election showed that Turkish democracy was resilient.“The opposition parties ran surprisingly strong, energetic and competitive campaigns,” Ms. Sloat said. “Parliament will be diverse, with the coalition system ensuring the representation of a wide range of parties — including the Kurds.”The victory for Mr. Erdogan and his allies appeared to defy last-minute polls indicating that they were in danger. The final opinion poll conducted by the independent Metropoll suggested that Mr. Erdogan might suffer a double blow, being forced into a second round of voting for the presidency and losing control of Parliament.\n",
      "\n",
      "The election was seen in large measure as a referendum on Mr. Erdogan’s rule, with many voters expressing concerns about what they say is his growing authoritarian streak and a struggling economy, which they blame on corruption and mismanagement.The economy, once a strong point for Mr. Erdogan, has stumbled badly in the last year. Turkey has accumulated significant foreign debt, the Turkish lira has lost 20 percent of its value and direct foreign investment has plunged as investors have been scared off by the president’s increasingly belligerent and anti-Western tone.\n",
      "\n",
      "The economic turmoil may make Mr. Erdogan more careful about picking fights with the West, but it could also spell growing unrest and political challenges at home against a newly energized and unified opposition.Bekir Agirdir, founder of the polling firm Konda, predicted that Mr. Erdogan would struggle to rule the country: His constitutional changes in 2017 to create an executive presidency were approved narrowly, 51 percent to 49 percent.“He cannot rule the remaining 49 percent,” Mr. Agirdir said in an interview before Sunday’s election. He suggested that Mr. Erdogan was bound to see a showdown eventually. “This is the rehearsal. The real election will be in two to three years’ time.”Many in the opposition saw the campaign as a final chance to save democracy. “We are crossing the last bridge before it falls,” said Burcu Akcaru, a founder of the new Good Party. “Then we leave the country.”\n",
      "\n",
      "Mr. Erdogan called the election two months ago — they had not been expected until November 2019 — in hopes of scoring a big win that he maintained would be a turning point for the country, allowing him to create a stronger, more powerful state.When he came to power 15 years ago, Mr. Erdogan won wide support as a pro-European, moderate Islamist who supported democracy and economic liberalization. But over the years the earlier philosophy was replaced by a more personal and dictatorial rule, particularly after the failed coup in July 2016. Along the way, he either abandoned or alienated many of his allies.\n",
      "\n",
      "The new presidential system will codify the executive powers Mr. Erdogan has already been exercising under the state of emergency. Under the new system, the office of prime minister, which Mr. Erdogan held from 2003 to 2014, will be abolished. The cabinet will be composed of presidential appointees rather than elected lawmakers. And Parliament’s powers are reduced, including oversight of the budget.Mr. Erdogan has imprisoned many of his critics, including thousands of Kurdish politicians and activists, members of civil society organizations, and Islamists accused of being followers of Fethullah Gulen, the cleric whom Turkish leaders accuse of organizing the coup attempt.Devlet Bahceli, the leader of the Nationalist Movement Party, whose result on Sunday ensures the alliance’s parliamentary majority for Mr. Erdogan, said of the opposition: “They wanted to demolish us, they couldn’t manage; they wanted to ravage us, they failed.”“Those who spell disasters hit the consciousness of Turkishness and fell apart,” he said.The election’s losers must now figure out how to maintain a voice in an increasingly authoritarian nation.Mr. Demirtas, the imprisoned Kurdish leader whose left-leaning minority-rights party won 11 percent of the vote, had urged Turks to vote against Mr. Erdogan and his allies, encouraging them to grab an opportunity before entering a “dark and obscure tunnel.”“What you go through nowadays is only a trailer of the one-man regime. The most frightening part of the movie hasn’t even started yet,” he warned. “Everything will be arranged in accordance with the desire, pleasure and interests of one man. You will feel unable to breathe in a regime of fear and despair; you will feel like you are strangled.”\n",
      "\n"
     ]
    }
   ],
   "source": [
    "for paragraph in article.findAll('div', class_=\"StoryBodyCompanionColumn\"):\n",
    "    print(paragraph.text + '\\n')"
   ]
  },
  {
   "cell_type": "code",
   "execution_count": null,
   "metadata": {},
   "outputs": [],
   "source": []
  }
 ],
 "metadata": {
  "kernelspec": {
   "display_name": "Python 3",
   "language": "python",
   "name": "python3"
  },
  "language_info": {
   "codemirror_mode": {
    "name": "ipython",
    "version": 3
   },
   "file_extension": ".py",
   "mimetype": "text/x-python",
   "name": "python",
   "nbconvert_exporter": "python",
   "pygments_lexer": "ipython3",
   "version": "3.6.5"
  }
 },
 "nbformat": 4,
 "nbformat_minor": 2
}
