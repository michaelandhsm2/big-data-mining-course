{
 "cells": [
  {
   "cell_type": "markdown",
   "metadata": {},
   "source": [
    "# Term Project\n",
    "\n",
    "## Description\n",
    "\n",
    "### Data\n",
    "\n",
    "\n",
    "### Format\n",
    "\n",
    "\n",
    "### Task\n"
   ]
  },
  {
   "cell_type": "markdown",
   "metadata": {},
   "source": [
    "## Output Format\n",
    "\n",
    "\n",
    "\n",
    "## Implementation Notes\n",
    "\n",
    "\n"
   ]
  },
  {
   "cell_type": "markdown",
   "metadata": {},
   "source": [
    "## Implementation"
   ]
  },
  {
   "cell_type": "code",
   "execution_count": 1,
   "metadata": {},
   "outputs": [
    {
     "name": "stdout",
     "output_type": "stream",
     "text": [
      "Spark Entity:       org.apache.spark.sql.SparkSession@337c3cc8\n",
      "Spark version:      2.3.0\n",
      "Spark master:       local[*]\n",
      "Running 'locally'?: true\n",
      "\n"
     ]
    },
    {
     "data": {
      "text/plain": [
       "printSample: (writer: Any, data: Any, title: String, format: String)Unit\n",
       "printSpark: (writer: Any, spark: org.apache.spark.sql.SparkSession)Unit\n",
       "outputWriter: (fileString: String)java.io.PrintWriter\n",
       "getFile: (fileString: String)Array[String]\n",
       "writer: Null = null\n"
      ]
     },
     "metadata": {},
     "output_type": "display_data",
     "source": "user"
    }
   ],
   "source": [
    "import org.apache.spark.sql.SparkSession\n",
    "import org.apache.spark.SparkContext\n",
    "import org.apache.spark.SparkConf\n",
    "import org.apache.hadoop.fs._\n",
    "import org.apache.hadoop.conf.Configuration\n",
    "\n",
    "import java.io.{File,PrintWriter}\n",
    "\n",
    "  def printSample(writer: Any, data: Any, title: String = \"\", format: String = \"\"){\n",
    "    println(\"\\n\"+title+\" Data Sample: \" + format)\n",
    "    println(data+\"\\n\")\n",
    "  }\n",
    "\n",
    "  def printSpark(writer: Any, spark: SparkSession): Unit = {\n",
    "    println(\"Spark Entity:       \" + spark)\n",
    "    println(\"Spark version:      \" + spark.version)\n",
    "    println(\"Spark master:       \" + spark.sparkContext.master)\n",
    "    println(\"Running 'locally'?: \" + spark.sparkContext.isLocal)\n",
    "    println(\"\")\n",
    "  }\n",
    "\n",
    "  def outputWriter(fileString: String): PrintWriter ={\n",
    "    val outputPath = new Path(fileString)\n",
    "    val outputStream = outputPath.getFileSystem(new Configuration()).create(outputPath);\n",
    "    new PrintWriter(outputStream)\n",
    "  }\n",
    "\n",
    "  def getFile(fileString: String): Array[String] ={\n",
    "    val inputPath = new Path(fileString)\n",
    "    val inputBuffer = scala.collection.mutable.ArrayBuffer.empty[String]\n",
    "    val iterator = inputPath.getFileSystem(new Configuration()).listFiles(inputPath, false)\n",
    "    while(iterator.hasNext()){\n",
    "        val fileStatus = iterator.next()\n",
    "        if(fileStatus.isFile()){\n",
    "          inputBuffer += fileStatus.getPath().toString()\n",
    "        }\n",
    "    }\n",
    "    inputBuffer.toArray\n",
    "  }\n",
    "\n",
    "\n",
    "val writer = null\n",
    "printSpark(writer, spark)"
   ]
  },
  {
   "cell_type": "markdown",
   "metadata": {},
   "source": [
    "## Full Demo"
   ]
  },
  {
   "cell_type": "code",
   "execution_count": 2,
   "metadata": {},
   "outputs": [
    {
     "data": {
      "text/plain": [
       "[file:/home/micky/school/big_data_mining/term_project/data/NYT > U.S..csv, file:/home/micky/school/big_data_mining/term_project/data/stopwords_en.json, file:/home/micky/school/big_data_mining/term_project/data/NYT > Business Day.csv, file:/home/micky/school/big_data_mining/term_project/data/news.csv, file:/home/micky/school/big_data_mining/term_project/data/NYT > Technology.csv, file:/home/micky/school/big_data_mining/term_project/data/NYT > World.csv]"
      ]
     },
     "execution_count": 2,
     "metadata": {},
     "output_type": "execute_result"
    }
   ],
   "source": [
    "getFile(\"./data\")"
   ]
  },
  {
   "cell_type": "code",
   "execution_count": 2,
   "metadata": {},
   "outputs": [
    {
     "data": {
      "text/plain": [
       "data = file:/home/micky/school/big_data_mining/term_project/data/NYT > World.csv MapPartitionsRDD[1] at textFile at <console>:36\n"
      ]
     },
     "metadata": {},
     "output_type": "display_data",
     "source": "user"
    },
    {
     "data": {
      "text/plain": [
       "file:/home/micky/school/big_data_mining/term_project/data/NYT > World.csv MapPartitionsRDD[1] at textFile at <console>:36"
      ]
     },
     "execution_count": 2,
     "metadata": {},
     "output_type": "execute_result"
    }
   ],
   "source": [
    "import scala.collection.mutable.ListBuffer\n",
    "var data = spark.sparkContext.textFile(\"file:/home/micky/school/big_data_mining/term_project/data/NYT > World.csv\")"
   ]
  },
  {
   "cell_type": "code",
   "execution_count": 3,
   "metadata": {},
   "outputs": [
    {
     "name": "stdout",
     "output_type": "stream",
     "text": [
      "Merkel Says Migration Could Make or Break the E.U."
     ]
    },
    {
     "data": {
      "text/plain": [
       "regex = \\\"([\\w\\W]+?)\\\"\n",
       "parsedData = MapPartitionsRDD[2] at map at <console>:40\n"
      ]
     },
     "metadata": {},
     "output_type": "display_data",
     "source": "user"
    },
    {
     "data": {
      "text/plain": [
       "MapPartitionsRDD[2] at map at <console>:40"
      ]
     },
     "execution_count": 3,
     "metadata": {},
     "output_type": "execute_result"
    }
   ],
   "source": [
    "var regex = \"\"\"\\\"([\\w\\W]+?)\\\"\"\"\".r\n",
    "\n",
    "val parsedData = data.map{\n",
    "    line  =>\n",
    "    val listBuffer = ListBuffer[String]()    \n",
    "    for(m <- regex.findAllIn(line).matchData;\n",
    "          e <- m.subgroups){        \n",
    "        listBuffer += e\n",
    "    }\n",
    "    listBuffer.toSeq\n",
    "}\n",
    "\n",
    "print(parsedData.first()(0))"
   ]
  },
  {
   "cell_type": "code",
   "execution_count": 4,
   "metadata": {},
   "outputs": [
    {
     "data": {
      "text/plain": [
       "stopWords = List(a, a's, able, about, above, according, accordingly, across, actually, after, afterwards, again, against, ain't, all, allow, allows, almost, alone, along, already, also, although, always, am, among, amongst, an, and, another, any, anybody, anyhow, anyone, anything, anyway, anyways, anywhere, apart, appear, appreciate, appropriate, are, aren't, around, as, aside, ask, asking, associated, at, available, away, awfully, b, be, became, because, become, becomes, becoming, been, before, beforehand, behind, being, believe, below, beside, besides, best, better, between, beyond, both, brief, but, by, c, c'mon, c's, came, can, can't, cannot, cant, cause, causes, certain, certainly, changes, clearly, co, com, come, comes, concerning, consequently, consider, considering...\n"
      ]
     },
     "metadata": {},
     "output_type": "display_data",
     "source": "user"
    },
    {
     "data": {
      "text/plain": [
       "List(a, a's, able, about, above, according, accordingly, across, actually, after, afterwards, again, against, ain't, all, allow, allows, almost, alone, along, already, also, although, always, am, among, amongst, an, and, another, any, anybody, anyhow, anyone, anything, anyway, anyways, anywhere, apart, appear, appreciate, appropriate, are, aren't, around, as, aside, ask, asking, associated, at, available, away, awfully, b, be, became, because, become, becomes, becoming, been, before, beforehand, behind, being, believe, below, beside, besides, best, better, between, beyond, both, brief, but, by, c, c'mon, c's, came, can, can't, cannot, cant, cause, causes, certain, certainly, changes, clearly, co, com, come, comes, concerning, consequently, consider, considering, contain, containing, contains, corresponding, could, couldn't, course, currently, d, definitely, described, despite, did, didn't, different, do, does, doesn't, doing, don't, done, down, downwards, during, e, each, edu, eg, eight, either, else, elsewhere, enough, entirely, especially, et, etc, even, ever, every, everybody, everyone, everything, everywhere, ex, exactly, example, except, f, far, few, fifth, first, five, followed, following, follows, for, former, formerly, forth, four, from, further, furthermore, g, get, gets, getting, given, gives, go, goes, going, gone, got, gotten, greetings, h, had, hadn't, happens, hardly, has, hasn't, have, haven't, having, he, he's, hello, help, hence, her, here, here's, hereafter, hereby, herein, hereupon, hers, herself, hi, him, himself, his, hither, hopefully, how, howbeit, however, i, i'd, i'll, i'm, i've, ie, if, ignored, immediate, in, inasmuch, inc, indeed, indicate, indicated, indicates, inner, insofar, instead, into, inward, is, isn't, it, it'd, it'll, it's, its, itself, j, just, k, keep, keeps, kept, know, known, knows, l, last, lately, later, latter, latterly, least, less, lest, let, let's, like, liked, likely, little, look, looking, looks, ltd, m, mainly, many, may, maybe, me, mean, meanwhile, merely, might, more, moreover, most, mostly, much, must, my, myself, n, name, namely, nd, near, nearly, necessary, need, needs, neither, never, nevertheless, new, next, nine, no, nobody, non, none, noone, nor, normally, not, nothing, novel, now, nowhere, o, obviously, of, off, often, oh, ok, okay, old, on, once, one, ones, only, onto, or, other, others, otherwise, ought, our, ours, ourselves, out, outside, over, overall, own, p, particular, particularly, per, perhaps, placed, please, plus, possible, presumably, probably, provides, q, que, quite, qv, r, rather, rd, re, really, reasonably, regarding, regardless, regards, relatively, respectively, right, s, said, same, saw, say, saying, says, second, secondly, see, seeing, seem, seemed, seeming, seems, seen, self, selves, sensible, sent, serious, seriously, seven, several, shall, she, should, shouldn't, since, six, so, some, somebody, somehow, someone, something, sometime, sometimes, somewhat, somewhere, soon, sorry, specified, specify, specifying, still, sub, such, sup, sure, t, t's, take, taken, tell, tends, th, than, thank, thanks, thanx, that, that's, thats, the, their, theirs, them, themselves, then, thence, there, there's, thereafter, thereby, therefore, therein, theres, thereupon, these, they, they'd, they'll, they're, they've, think, third, this, thorough, thoroughly, those, though, three, through, throughout, thru, thus, to, together, too, took, toward, towards, tried, tries, truly, try, trying, twice, two, u, un, under, unfortunately, unless, unlikely, until, unto, up, upon, us, use, used, useful, uses, using, usually, uucp, v, value, various, very, via, viz, vs, w, want, wants, was, wasn't, way, we, we'd, we'll, we're, we've, welcome, well, went, were, weren't, what, what's, whatever, when, whence, whenever, where, where's, whereafter, whereas, whereby, wherein, whereupon, wherever, whether, which, while, whither, who, who's, whoever, whole, whom, whose, why, will, willing, wish, with, within, without, won't, wonder, would, wouldn't, x, y, yes, yet, you, you'd, you'll, you're, you've, your, yours, yourself, yourselves, z, zero)"
      ]
     },
     "execution_count": 4,
     "metadata": {},
     "output_type": "execute_result"
    }
   ],
   "source": [
    "var stopWords = List(\"a\",\"a's\",\"able\",\"about\",\"above\",\"according\",\"accordingly\",\"across\",\"actually\",\"after\",\"afterwards\",\"again\",\"against\",\"ain't\",\"all\",\"allow\",\"allows\",\"almost\",\"alone\",\"along\",\"already\",\"also\",\"although\",\"always\",\"am\",\"among\",\"amongst\",\"an\",\"and\",\"another\",\"any\",\"anybody\",\"anyhow\",\"anyone\",\"anything\",\"anyway\",\"anyways\",\"anywhere\",\"apart\",\"appear\",\"appreciate\",\"appropriate\",\"are\",\"aren't\",\"around\",\"as\",\"aside\",\"ask\",\"asking\",\"associated\",\"at\",\"available\",\"away\",\"awfully\",\"b\",\"be\",\"became\",\"because\",\"become\",\"becomes\",\"becoming\",\"been\",\"before\",\"beforehand\",\"behind\",\"being\",\"believe\",\"below\",\"beside\",\"besides\",\"best\",\"better\",\"between\",\"beyond\",\"both\",\"brief\",\"but\",\"by\",\"c\",\"c'mon\",\"c's\",\"came\",\"can\",\"can't\",\"cannot\",\"cant\",\"cause\",\"causes\",\"certain\",\"certainly\",\"changes\",\"clearly\",\"co\",\"com\",\"come\",\"comes\",\"concerning\",\"consequently\",\"consider\",\"considering\",\"contain\",\"containing\",\"contains\",\"corresponding\",\"could\",\"couldn't\",\"course\",\"currently\",\"d\",\"definitely\",\"described\",\"despite\",\"did\",\"didn't\",\"different\",\"do\",\"does\",\"doesn't\",\"doing\",\"don't\",\"done\",\"down\",\"downwards\",\"during\",\"e\",\"each\",\"edu\",\"eg\",\"eight\",\"either\",\"else\",\"elsewhere\",\"enough\",\"entirely\",\"especially\",\"et\",\"etc\",\"even\",\"ever\",\"every\",\"everybody\",\"everyone\",\"everything\",\"everywhere\",\"ex\",\"exactly\",\"example\",\"except\",\"f\",\"far\",\"few\",\"fifth\",\"first\",\"five\",\"followed\",\"following\",\"follows\",\"for\",\"former\",\"formerly\",\"forth\",\"four\",\"from\",\"further\",\"furthermore\",\"g\",\"get\",\"gets\",\"getting\",\"given\",\"gives\",\"go\",\"goes\",\"going\",\"gone\",\"got\",\"gotten\",\"greetings\",\"h\",\"had\",\"hadn't\",\"happens\",\"hardly\",\"has\",\"hasn't\",\"have\",\"haven't\",\"having\",\"he\",\"he's\",\"hello\",\"help\",\"hence\",\"her\",\"here\",\"here's\",\"hereafter\",\"hereby\",\"herein\",\"hereupon\",\"hers\",\"herself\",\"hi\",\"him\",\"himself\",\"his\",\"hither\",\"hopefully\",\"how\",\"howbeit\",\"however\",\"i\",\"i'd\",\"i'll\",\"i'm\",\"i've\",\"ie\",\"if\",\"ignored\",\"immediate\",\"in\",\"inasmuch\",\"inc\",\"indeed\",\"indicate\",\"indicated\",\"indicates\",\"inner\",\"insofar\",\"instead\",\"into\",\"inward\",\"is\",\"isn't\",\"it\",\"it'd\",\"it'll\",\"it's\",\"its\",\"itself\",\"j\",\"just\",\"k\",\"keep\",\"keeps\",\"kept\",\"know\",\"known\",\"knows\",\"l\",\"last\",\"lately\",\"later\",\"latter\",\"latterly\",\"least\",\"less\",\"lest\",\"let\",\"let's\",\"like\",\"liked\",\"likely\",\"little\",\"look\",\"looking\",\"looks\",\"ltd\",\"m\",\"mainly\",\"many\",\"may\",\"maybe\",\"me\",\"mean\",\"meanwhile\",\"merely\",\"might\",\"more\",\"moreover\",\"most\",\"mostly\",\"much\",\"must\",\"my\",\"myself\",\"n\",\"name\",\"namely\",\"nd\",\"near\",\"nearly\",\"necessary\",\"need\",\"needs\",\"neither\",\"never\",\"nevertheless\",\"new\",\"next\",\"nine\",\"no\",\"nobody\",\"non\",\"none\",\"noone\",\"nor\",\"normally\",\"not\",\"nothing\",\"novel\",\"now\",\"nowhere\",\"o\",\"obviously\",\"of\",\"off\",\"often\",\"oh\",\"ok\",\"okay\",\"old\",\"on\",\"once\",\"one\",\"ones\",\"only\",\"onto\",\"or\",\"other\",\"others\",\"otherwise\",\"ought\",\"our\",\"ours\",\"ourselves\",\"out\",\"outside\",\"over\",\"overall\",\"own\",\"p\",\"particular\",\"particularly\",\"per\",\"perhaps\",\"placed\",\"please\",\"plus\",\"possible\",\"presumably\",\"probably\",\"provides\",\"q\",\"que\",\"quite\",\"qv\",\"r\",\"rather\",\"rd\",\"re\",\"really\",\"reasonably\",\"regarding\",\"regardless\",\"regards\",\"relatively\",\"respectively\",\"right\",\"s\",\"said\",\"same\",\"saw\",\"say\",\"saying\",\"says\",\"second\",\"secondly\",\"see\",\"seeing\",\"seem\",\"seemed\",\"seeming\",\"seems\",\"seen\",\"self\",\"selves\",\"sensible\",\"sent\",\"serious\",\"seriously\",\"seven\",\"several\",\"shall\",\"she\",\"should\",\"shouldn't\",\"since\",\"six\",\"so\",\"some\",\"somebody\",\"somehow\",\"someone\",\"something\",\"sometime\",\"sometimes\",\"somewhat\",\"somewhere\",\"soon\",\"sorry\",\"specified\",\"specify\",\"specifying\",\"still\",\"sub\",\"such\",\"sup\",\"sure\",\"t\",\"t's\",\"take\",\"taken\",\"tell\",\"tends\",\"th\",\"than\",\"thank\",\"thanks\",\"thanx\",\"that\",\"that's\",\"thats\",\"the\",\"their\",\"theirs\",\"them\",\"themselves\",\"then\",\"thence\",\"there\",\"there's\",\"thereafter\",\"thereby\",\"therefore\",\"therein\",\"theres\",\"thereupon\",\"these\",\"they\",\"they'd\",\"they'll\",\"they're\",\"they've\",\"think\",\"third\",\"this\",\"thorough\",\"thoroughly\",\"those\",\"though\",\"three\",\"through\",\"throughout\",\"thru\",\"thus\",\"to\",\"together\",\"too\",\"took\",\"toward\",\"towards\",\"tried\",\"tries\",\"truly\",\"try\",\"trying\",\"twice\",\"two\",\"u\",\"un\",\"under\",\"unfortunately\",\"unless\",\"unlikely\",\"until\",\"unto\",\"up\",\"upon\",\"us\",\"use\",\"used\",\"useful\",\"uses\",\"using\",\"usually\",\"uucp\",\"v\",\"value\",\"various\",\"very\",\"via\",\"viz\",\"vs\",\"w\",\"want\",\"wants\",\"was\",\"wasn't\",\"way\",\"we\",\"we'd\",\"we'll\",\"we're\",\"we've\",\"welcome\",\"well\",\"went\",\"were\",\"weren't\",\"what\",\"what's\",\"whatever\",\"when\",\"whence\",\"whenever\",\"where\",\"where's\",\"whereafter\",\"whereas\",\"whereby\",\"wherein\",\"whereupon\",\"wherever\",\"whether\",\"which\",\"while\",\"whither\",\"who\",\"who's\",\"whoever\",\"whole\",\"whom\",\"whose\",\"why\",\"will\",\"willing\",\"wish\",\"with\",\"within\",\"without\",\"won't\",\"wonder\",\"would\",\"wouldn't\",\"x\",\"y\",\"yes\",\"yet\",\"you\",\"you'd\",\"you'll\",\"you're\",\"you've\",\"your\",\"yours\",\"yourself\",\"yourselves\",\"z\",\"zero\")"
   ]
  },
  {
   "cell_type": "code",
   "execution_count": 5,
   "metadata": {},
   "outputs": [
    {
     "data": {
      "text/plain": [
       "wordPreProcess: (input: Any)Array[String]\n"
      ]
     },
     "metadata": {},
     "output_type": "display_data",
     "source": "user"
    },
    {
     "data": {
      "text/plain": [
       "[case, vivid, examples, china's, ambitious, loans, aid, gain, influence, world, willingness, play, hardball, collect, debt, deal, intensified, harshest, accusations, president, xi, jinping's, signature, belt, road, initiative, global, investment, lending, program, amounts, debt, trap, vulnerable, countries, world, fueling, corruption, autocratic, behavior, struggling, democracies]"
      ]
     },
     "execution_count": 5,
     "metadata": {},
     "output_type": "execute_result"
    }
   ],
   "source": [
    "def wordPreProcess(input: Any): Array[String] = {\n",
    "        var matchRegex = \"\"\"([$]?(?:[\\w]+(?:[\\w',]*[\\w]+)+|[\\w]))\"\"\".r\n",
    "        var list =  ListBuffer[String]()\n",
    "        for(m <- matchRegex.findAllIn(input.toString.toLowerCase).matchData;\n",
    "          e <- m.subgroups){\n",
    "            if(!stopWords.contains(e))\n",
    "                list+=e\n",
    "        }          \n",
    "        list.toArray\n",
    "    }\n",
    "\n",
    "wordPreProcess(\"The case is one of the most vivid examples of China's ambitious use of loans and aid to gain influence around the world - and of its willingness to play hardball to collect.The debt deal also intensified some of the harshest accusations about President Xi Jinping's signature Belt and Road Initiative: that the global investment and lending program amounts to a debt trap for vulnerable countries around the world, fueling corruption and autocratic behavior in struggling democracies.\")"
   ]
  },
  {
   "cell_type": "code",
   "execution_count": 6,
   "metadata": {},
   "outputs": [
    {
     "data": {
      "text/plain": [
       "parseSentenceRegex = (?<!\\w\\.\\w.)(?<![A-Z][a-z]\\.)(?<=\\.|\\?) +\n",
       "numberOfWords = 50\n",
       "summarizeResults = MapPartitionsRDD[3] at map at <console>:49\n"
      ]
     },
     "metadata": {},
     "output_type": "display_data",
     "source": "user"
    },
    {
     "data": {
      "text/plain": [
       "MapPartitionsRDD[3] at map at <console>:49"
      ]
     },
     "execution_count": 6,
     "metadata": {},
     "output_type": "execute_result"
    }
   ],
   "source": [
    "import scala.collection.mutable.Map\n",
    "var parseSentenceRegex = \"\"\"(?<!\\w\\.\\w.)(?<![A-Z][a-z]\\.)(?<=\\.|\\?) +\"\"\".r\n",
    "var numberOfWords = 50\n",
    "\n",
    "var summarizeResults = parsedData.map{\n",
    "    articleSeq =>\n",
    "    \n",
    "    var paragraph = articleSeq.drop(5).mkString(\" \")\n",
    "    var split = parseSentenceRegex.split(paragraph)\n",
    "    \n",
    "    var flattenSentence = split.zipWithIndex.map{\n",
    "        case (sentence, id) =>\n",
    "        (id.toInt, wordPreProcess(sentence))\n",
    "    }\n",
    "    \n",
    "    var wordFreqMap = Map.empty[String, Double]\n",
    "    var totalWordsCount = 0\n",
    "\n",
    "    flattenSentence.map{\n",
    "        case (id, listWords) =>\n",
    "        listWords.map{\n",
    "            word =>\n",
    "            if(wordFreqMap.contains(word))\n",
    "                wordFreqMap(word) += 1\n",
    "            else\n",
    "                wordFreqMap(word) = 1.0\n",
    "        }\n",
    "    }\n",
    "\n",
    "    wordFreqMap.foreach{\n",
    "        count => \n",
    "        totalWordsCount += count._2.toInt\n",
    "    }\n",
    "\n",
    "    wordFreqMap = wordFreqMap.map{\n",
    "        case (word, count) => \n",
    "        (word, count/totalWordsCount)\n",
    "    }    \n",
    "    \n",
    "    var important_text = wordPreProcess(articleSeq(0)) ++ (wordPreProcess(articleSeq(4)))\n",
    "\n",
    "    important_text.foreach{\n",
    "        word => \n",
    "        if(wordFreqMap.contains(word))\n",
    "            wordFreqMap(word) = wordFreqMap.valuesIterator.max\n",
    "    }\n",
    "\n",
    "\n",
    "    var wordCount = 0\n",
    "    var sentenceListBuffer = ListBuffer[String]()\n",
    "\n",
    "    while(wordCount < numberOfWords){\n",
    "\n",
    "        var sentenceWeight = flattenSentence.map{\n",
    "            case (id, listOfWords) =>\n",
    "            var wordsInSentence = listOfWords.length.toInt\n",
    "            var weight = 0.0     \n",
    "            \n",
    "            if (wordsInSentence >= 1){\n",
    "                var wordFreq = listOfWords.map{\n",
    "                    word => \n",
    "                    wordFreqMap(word)\n",
    "                }\n",
    "                weight = wordFreq.reduce{\n",
    "                    (i, j) => i + j\n",
    "                }\n",
    "            }\n",
    "            (id, weight/wordsInSentence, wordsInSentence)\n",
    "        }.sortBy{\n",
    "            x => -x._2\n",
    "        }\n",
    "\n",
    "        var bestScoringId = sentenceWeight(0)._1.toInt\n",
    "\n",
    "\n",
    "        sentenceListBuffer += split(bestScoringId)\n",
    "\n",
    "        //Update wordFrequency\n",
    "        flattenSentence(bestScoringId)._2.foreach{\n",
    "            word => \n",
    "            wordFreqMap(word) = wordFreqMap(word) * wordFreqMap(word)\n",
    "        }\n",
    "        wordCount += sentenceWeight(0)._3\n",
    "    }\n",
    "    var article_summary = sentenceListBuffer.toList.mkString(\" \")\n",
    "\n",
    "    (articleSeq(0), articleSeq(1), articleSeq(2), articleSeq(3), articleSeq(4), paragraph, article_summary) \n",
    "}"
   ]
  },
  {
   "cell_type": "code",
   "execution_count": 7,
   "metadata": {},
   "outputs": [
    {
     "name": "stdout",
     "output_type": "stream",
     "text": [
      "\n",
      "===\n",
      "\n",
      "Merkel Says Migration Could Make or Break the E.U.\n",
      "\n",
      "Middle East and Africa Migrant Crisis, Immigration and Emigration, Politics and Government  -  Thu, 28 Jun 2018 22:25:24 GMT\n",
      "\n",
      "Headline: Chancellor Angela Merkel of Germany and Alexander Gauland of the far-right party Alternative for Germany, right, at the Parliament in Berlin on Thursday. Representatives of his party heckled her speech.\n",
      "\n",
      "Summary: Still, Ms. Merkel acknowledged, Germany and other European countries were not yet  where we want to be. Her address in Parliament on Thursday was unusually combative, and it was frequently interrupted by heckling from representatives of Alternative for Germany. BERLIN - Chancellor Angela Merkel of Germany warned on Thursday that the issue of migration could make or break the European Union, delivering her strongest assessment yet of the simmering political crisis on the Continent just hours before a difficult meeting with fellow leaders. I think the people really request two things: First is no more migrants in,  he said; the second would be to deport those who are already in Europe but do not qualify as refugees.\n",
      "\n",
      "===\n",
      "\n",
      "Beijing Dispatch: Mao 101: Inside a Chinese Classroom Training the Communists of Tomorrow\n",
      "\n",
      "Colleges and Universities  -  Thu, 28 Jun 2018 20:49:34 GMT\n",
      "\n",
      "Headline: Students watching Feng Wuzhong's online lecture video during a course on Mao's ideology at Tsinghua University in Beijing.\n",
      "\n",
      "Summary: BEIJING - Democracy. But Mr. Feng said Mao's words were more relevant than ever, even if China has changed. But inside classroom 106-B, they echoed the party line. While the emphasis on Mao evokes turbulent periods of Chinese history, many in China still see Mao as a hero. At a recent lecture, he asked students,  If you were on a deserted island, what book would you bring? In 2015, he began offering classes on Maoism on edX, the online platform founded by Harvard and M.I.T., one of the first Chinese professors to embrace the internet to teach ideology courses.\n",
      "\n",
      "===\n",
      "\n",
      "Helsinki Summit Meeting Is Set for Trump and Putin\n",
      "\n",
      "United States International Relations, Russian Interference in 2016 US Elections and Ties to Trump Associates, United States Politics and Government  -  Thu, 28 Jun 2018 16:54:14 GMT\n",
      "\n",
      "Headline: President Trump and President Vladimir V. Putin met on the sidelines of a Group of 20 meeting in Germany in 2017.\n",
      "\n",
      "Summary: I think I'd get along very well with Vladimir Putin,  Mr. Trump said in the summer of 2015. MOSCOW - President Trump plans to meet President Vladimir V. The Helsinki talks, which will come on the heels of a NATO summit meeting in Brussels on July 11 and 12, could exacerbate American relations with European allies even as it eases tensions with Russia. Bolton, to Moscow, where he met on Wednesday with Mr. Putin. It will be the first formal summit meeting for Mr. Trump and Mr. Putin, who have spoken together twice on the sidelines of annual gatherings of world leaders, and it will come at a particularly critical moment, with midterm elections looming in the United States.\n",
      "\n",
      "===\n",
      "\n",
      "Britain Abetted U.S. Torture of Terrorism Suspects, Parliament Finds\n",
      "\n",
      "Detainees, United States Defense and Military Forces  -  Thu, 28 Jun 2018 22:25:29 GMT\n",
      "\n",
      "Headline: The headquarters of the British Secret Intelligence Service, in London. In hundreds of cases, a report from a committee of Parliament says, agents knew or suspected that detainees were abused, but did not object.\n",
      "\n",
      "Summary: In two cases, the report said, evidence indicated that British officers had themselves mistreated suspects. Many cases described by Parliament's Intelligence and Security Committee involved British agents feeding information to allies, primarily Americans, for the interrogation of detainees who they knew or suspected were being abused, or receiving intelligence from such interrogations, without raising objections. The committee documented dozens of cases in which Britain participated in sending suspects to other countries that were known to use torture or aided others in doing so - a practice known as rendition. LONDON - Britain's intelligence services tolerated and abetted  inexcusable  abuse of terrorism suspects by their American counterparts, according to a report released by Parliament on Thursday that offers a wide-ranging official condemnation of British intelligence conduct in the years after the Sept.\n",
      "\n",
      "===\n",
      "\n",
      "Rescue Team in Thailand to Drill Into Cave to Try to Reach Trapped Boys\n"
     ]
    },
    {
     "data": {
      "text/plain": [
       "printNews: (data: (String, String, String, String, String, String, String))Unit\n"
      ]
     },
     "metadata": {},
     "output_type": "display_data",
     "source": "user"
    },
    {
     "name": "stdout",
     "output_type": "stream",
     "text": [
      "\n",
      "Caves and Caverns  -  Thu, 28 Jun 2018 12:13:10 GMT\n",
      "\n",
      "Headline: Rescue workers at the Tham Luang Cave complex in Thailand on Thursday, where boys from a youth soccer team and their coach have been trapped since Saturday.\n",
      "\n",
      "Summary: THAM LUANG CAVE, Thailand - The Thai authorities said on Thursday that they believed members of a youth soccer team trapped in a flooding cave complex could have reached a large, dry cavern, and officials were considering drilling through the mountaintop to reach them. But more important, he is so concerned about the boys. All options for rescue operations are being considered in close coordination with Thai rescue personnel. We will drill and use an infrared camera that can take photos,  he said in an interview with The New York Times. Gen. You do it once and make sure it works because they are waiting for us with hope. This spot is on higher ground, and the spot is vast,  he said.\n"
     ]
    }
   ],
   "source": [
    "def printNews(data: Tuple7[String, String, String, String, String, String, String]){\n",
    "    println(\"\\n===\\n\")\n",
    "    println(data._1 + \"\\n\")\n",
    "    println(data._4 + \"  -  \"+ data._3 + \"\\n\")\n",
    "    println(\"Headline: \" + data._5 + \"\\n\")\n",
    "    println(\"Summary: \" + data._7)\n",
    "}\n",
    "\n",
    "summarizeResults.take(5).foreach(printNews)"
   ]
  },
  {
   "cell_type": "markdown",
   "metadata": {},
   "source": [
    "## Proof of Concept"
   ]
  },
  {
   "cell_type": "code",
   "execution_count": 12,
   "metadata": {},
   "outputs": [
    {
     "name": "stdout",
     "output_type": "stream",
     "text": [
      "HAMBANTOTA, Sri Lanka - Every time Sri Lanka's president, Mahinda Rajapaksa, turned to his Chinese allies for loans and assistance with an ambitious port project, the answer was yes.\n",
      "hambantota sri lanka time sri lanka's president mahinda rajapaksa turned chinese allies loans assistance ambitious port project answer\n",
      "\n",
      "Yes, though feasibility studies said the port wouldn't work.\n",
      "feasibility studies port work\n",
      "\n"
     ]
    },
    {
     "data": {
      "text/plain": [
       "parseSentenceRegex = (?<!\\w\\.\\w.)(?<![A-Z][a-z]\\.)(?<=\\.|\\?) +\n",
       "title = How China Got Sri Lanka to Cough Up a Port\n",
       "headline = A cargo ship navigating one of the world's busiest shipping lanes, near Hambantota, Sri Lanka, in May.\n",
       "paragraph = HAMBANTOTA, Sri Lanka - Every time Sri Lanka's president, Mahinda Rajapaksa, turned to his Chinese allies for loans and assistance with an ambitious port project, the answer was yes. Yes, though feasibility studies said the port wouldn't work. Yes, though other frequent lenders like India had refused. Yes, though Sri Lanka's debt was ballooning rapidly under Mr. Rajapaksa. Over years of construction and renegotiation with China Harbor Engineering Company, one of Beijing's largest state-owned enterpris...\n"
      ]
     },
     "metadata": {},
     "output_type": "display_data",
     "source": "user"
    }
   ],
   "source": [
    "//Using Regex\n",
    "\n",
    "var parseSentenceRegex = \"\"\"(?<!\\w\\.\\w.)(?<![A-Z][a-z]\\.)(?<=\\.|\\?) +\"\"\".r\n",
    "var title = parsedData.take(4)(0)(0)\n",
    "var headline = parsedData.take(4)(0)(4)\n",
    "var paragraph = parsedData.take(4)(0).drop(5).mkString(\" \")\n",
    "var split = parseSentenceRegex.split(paragraph)\n",
    "\n",
    "var flattenSentence = split.zipWithIndex.map{\n",
    "    case (sentence, id) =>\n",
    "    (id.toInt, wordPreProcess(sentence))\n",
    "}\n",
    "\n",
    "flattenSentence.take(2).foreach{ x => \n",
    "    println(split(x._1))\n",
    "    println(x._2.mkString(\" \")+\"\\n\")\n",
    "}"
   ]
  },
  {
   "cell_type": "code",
   "execution_count": 56,
   "metadata": {},
   "outputs": [
    {
     "data": {
      "text/plain": [
       "wordFreqMap = Map(demand -> 5.327650506126798E-4, kickbacks -> 5.327650506126798E-4, separatists -> 5.327650506126798E-4, preferred -> 0.0015982951518380393, created -> 5.327650506126798E-4, exim -> 5.327650506126798E-4, questioned -> 5.327650506126798E-4, war -> 0.0015982951518380393, opening -> 0.0015982951518380393, development -> 0.0031965903036760787, tilt -> 5.327650506126798E-4, moderate -> 5.327650506126798E-4, electoral -> 5.327650506126798E-4, large -> 0.0031965903036760787, import -> 5.327650506126798E-4, china -> 0.02397442727757059, pay -> 0.0010655301012253596, ensuring -> 5.327650506126798E-4, suspicions -> 5.327650506126798E-4, lankan -> 0.006925945657964837, assistance -> 5.327650506126798E...\n"
      ]
     },
     "metadata": {},
     "output_type": "display_data",
     "source": "user"
    },
    {
     "data": {
      "text/plain": [
       "Map(demand -> 5.327650506126798E-4, kickbacks -> 5.327650506126798E-4, separatists -> 5.327650506126798E-4, preferred -> 0.0015982951518380393, created -> 5.327650506126798E-4, exim -> 5.327650506126798E-4, questioned -> 5.327650506126798E-4, war -> 0.0015982951518380393, opening -> 0.0015982951518380393, development -> 0.0031965903036760787, tilt -> 5.327650506126798E-4, moderate -> 5.327650506126798E-4, electoral -> 5.327650506126798E-4, large -> 0.0031965903036760787, import -> 5.327650506126798E-4, china -> 0.02397442727757059, pay -> 0.0010655301012253596, ensuring -> 5.327650506126798E-4, suspicions -> 5.327650506126798E-4, lankan -> 0.006925945657964837, assistance -> 5.327650506126798E-4, mantle -> 5.327650506126798E-4, ownership -> 0.0010655301012253596, 99 -> 5.327650506126798E-4, dominant -> 5.327650506126798E-4, nations -> 5.327650506126798E-4, globe -> 5.327650506126798E-4, overcharging -> 5.327650506126798E-4, quickly -> 0.0010655301012253596, forbid -> 5.327650506126798E-4, $100,000 -> 5.327650506126798E-4, rival -> 5.327650506126798E-4, assurances -> 5.327650506126798E-4, billions -> 5.327650506126798E-4, rajapaksa's -> 0.004262120404901438, approach -> 5.327650506126798E-4, blocked -> 0.0010655301012253596, cross -> 5.327650506126798E-4, conflict -> 5.327650506126798E-4, hire -> 5.327650506126798E-4, analyst -> 5.327650506126798E-4, remain -> 5.327650506126798E-4, flow -> 5.327650506126798E-4, projects -> 0.0031965903036760787, directly -> 0.0010655301012253596, late -> 5.327650506126798E-4, tank -> 5.327650506126798E-4, gotabaya -> 5.327650506126798E-4, $5 -> 5.327650506126798E-4, industrial -> 5.327650506126798E-4, realized -> 5.327650506126798E-4, willingness -> 5.327650506126798E-4, writing -> 5.327650506126798E-4, blasted -> 5.327650506126798E-4, price -> 0.0010655301012253596, voted -> 5.327650506126798E-4, quarter -> 5.327650506126798E-4, funding -> 5.327650506126798E-4, entrance -> 5.327650506126798E-4, 2005 -> 5.327650506126798E-4, negotiated -> 0.0010655301012253596, comment -> 0.0010655301012253596, lenders -> 0.0015982951518380393, ineffective -> 5.327650506126798E-4, determined -> 5.327650506126798E-4, books -> 0.0010655301012253596, dollars -> 5.327650506126798E-4, justification -> 5.327650506126798E-4, ally -> 5.327650506126798E-4, circle -> 5.327650506126798E-4, activity -> 5.327650506126798E-4, incoming -> 5.327650506126798E-4, defied -> 5.327650506126798E-4, largely -> 5.327650506126798E-4, deals -> 0.0010655301012253596, countries -> 0.0015982951518380393, cuts -> 5.327650506126798E-4, lawyers -> 5.327650506126798E-4, recognized -> 5.327650506126798E-4, sri -> 0.02663825253063399, busiest -> 5.327650506126798E-4, speech -> 5.327650506126798E-4, purposefully -> 5.327650506126798E-4, relay -> 5.327650506126798E-4, analysts -> 0.0010655301012253596, analysis -> 5.327650506126798E-4, location -> 0.0010655301012253596, negotiations -> 0.002131060202450719, $38,000 -> 5.327650506126798E-4, required -> 5.327650506126798E-4, construction -> 0.002131060202450719, publicly -> 5.327650506126798E-4, ideal -> 5.327650506126798E-4, acquiesced -> 0.0010655301012253596, tens -> 5.327650506126798E-4, economic -> 0.004794885455514118, indispensable -> 5.327650506126798E-4, beijing's -> 0.0015982951518380393, supporters -> 5.327650506126798E-4, $757 -> 5.327650506126798E-4, multiple -> 5.327650506126798E-4, shores -> 5.327650506126798E-4, standard -> 5.327650506126798E-4, cost -> 5.327650506126798E-4, japanese -> 5.327650506126798E-4, higher -> 0.0010655301012253596, explicitly -> 0.0010655301012253596, checks -> 0.002131060202450719, builder -> 5.327650506126798E-4, ambassador -> 0.0010655301012253596, submarines -> 0.0015982951518380393, mahinda -> 0.0015982951518380393, 2 -> 0.0010655301012253596, flowed -> 5.327650506126798E-4, subaccount -> 5.327650506126798E-4, tear -> 5.327650506126798E-4, rates -> 0.0010655301012253596, owned -> 0.002131060202450719, island -> 5.327650506126798E-4, colombo -> 0.0031965903036760787, district -> 0.0015982951518380393, elections -> 0.002131060202450719, city -> 5.327650506126798E-4, sword -> 5.327650506126798E-4, call -> 5.327650506126798E-4, approached -> 5.327650506126798E-4, company -> 0.006925945657964837, overrun -> 5.327650506126798E-4, share -> 5.327650506126798E-4, delhi -> 5.327650506126798E-4, including -> 0.0010655301012253596, avoid -> 5.327650506126798E-4, characterized -> 5.327650506126798E-4, sharing -> 5.327650506126798E-4, boulder -> 0.0010655301012253596, bars -> 5.327650506126798E-4, anonymity -> 5.327650506126798E-4, aid -> 5.327650506126798E-4, seats -> 5.327650506126798E-4, territory -> 5.327650506126798E-4, schedule -> 5.327650506126798E-4, similar -> 5.327650506126798E-4, note -> 5.327650506126798E-4, dramatically -> 5.327650506126798E-4, brahma -> 5.327650506126798E-4, $297,000 -> 5.327650506126798E-4, plan -> 5.327650506126798E-4, closer -> 5.327650506126798E-4, concerns -> 0.0010655301012253596, tea -> 5.327650506126798E-4, government -> 0.017581246670218435, needed -> 5.327650506126798E-4, fishing -> 5.327650506126798E-4, sought -> 5.327650506126798E-4, earlier -> 5.327650506126798E-4, agreement -> 0.0031965903036760787, demonstrated -> 5.327650506126798E-4, premier -> 5.327650506126798E-4, granted -> 5.327650506126798E-4, communist -> 5.327650506126798E-4, affiliated -> 5.327650506126798E-4, attract -> 5.327650506126798E-4, 2016 -> 5.327650506126798E-4, real -> 5.327650506126798E-4, stop -> 5.327650506126798E-4, equipment -> 5.327650506126798E-4, worry -> 5.327650506126798E-4, rights -> 5.327650506126798E-4, purposes -> 5.327650506126798E-4, hpdp -> 5.327650506126798E-4, accusations -> 0.0015982951518380393, bound -> 5.327650506126798E-4, offload -> 5.327650506126798E-4, flight -> 5.327650506126798E-4, worth -> 5.327650506126798E-4, export -> 5.327650506126798E-4, potential -> 5.327650506126798E-4, hambantota -> 0.012253596164091636, mao's -> 5.327650506126798E-4, workers -> 0.0010655301012253596, studies -> 0.002131060202450719, watching -> 5.327650506126798E-4, totaling -> 5.327650506126798E-4, rapidly -> 5.327650506126798E-4, director -> 5.327650506126798E-4, included -> 5.327650506126798E-4, visiting -> 5.327650506126798E-4, maithripala -> 5.327650506126798E-4, loan -> 0.0031965903036760787, collect -> 0.0010655301012253596, harsha -> 5.327650506126798E-4, purely -> 5.327650506126798E-4, bank -> 0.0037293553542887587, longer -> 5.327650506126798E-4, marks -> 5.327650506126798E-4, shinzo -> 5.327650506126798E-4, 8 -> 0.0010655301012253596, february -> 5.327650506126798E-4, ceremony -> 5.327650506126798E-4, global -> 0.0015982951518380393, economically -> 0.0010655301012253596, allowing -> 0.0010655301012253596, adviser -> 5.327650506126798E-4, alive -> 5.327650506126798E-4, 15 -> 5.327650506126798E-4, ago -> 5.327650506126798E-4, readying -> 5.327650506126798E-4, graft -> 5.327650506126798E-4, temple -> 5.327650506126798E-4, lanka -> 0.011188066062866276, merchant -> 5.327650506126798E-4, operations -> 0.0010655301012253596, strike -> 5.327650506126798E-4, amenable -> 5.327650506126798E-4, acknowledged -> 5.327650506126798E-4, terms -> 0.0031965903036760787, back -> 5.327650506126798E-4, obtain -> 5.327650506126798E-4, civil -> 5.327650506126798E-4, militarize -> 5.327650506126798E-4, requests -> 5.327650506126798E-4, generate -> 5.327650506126798E-4, official -> 0.0015982951518380393, transfer -> 5.327650506126798E-4, paid -> 5.327650506126798E-4, lengths -> 5.327650506126798E-4, country's -> 0.0010655301012253596, security -> 0.0010655301012253596, concluded -> 5.327650506126798E-4, constitution -> 5.327650506126798E-4, 2010 -> 0.0015982951518380393, practices -> 5.327650506126798E-4, taking -> 0.0010655301012253596, menacing -> 5.327650506126798E-4, rake -> 5.327650506126798E-4, communications -> 5.327650506126798E-4, wisdom -> 5.327650506126798E-4, total -> 5.327650506126798E-4, largest -> 5.327650506126798E-4, president -> 0.004794885455514118, appearance -> 5.327650506126798E-4, entry -> 5.327650506126798E-4, renegotiation -> 5.327650506126798E-4, year's -> 5.327650506126798E-4, debt -> 0.009589770911028236, block -> 5.327650506126798E-4, fear -> 5.327650506126798E-4, $44 -> 5.327650506126798E-4, $7 -> 5.327650506126798E-4, interest -> 0.0010655301012253596, birthday -> 0.0010655301012253596, specializing -> 5.327650506126798E-4, elaborate -> 5.327650506126798E-4, holds -> 5.327650506126798E-4, country -> 0.002663825253063399, renegotiate -> 5.327650506126798E-4, basin -> 5.327650506126798E-4, revenues -> 5.327650506126798E-4, representative -> 5.327650506126798E-4, 2007 -> 5.327650506126798E-4, partner -> 5.327650506126798E-4, discipline -> 5.327650506126798E-4, 18 -> 5.327650506126798E-4, illustration -> 5.327650506126798E-4, chinese -> 0.019712306872669155, ray -> 5.327650506126798E-4, shipping -> 5.327650506126798E-4, expansion -> 0.0015982951518380393, broke -> 5.327650506126798E-4, defense -> 5.327650506126798E-4, boastful -> 5.327650506126798E-4, affiliates -> 5.327650506126798E-4, beginning -> 0.0015982951518380393, running -> 5.327650506126798E-4, karunanayake -> 5.327650506126798E-4, hoping -> 5.327650506126798E-4, began -> 0.002663825253063399, room -> 5.327650506126798E-4, buddhist -> 5.327650506126798E-4, caution -> 5.327650506126798E-4, cable -> 5.327650506126798E-4, general -> 5.327650506126798E-4, foothold -> 5.327650506126798E-4, threefold -> 5.327650506126798E-4, secure -> 5.327650506126798E-4, effect -> 5.327650506126798E-4, controlled -> 0.0015982951518380393, gifts -> 5.327650506126798E-4, made -> 0.0015982951518380393, vast -> 5.327650506126798E-4, mark -> 5.327650506126798E-4, eager -> 5.327650506126798E-4, solely -> 5.327650506126798E-4, 65th -> 5.327650506126798E-4, acres -> 0.0015982951518380393, jungle -> 5.327650506126798E-4, order -> 5.327650506126798E-4, account -> 0.0015982951518380393, obtained -> 5.327650506126798E-4, manage -> 0.0010655301012253596, chaos -> 5.327650506126798E-4, base -> 5.327650506126798E-4, $1 -> 0.002131060202450719, opposed -> 5.327650506126798E-4, roadblocks -> 5.327650506126798E-4, prime -> 5.327650506126798E-4, continued -> 0.0010655301012253596, lease -> 5.327650506126798E-4, due -> 5.327650506126798E-4, comeback -> 5.327650506126798E-4, grown -> 5.327650506126798E-4, engineering -> 5.327650506126798E-4, acquisitions -> 5.327650506126798E-4, harbor's -> 0.0015982951518380393, june -> 5.327650506126798E-4, bidding -> 0.0010655301012253596, named -> 5.327650506126798E-4, britain -> 5.327650506126798E-4, decreed -> 5.327650506126798E-4, timeline -> 0.0010655301012253596, india's -> 5.327650506126798E-4, promotional -> 5.327650506126798E-4, volunteers -> 5.327650506126798E-4, inched -> 5.327650506126798E-4, golf -> 5.327650506126798E-4, abe -> 5.327650506126798E-4, trap -> 5.327650506126798E-4, imports -> 5.327650506126798E-4, speculated -> 5.327650506126798E-4, steeper -> 5.327650506126798E-4, supporting -> 5.327650506126798E-4, military -> 0.0037293553542887587, 68 -> 5.327650506126798E-4, state -> 0.0031965903036760787, put -> 5.327650506126798E-4, miles -> 5.327650506126798E-4, intensified -> 5.327650506126798E-4, 80 -> 5.327650506126798E-4, lobbied -> 5.327650506126798E-4, airport -> 5.327650506126798E-4, laborers -> 5.327650506126798E-4, rock -> 5.327650506126798E-4, buy -> 5.327650506126798E-4, elected -> 5.327650506126798E-4, openly -> 5.327650506126798E-4, finance -> 0.002131060202450719, million -> 0.004262120404901438, $307 -> 0.0010655301012253596, default -> 5.327650506126798E-4, confirmed -> 5.327650506126798E-4, emerged -> 5.327650506126798E-4, presidential -> 5.327650506126798E-4, highway -> 5.327650506126798E-4, mandate -> 5.327650506126798E-4, individual -> 5.327650506126798E-4, deal -> 0.0037293553542887587, autocratic -> 5.327650506126798E-4, lending -> 0.0015982951518380393, clear -> 5.327650506126798E-4, traversed -> 5.327650506126798E-4, attached -> 5.327650506126798E-4, world -> 0.002663825253063399, women's -> 5.327650506126798E-4, december -> 0.0010655301012253596, region -> 0.002131060202450719, japan -> 0.0010655301012253596, daily -> 5.327650506126798E-4, occasion -> 5.327650506126798E-4, struggled -> 5.327650506126798E-4, hardball -> 5.327650506126798E-4, argued -> 5.327650506126798E-4, qi -> 5.327650506126798E-4, equity -> 0.0015982951518380393, play -> 5.327650506126798E-4, intelligence -> 0.002131060202450719, chosen -> 5.327650506126798E-4, road -> 0.0037293553542887587, ended -> 0.0015982951518380393, believed -> 5.327650506126798E-4, asked -> 0.002131060202450719, world's -> 5.327650506126798E-4, people's -> 5.327650506126798E-4, geostrategic -> 5.327650506126798E-4, strings -> 5.327650506126798E-4, trade -> 0.0010655301012253596, served -> 5.327650506126798E-4, recognizer -> 5.327650506126798E-4, helter -> 5.327650506126798E-4, working -> 5.327650506126798E-4, york -> 5.327650506126798E-4, sheet -> 5.327650506126798E-4, amount -> 5.327650506126798E-4, struggling -> 0.002131060202450719, condition -> 5.327650506126798E-4, return -> 5.327650506126798E-4, cargo -> 5.327650506126798E-4, laid -> 5.327650506126798E-4, work -> 5.327650506126798E-4, zone -> 5.327650506126798E-4, $4 -> 5.327650506126798E-4, $14 -> 5.327650506126798E-4, plucked -> 5.327650506126798E-4, powerful -> 5.327650506126798E-4, tankers -> 5.327650506126798E-4, model -> 5.327650506126798E-4, july -> 5.327650506126798E-4, wikileaks -> 5.327650506126798E-4, family -> 0.0010655301012253596, governments -> 0.0010655301012253596, 7 -> 0.0010655301012253596, methodical -> 5.327650506126798E-4, easing -> 5.327650506126798E-4, leverage -> 5.327650506126798E-4, article -> 5.327650506126798E-4, stuffing -> 5.327650506126798E-4, loans -> 0.0037293553542887587, west -> 5.327650506126798E-4, fixed -> 5.327650506126798E-4, ships -> 0.0037293553542887587, enterprises -> 5.327650506126798E-4, people -> 5.327650506126798E-4, built -> 0.0010655301012253596, board -> 0.0010655301012253596, approaching -> 5.327650506126798E-4, decisions -> 5.327650506126798E-4, 1 -> 0.0010655301012253596, bitterly -> 5.327650506126798E-4, size -> 5.327650506126798E-4, ballooning -> 5.327650506126798E-4, navy -> 5.327650506126798E-4, 50 -> 5.327650506126798E-4, united -> 0.0010655301012253596, agreements -> 0.0010655301012253596, bleak -> 5.327650506126798E-4, careful -> 5.327650506126798E-4, elephants -> 5.327650506126798E-4, exposure -> 5.327650506126798E-4, questioning -> 5.327650506126798E-4, claim -> 5.327650506126798E-4, agreed -> 0.0010655301012253596, years -> 0.005327650506126798, rice -> 5.327650506126798E-4, shivshankar -> 5.327650506126798E-4, starkly -> 5.327650506126798E-4, commercial -> 0.0015982951518380393, strong -> 0.0010655301012253596, contract -> 5.327650506126798E-4, small -> 0.0015982951518380393, center -> 5.327650506126798E-4, allies -> 5.327650506126798E-4, active -> 5.327650506126798E-4, expected -> 5.327650506126798E-4, number -> 5.327650506126798E-4, line -> 5.327650506126798E-4, policies -> 0.0010655301012253596, land -> 0.0031965903036760787, internal -> 5.327650506126798E-4, point -> 5.327650506126798E-4, details -> 5.327650506126798E-4, ethnic -> 5.327650506126798E-4, standpoint -> 5.327650506126798E-4, handed -> 0.0010655301012253596, lanes -> 5.327650506126798E-4, 3,667 -> 5.327650506126798E-4, pressed -> 5.327650506126798E-4, increased -> 5.327650506126798E-4, democracies -> 5.327650506126798E-4, suggesting -> 5.327650506126798E-4, crash -> 5.327650506126798E-4, meant -> 5.327650506126798E-4, present -> 5.327650506126798E-4, sound -> 5.327650506126798E-4, balance -> 5.327650506126798E-4, de -> 0.0015982951518380393, stake -> 0.0010655301012253596, concerned -> 5.327650506126798E-4, document -> 0.0010655301012253596, capital -> 0.0015982951518380393, brothers -> 0.0010655301012253596, gain -> 5.327650506126798E-4, sea -> 5.327650506126798E-4, copy -> 5.327650506126798E-4, money -> 5.327650506126798E-4, relations -> 0.0010655301012253596, main -> 0.0015982951518380393, term -> 0.0010655301012253596, adams -> 5.327650506126798E-4, comparison -> 5.327650506126798E-4, norms -> 5.327650506126798E-4, expanding -> 0.0010655301012253596, belt -> 0.0031965903036760787, 26 -> 5.327650506126798E-4, shisheng -> 5.327650506126798E-4, originally -> 5.327650506126798E-4, philippines -> 5.327650506126798E-4, simply -> 5.327650506126798E-4, chairwoman -> 5.327650506126798E-4, saris -> 5.327650506126798E-4, frequent -> 5.327650506126798E-4, half -> 5.327650506126798E-4, handover -> 0.0010655301012253596, leaked -> 5.327650506126798E-4, commitment -> 5.327650506126798E-4, sign -> 5.327650506126798E-4, meeting -> 5.327650506126798E-4, initial -> 5.327650506126798E-4, polls -> 5.327650506126798E-4, 2015 -> 0.002131060202450719, viable -> 5.327650506126798E-4, military's -> 5.327650506126798E-4, rules -> 5.327650506126798E-4, profitability -> 5.327650506126798E-4, possibilities -> 5.327650506126798E-4, election -> 0.0015982951518380393, waterway -> 5.327650506126798E-4, rodrigo -> 0.0010655301012253596, 2009 -> 0.0015982951518380393, feasibility -> 0.0015982951518380393, added -> 0.0010655301012253596, important -> 5.327650506126798E-4, indian -> 0.0031965903036760787, international -> 0.002663825253063399, calling -> 0.0010655301012253596, cover -> 5.327650506126798E-4, grand -> 0.0010655301012253596, registered -> 5.327650506126798E-4, building -> 5.327650506126798E-4, foreign -> 0.002131060202450719, revolution -> 5.327650506126798E-4, officials -> 0.017048481619605753, months -> 0.002131060202450719, liberation -> 5.327650506126798E-4, population -> 0.0010655301012253596, heavy -> 5.327650506126798E-4, nov -> 5.327650506126798E-4, $40 -> 5.327650506126798E-4, year -> 0.005327650506126798, forum -> 5.327650506126798E-4, report -> 5.327650506126798E-4, revenue -> 0.002131060202450719, space -> 5.327650506126798E-4, faced -> 5.327650506126798E-4, ren -> 5.327650506126798E-4, sparsely -> 5.327650506126798E-4, issue -> 5.327650506126798E-4, efforts -> 5.327650506126798E-4, demanded -> 0.0010655301012253596, twitter -> 5.327650506126798E-4, refused -> 5.327650506126798E-4, lost -> 0.0010655301012253596, days -> 5.327650506126798E-4, economy -> 5.327650506126798E-4, heavily -> 0.0015982951518380393, hold -> 5.327650506126798E-4, sat -> 5.327650506126798E-4, choice -> 5.327650506126798E-4, boasted -> 5.327650506126798E-4, increasingly -> 5.327650506126798E-4, hundred -> 5.327650506126798E-4, docked -> 5.327650506126798E-4, scheduled -> 5.327650506126798E-4, opposition -> 0.0015982951518380393, signal -> 5.327650506126798E-4, percent -> 0.0031965903036760787, typical -> 5.327650506126798E-4, part -> 0.0015982951518380393, threatening -> 5.327650506126798E-4, subjugate -> 5.327650506126798E-4, political -> 0.0015982951518380393, future -> 5.327650506126798E-4, cooperation -> 5.327650506126798E-4, $3 -> 0.0010655301012253596, ahead -> 0.0015982951518380393, ports -> 0.0010655301012253596, fueling -> 5.327650506126798E-4, liability -> 5.327650506126798E-4, pressured -> 5.327650506126798E-4, sleepy -> 5.327650506126798E-4, scrutinize -> 5.327650506126798E-4, attempted -> 5.327650506126798E-4, public -> 5.327650506126798E-4, announced -> 5.327650506126798E-4, operating -> 5.327650506126798E-4, bangladesh -> 5.327650506126798E-4, president's -> 0.0010655301012253596, accept -> 0.0010655301012253596, final -> 0.002131060202450719, area -> 5.327650506126798E-4, 85 -> 5.327650506126798E-4, oil -> 5.327650506126798E-4, agency -> 5.327650506126798E-4, shirts -> 5.327650506126798E-4, january -> 0.0010655301012253596, ministries -> 5.327650506126798E-4, sirisena -> 5.327650506126798E-4, view -> 5.327650506126798E-4, corruption -> 5.327650506126798E-4, stock -> 5.327650506126798E-4, holdings -> 5.327650506126798E-4, 2012 -> 0.002131060202450719, paint -> 5.327650506126798E-4, limits -> 5.327650506126798E-4, counterparts -> 5.327650506126798E-4, 15,000 -> 0.0010655301012253596, voters -> 5.327650506126798E-4, annual -> 5.327650506126798E-4, drew -> 5.327650506126798E-4, hu -> 5.327650506126798E-4, corrupt -> 5.327650506126798E-4, risk -> 5.327650506126798E-4, retained -> 5.327650506126798E-4, payment -> 0.0010655301012253596, harshest -> 5.327650506126798E-4, dredged -> 5.327650506126798E-4, roughly -> 0.0010655301012253596, wiped -> 5.327650506126798E-4, nearby -> 5.327650506126798E-4, integral -> 5.327650506126798E-4, reorient -> 5.327650506126798E-4, faithfully -> 5.327650506126798E-4, john -> 5.327650506126798E-4, isolated -> 5.327650506126798E-4, turned -> 5.327650506126798E-4, run -> 0.0010655301012253596, assets -> 5.327650506126798E-4, skelter -> 5.327650506126798E-4, verified -> 5.327650506126798E-4, change -> 5.327650506126798E-4, inherited -> 5.327650506126798E-4, national -> 0.002663825253063399, predicted -> 5.327650506126798E-4, bring -> 5.327650506126798E-4, ambitious -> 0.0015982951518380393, distinguished -> 5.327650506126798E-4, great -> 5.327650506126798E-4, renegotiated -> 5.327650506126798E-4, anticorruption -> 5.327650506126798E-4, control -> 0.002131060202450719, barred -> 5.327650506126798E-4, silk -> 5.327650506126798E-4, gave -> 5.327650506126798E-4, human -> 5.327650506126798E-4, lanka's -> 0.008524240809802876, signature -> 5.327650506126798E-4, states -> 5.327650506126798E-4, research -> 0.0010655301012253596, power -> 5.327650506126798E-4, party -> 5.327650506126798E-4, fund -> 0.0015982951518380393, forbids -> 5.327650506126798E-4, daunting -> 5.327650506126798E-4, respond -> 5.327650506126798E-4, investigation -> 0.0010655301012253596, video -> 5.327650506126798E-4, pressure -> 5.327650506126798E-4, raises -> 5.327650506126798E-4, tag -> 5.327650506126798E-4, process -> 5.327650506126798E-4, terminal -> 5.327650506126798E-4, site -> 5.327650506126798E-4, exorbitant -> 5.327650506126798E-4, presided -> 5.327650506126798E-4, growing -> 5.327650506126798E-4, berth -> 5.327650506126798E-4, bribe -> 5.327650506126798E-4, early -> 5.327650506126798E-4, expand -> 0.0010655301012253596, ready -> 5.327650506126798E-4, billion -> 0.004794885455514118, make -> 0.0010655301012253596, rajapaksa -> 0.009589770911028236, fight -> 5.327650506126798E-4, compared -> 5.327650506126798E-4, relied -> 0.0010655301012253596, proclaiming -> 5.327650506126798E-4, strengthen -> 0.0010655301012253596, companies -> 0.0015982951518380393, released -> 0.0010655301012253596, affairs -> 0.0010655301012253596, brother -> 5.327650506126798E-4, estimates -> 5.327650506126798E-4, close -> 5.327650506126798E-4, continents -> 5.327650506126798E-4, stemming -> 5.327650506126798E-4, handing -> 5.327650506126798E-4, negative -> 5.327650506126798E-4, thousands -> 0.0010655301012253596, costs -> 0.0010655301012253596, dud -> 0.0010655301012253596, immediately -> 5.327650506126798E-4, support -> 0.0010655301012253596, army -> 5.327650506126798E-4, impatient -> 5.327650506126798E-4, diplomats -> 5.327650506126798E-4, height -> 5.327650506126798E-4, structured -> 5.327650506126798E-4, farmers -> 5.327650506126798E-4, invitation -> 5.327650506126798E-4, appears -> 5.327650506126798E-4, bid -> 5.327650506126798E-4, signed -> 5.327650506126798E-4, 34 -> 0.0010655301012253596, thriving -> 5.327650506126798E-4, policy -> 0.0010655301012253596, authority's -> 5.327650506126798E-4, centered -> 5.327650506126798E-4, menon -> 0.0010655301012253596, jin -> 5.327650506126798E-4, clause -> 5.327650506126798E-4, 6 -> 0.0010655301012253596, distributed -> 5.327650506126798E-4, economist -> 5.327650506126798E-4, strategic -> 0.002663825253063399, dispensed -> 5.327650506126798E-4, influence -> 0.0010655301012253596, brutal -> 5.327650506126798E-4, remaining -> 5.327650506126798E-4, repayment -> 5.327650506126798E-4, commissioned -> 5.327650506126798E-4, authority -> 0.0010655301012253596, interview -> 0.0010655301012253596, project -> 0.006925945657964837, western -> 5.327650506126798E-4, concern -> 5.327650506126798E-4, advisers -> 5.327650506126798E-4, raised -> 5.327650506126798E-4, major -> 0.0015982951518380393, silva -> 0.0010655301012253596, infamously -> 5.327650506126798E-4, contracts -> 5.327650506126798E-4, secretary -> 0.002131060202450719, residence -> 5.327650506126798E-4, times -> 0.002131060202450719, route -> 5.327650506126798E-4, car -> 5.327650506126798E-4, cabraal -> 5.327650506126798E-4, detailed -> 5.327650506126798E-4, quick -> 5.327650506126798E-4, indebted -> 5.327650506126798E-4, colombo's -> 5.327650506126798E-4, amounts -> 5.327650506126798E-4, time -> 0.002663825253063399, roads -> 5.327650506126798E-4, seaport -> 5.327650506126798E-4, left -> 0.002131060202450719, dismissed -> 5.327650506126798E-4, represents -> 5.327650506126798E-4, china's -> 0.005327650506126798, celebration -> 5.327650506126798E-4, tamil -> 5.327650506126798E-4, detect -> 5.327650506126798E-4, estimated -> 0.0010655301012253596, municipal -> 5.327650506126798E-4, exchange -> 5.327650506126798E-4, moved -> 5.327650506126798E-4, diplomatic -> 5.327650506126798E-4, gleaned -> 5.327650506126798E-4, nivard -> 5.327650506126798E-4, monk -> 5.327650506126798E-4, coast -> 5.327650506126798E-4, cricket -> 5.327650506126798E-4, limited -> 0.0010655301012253596, vivid -> 5.327650506126798E-4, debts -> 5.327650506126798E-4, demands -> 5.327650506126798E-4, owed -> 0.0010655301012253596, advises -> 0.0010655301012253596, case -> 0.0010655301012253596, campaign -> 0.0015982951518380393, spending -> 5.327650506126798E-4, greenlighted -> 5.327650506126798E-4, xi -> 0.0010655301012253596, shortly -> 5.327650506126798E-4, night -> 5.327650506126798E-4, southeastern -> 5.327650506126798E-4, sovereignty -> 0.0010655301012253596, proved -> 5.327650506126798E-4, nihal -> 5.327650506126798E-4, rate -> 0.0010655301012253596, harbor -> 0.005327650506126798, ministry -> 0.0015982951518380393, big -> 5.327650506126798E-4, quietly -> 5.327650506126798E-4, 22 -> 5.327650506126798E-4, unwilling -> 5.327650506126798E-4, institutes -> 5.327650506126798E-4, coming -> 0.002663825253063399, skyline -> 5.327650506126798E-4, discussions -> 5.327650506126798E-4, wanted -> 5.327650506126798E-4, program -> 0.0010655301012253596, difficult -> 5.327650506126798E-4, profitable -> 5.327650506126798E-4, stopping -> 5.327650506126798E-4, governor -> 5.327650506126798E-4, infrastructure -> 5.327650506126798E-4, abuses -> 5.327650506126798E-4, charges -> 5.327650506126798E-4, partly -> 5.327650506126798E-4, hambantota's -> 5.327650506126798E-4, preventing -> 5.327650506126798E-4, asia -> 0.0010655301012253596, led -> 5.327650506126798E-4, mr -> 0.013851891315929675, opened -> 0.0015982951518380393, examples -> 5.327650506126798E-4, contemporary -> 5.327650506126798E-4, speak -> 5.327650506126798E-4, carefully -> 5.327650506126798E-4, march -> 5.327650506126798E-4, port's -> 0.0037293553542887587, dangle -> 5.327650506126798E-4, fill -> 5.327650506126798E-4, financing -> 0.0010655301012253596, long -> 5.327650506126798E-4, mel -> 5.327650506126798E-4, waiting -> 5.327650506126798E-4, devising -> 5.327650506126798E-4, verit -> 5.327650506126798E-4, onerous -> 5.327650506126798E-4, merchants -> 0.002131060202450719, 2020 -> 5.327650506126798E-4, central -> 0.0010655301012253596, stark -> 5.327650506126798E-4, original -> 5.327650506126798E-4, leeway -> 5.327650506126798E-4, delivered -> 5.327650506126798E-4, fresh -> 0.0010655301012253596, erased -> 5.327650506126798E-4, capacity -> 5.327650506126798E-4, hungry -> 5.327650506126798E-4, phase -> 5.327650506126798E-4, berthed -> 5.327650506126798E-4, 2014 -> 5.327650506126798E-4, chartered -> 5.327650506126798E-4, swept -> 5.327650506126798E-4, surrounding -> 0.0010655301012253596, embassy -> 5.327650506126798E-4, news -> 0.0010655301012253596, add -> 5.327650506126798E-4, 3 -> 0.0010655301012253596, chellaney -> 5.327650506126798E-4, desperate -> 5.327650506126798E-4, institutional -> 5.327650506126798E-4, picture -> 0.0010655301012253596, called -> 0.0010655301012253596, hamlet -> 5.327650506126798E-4, open -> 0.0015982951518380393, answer -> 5.327650506126798E-4, beltandroad -> 5.327650506126798E-4, kick -> 5.327650506126798E-4, cash -> 5.327650506126798E-4, recent -> 0.0010655301012253596, ravi -> 5.327650506126798E-4, create -> 5.327650506126798E-4, 10 -> 0.0010655301012253596, vulnerable -> 5.327650506126798E-4, dry -> 5.327650506126798E-4, end -> 0.0010655301012253596, insufficient -> 5.327650506126798E-4, premium -> 5.327650506126798E-4, documents -> 0.0010655301012253596, path -> 5.327650506126798E-4, ensured -> 5.327650506126798E-4, home -> 5.327650506126798E-4, caddies -> 5.327650506126798E-4, seizure -> 5.327650506126798E-4, port -> 0.02930207778369739, integrity -> 5.327650506126798E-4, knowledge -> 5.327650506126798E-4, pledges -> 5.327650506126798E-4, repayments -> 5.327650506126798E-4, start -> 0.0015982951518380393, turn -> 5.327650506126798E-4, folded -> 5.327650506126798E-4, full -> 5.327650506126798E-4, minister -> 0.002663825253063399, carrying -> 5.327650506126798E-4, gathering -> 5.327650506126798E-4, office -> 0.002663825253063399, airline -> 5.327650506126798E-4, build -> 0.0010655301012253596, ajith -> 5.327650506126798E-4, jinping's -> 5.327650506126798E-4, failing -> 5.327650506126798E-4, 2008 -> 5.327650506126798E-4, repaid -> 5.327650506126798E-4, person -> 5.327650506126798E-4, trees -> 5.327650506126798E-4, critical -> 5.327650506126798E-4, comprehensive -> 5.327650506126798E-4, planning -> 5.327650506126798E-4, interests -> 5.327650506126798E-4, stage -> 5.327650506126798E-4, populated -> 5.327650506126798E-4, aides -> 0.0010655301012253596, relationship -> 5.327650506126798E-4, personnel -> 5.327650506126798E-4, interviews -> 0.0010655301012253596, india -> 0.002131060202450719, box -> 5.327650506126798E-4, joint -> 5.327650506126798E-4, exert -> 5.327650506126798E-4, release -> 5.327650506126798E-4, banned -> 0.0010655301012253596, started -> 0.0010655301012253596, introduced -> 5.327650506126798E-4, sanctions -> 5.327650506126798E-4, beijing -> 5.327650506126798E-4, variable -> 5.327650506126798E-4, bar -> 5.327650506126798E-4, investment -> 0.0015982951518380393, financial -> 0.002131060202450719, insisted -> 0.0010655301012253596, flooded -> 5.327650506126798E-4, settled -> 5.327650506126798E-4, initially -> 0.0010655301012253596, south -> 0.0015982951518380393, day -> 0.0010655301012253596, 2017 -> 5.327650506126798E-4, array -> 5.327650506126798E-4, consolidated -> 5.327650506126798E-4, things -> 5.327650506126798E-4, option -> 5.327650506126798E-4, paddies -> 5.327650506126798E-4, behavior -> 5.327650506126798E-4, initiative -> 0.002131060202450719, parent -> 5.327650506126798E-4, justify -> 5.327650506126798E-4, involved -> 0.0010655301012253596, payments -> 0.002663825253063399, $12 -> 5.327650506126798E-4, expect -> 5.327650506126798E-4, relief -> 5.327650506126798E-4, business -> 0.002131060202450719, $678,000 -> 5.327650506126798E-4, material -> 5.327650506126798E-4, print -> 5.327650506126798E-4, flydubai -> 5.327650506126798E-4, head -> 5.327650506126798E-4, held -> 0.0010655301012253596, shorthand -> 5.327650506126798E-4, stadium -> 5.327650506126798E-4, nishan -> 5.327650506126798E-4, rising -> 0.0010655301012253596, campaigned -> 5.327650506126798E-4, permission -> 5.327650506126798E-4, passing -> 5.327650506126798E-4, milestone -> 5.327650506126798E-4, government's -> 0.0010655301012253596, policymaker -> 5.327650506126798E-4, outright -> 5.327650506126798E-4, popular -> 5.327650506126798E-4, activities -> 5.327650506126798E-4, tenure -> 5.327650506126798E-4)"
      ]
     },
     "execution_count": 56,
     "metadata": {},
     "output_type": "execute_result"
    }
   ],
   "source": [
    "import scala.collection.mutable.Map\n",
    "var wordFreqMap = Map.empty[String, Double]\n",
    "var totalWordsCount = 0\n",
    "\n",
    "flattenSentence.map{\n",
    "    case (id, listWords) =>\n",
    "    listWords.map{\n",
    "        word =>\n",
    "        if(wordFreqMap.contains(word))\n",
    "            wordFreqMap(word) += 1\n",
    "        else\n",
    "            wordFreqMap(word) = 1.0\n",
    "    }\n",
    "}\n",
    "\n",
    "wordFreqMap.foreach{\n",
    "    count => \n",
    "    totalWordsCount += count._2.toInt\n",
    "}\n",
    "\n",
    "wordFreqMap = wordFreqMap.map{\n",
    "    case (word, count) => \n",
    "    (word, count/totalWordsCount)\n",
    "}"
   ]
  },
  {
   "cell_type": "code",
   "execution_count": 58,
   "metadata": {},
   "outputs": [
    {
     "data": {
      "text/plain": [
       "important_text = Array(cargo, ship, navigating, world's, busiest, shipping, lanes, hambantota, sri, lanka, china, sri, lanka, cough, port)\n"
      ]
     },
     "metadata": {},
     "output_type": "display_data",
     "source": "user"
    },
    {
     "data": {
      "text/plain": [
       "[cargo, ship, navigating, world's, busiest, shipping, lanes, hambantota, sri, lanka, china, sri, lanka, cough, port]"
      ]
     },
     "execution_count": 58,
     "metadata": {},
     "output_type": "execute_result"
    }
   ],
   "source": [
    "var important_text = wordPreProcess(headline) ++ (wordPreProcess(title))\n",
    "\n",
    "important_text.foreach{\n",
    "    word => \n",
    "    if(wordFreqMap.contains(word))\n",
    "        wordFreqMap(word) = wordFreqMap.valuesIterator.max\n",
    "}"
   ]
  },
  {
   "cell_type": "code",
   "execution_count": 59,
   "metadata": {},
   "outputs": [
    {
     "name": "stdout",
     "output_type": "stream",
     "text": [
      "And then the port became China's. Officials for China Harbor also would not comment. That clause is there because Chinese Navy submarines had already come calling to Sri Lanka. With tens of thousands of ships passing by along one of the world's busiest shipping lanes, the port drew only 34 ships in 2012. Mr. Rajapaksa acquiesced. A new government can't just stop loans. The Hambantota port opened in an elaborate celebration on Nov. He estimated that debt owed to China could be as much as $5 billion and was growing every year. It was an economic dud then, and it's an economic dud now.\n"
     ]
    },
    {
     "data": {
      "text/plain": [
       "numberOfWords = 50\n",
       "wordCount = 50\n",
       "listBuffer = ListBuffer(And then the port became China's., Officials for China Harbor also would not comment., That clause is there because Chinese Navy submarines had already come calling to Sri Lanka., With tens of thousands of ships passing by along one of the world's busiest shipping lanes, the port drew only 34 ships in 2012., Mr. Rajapaksa acquiesced., A new government can't just stop loans., The Hambantota port opened in an elaborate celebration on Nov., He estimated that debt owed to China could be as much as $5 billion and was growing every year., It was an economic dud then, and it's an economic dud now.)\n"
      ]
     },
     "metadata": {},
     "output_type": "display_data",
     "source": "user"
    },
    {
     "data": {
      "text/plain": [
       "ListBuffer(And then the port became China's., Officials for China Harbor also would not comment., That clause is there because Chinese Navy submarines had already come calling to Sri Lanka., With tens of thousands of ships passing by along one of the world's busiest shipping lanes, the port drew only 34 ships in 2012., Mr. Rajapaksa acquiesced., A new government can't just stop loans., The Hambantota port opened in an elaborate celebration on Nov., He estimated that debt owed to China could be as much as $5 billion and was growing every year., It was an economic dud then, and it's an economic dud now.)"
      ]
     },
     "execution_count": 59,
     "metadata": {},
     "output_type": "execute_result"
    }
   ],
   "source": [
    "var numberOfWords = 50\n",
    "var wordCount = 0\n",
    "var listBuffer = ListBuffer[String]()\n",
    "\n",
    "while(wordCount < numberOfWords){\n",
    "    \n",
    "    var sentenceWeight = flattenSentence.map{\n",
    "        case (id, listOfWords) =>\n",
    "        var weight = listOfWords.map{\n",
    "            word => wordFreqMap(word)\n",
    "        }.reduce{ (i,j) => i + j}\n",
    "        var wordsInSentence = listOfWords.length.toInt\n",
    "        (id, weight/wordsInSentence, wordsInSentence)\n",
    "    }.sortBy{\n",
    "        x => -x._2\n",
    "    }\n",
    "    \n",
    "    var bestScoringId = sentenceWeight(0)._1.toInt\n",
    "    \n",
    "    \n",
    "    listBuffer += split(bestScoringId)\n",
    "\n",
    "    //Update wordFrequency\n",
    "    flattenSentence(bestScoringId)._2.foreach{\n",
    "        word => \n",
    "        wordFreqMap(word) = wordFreqMap(word) * wordFreqMap(word)\n",
    "    }\n",
    "    wordCount += sentenceWeight(0)._3\n",
    "}\n",
    "println(listBuffer.toList.mkString(\" \"))"
   ]
  },
  {
   "cell_type": "code",
   "execution_count": null,
   "metadata": {},
   "outputs": [],
   "source": []
  },
  {
   "cell_type": "code",
   "execution_count": null,
   "metadata": {},
   "outputs": [],
   "source": []
  },
  {
   "cell_type": "markdown",
   "metadata": {},
   "source": [
    "### Using Stanford Library"
   ]
  },
  {
   "cell_type": "code",
   "execution_count": 4,
   "metadata": {},
   "outputs": [
    {
     "name": "stdout",
     "output_type": "stream",
     "text": [
      "Marking edu.stanford.nlp:stanford-corenlp:3.9.1 for download\n",
      "Preparing to fetch from:\n",
      "-> file:/tmp/toree-tmp-dir8440496518300588291/toree_add_deps/\n",
      "-> https://repo1.maven.org/maven2\n",
      "-> New file at /tmp/toree-tmp-dir8440496518300588291/toree_add_deps/https/repo1.maven.org/maven2/edu/stanford/nlp/stanford-corenlp/3.9.1/stanford-corenlp-3.9.1.jar\n",
      "-> New file at /tmp/toree-tmp-dir8440496518300588291/toree_add_deps/https/repo1.maven.org/maven2/edu/stanford/nlp/stanford-corenlp/3.9.1/stanford-corenlp-3.9.1.pom\n"
     ]
    }
   ],
   "source": [
    "%AddDeps edu.stanford.nlp stanford-corenlp 3.9.1"
   ]
  },
  {
   "cell_type": "code",
   "execution_count": 4,
   "metadata": {},
   "outputs": [
    {
     "data": {
      "text/plain": [
       "wordPreProcess: (input: Any)Array[String]\n"
      ]
     },
     "metadata": {},
     "output_type": "display_data"
    }
   ],
   "source": [
    "// Using Stanford NLP Core\n",
    "\n",
    "import java.io.StringReader\n",
    "import java.lang.Object._\n",
    "import edu.stanford.nlp.process.DocumentPreprocessor\n",
    "import edu.stanford.nlp.ling.HasWord\n",
    "import scala.collection.JavaConversions._\n",
    "\n",
    "var paragraph = parsedData.first()(5)\n",
    "\n",
    "var reader = new StringReader(paragraph);\n",
    "var dp = new DocumentPreprocessor(reader);\n",
    "var sentenceListBuffer = ListBuffer[Tuple2[String, List[String]]]()\n",
    "\n",
    "for(sentence <- dp){\n",
    "    var wordListBuffer = ListBuffer[String]()\n",
    "    for(word <- sentence){\n",
    "        wordListBuffer += word.word()\n",
    "    }\n",
    "    val combinedSentence = sentence.mkString(\" \")\n",
    "                .replaceAll(\" ''\", \"\\\"\")\n",
    "                .replaceAll(\"`` \", \"\\\"\")\n",
    "                .replaceAll(\" \\\\.\", \"\\\\.\")\n",
    "                .replaceAll(\" \\\\?\", \"\\\\? \")\n",
    "                .replaceAll(\" \\\\!\", \"\\\\!\")\n",
    "                .replaceAll(\" '\", \"'\")\n",
    "                .replaceAll(\" ,\", \",\")\n",
    "                .replaceAll(\"$ \", \"$\")\n",
    "    sentenceListBuffer += Tuple2(combinedSentence, wordListBuffer.toList)\n",
    "}\n",
    "\n",
    "var sentenceList = sentenceListBuffer.toList"
   ]
  }
 ],
 "metadata": {
  "kernelspec": {
   "display_name": "Apache Toree - Scala",
   "language": "scala",
   "name": "apache_toree_scala"
  },
  "language_info": {
   "codemirror_mode": "text/x-scala",
   "file_extension": ".scala",
   "mimetype": "text/x-scala",
   "name": "scala",
   "pygments_lexer": "scala",
   "version": "2.11.8"
  }
 },
 "nbformat": 4,
 "nbformat_minor": 2
}
