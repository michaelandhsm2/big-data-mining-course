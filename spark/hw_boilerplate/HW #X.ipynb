{
 "cells": [
  {
   "cell_type": "markdown",
   "metadata": {},
   "source": [
    "# Homework 1\n",
    "\n",
    "## Description\n",
    "\n",
    "### Data\n",
    "[Individual household electric power consumption dataset](https://archive.ics.uci.edu/ml/datasets/individual+household+electric+power+consumption) - about 2 million instances, 20MB (compressed) in size\n",
    "\n",
    "\n",
    "### Format\n",
    "One text file consisting of lines of records.\n",
    "\n",
    "Each record contains 9 attributes separated by semicolons: \n",
    "1. date: Date in format dd/mm/yyyy \n",
    "2. time: time in format hh:mm:ss \n",
    "3. global_active_power: household global minute-averaged active power (in kilowatt) \n",
    "4. global_reactive_power: household global minute-averaged reactive power (in kilowatt) \n",
    "5. voltage: minute-averaged voltage (in volt) \n",
    "6. global_intensity: household global minute-averaged current intensity (in ampere) \n",
    "7. sub_metering_1: energy sub-metering No. 1 (in watt-hour of active energy)\n",
    "It corresponds to the kitchen, containing mainly a dishwasher, an oven and a microwave (hot plates are not electric but gas powered) \n",
    "8. sub_metering_2: energy sub-metering No. 2 (in watt-hour of active energy)\n",
    "It corresponds to the laundry room, containing a washing-machine, a tumble-drier, a refrigerator and a light. \n",
    "9. sub_metering_3: energy sub-metering No. 3 (in watt-hour of active energy)\n",
    "It corresponds to an electric water-heater and an air-conditioner.\n",
    "\n",
    "\n",
    "### Task\n",
    "3 subtasks:\n",
    "+ (30pt) Output the minimum, maximum, and count of the columns: ‘global active power’, ‘global reactive power’, ‘voltage’, and ‘global intensity’\n",
    "+ (30pt) Output the mean and standard deviation of these columns\n",
    "+ (40pt) Perform min-max normalization on the columns to generate normalized output\n",
    "\n",
    "### Implementation Issues\n",
    "+ Missing values\n",
    "+ Conversion of data types\n"
   ]
  },
  {
   "cell_type": "markdown",
   "metadata": {},
   "source": [
    "## Implementation"
   ]
  },
  {
   "cell_type": "code",
   "execution_count": 2,
   "metadata": {},
   "outputs": [
    {
     "name": "stdout",
     "output_type": "stream",
     "text": [
      "Spark Entity:       org.apache.spark.sql.SparkSession@76d1a466\n",
      "Spark version:      2.3.0\n",
      "Spark master:       local[*]\n",
      "Running 'locally'?: true\n"
     ]
    }
   ],
   "source": [
    "// Pre-Configured Spark Context in sc\n",
    "\n",
    "println(\"Spark Entity:       \" + spark)\n",
    "println(\"Spark version:      \" + spark.version)\n",
    "println(\"Spark master:       \" + spark.sparkContext.master)\n",
    "println(\"Running 'locally'?: \" + spark.sparkContext.isLocal)"
   ]
  },
  {
   "cell_type": "code",
   "execution_count": 4,
   "metadata": {},
   "outputs": [
    {
     "name": "stdout",
     "output_type": "stream",
     "text": [
      "Date;Time;Global_active_power;Global_reactive_power;Voltage;Global_intensity;Sub_metering_1;Sub_metering_2;Sub_metering_3\n",
      "16/12/2006;17:24:00;4.216;0.418;234.840;18.400;0.000;1.000;17.000\n",
      "16/12/2006;17:25:00;5.360;0.436;233.630;23.000;0.000;1.000;16.000\n",
      "16/12/2006;17:26:00;5.374;0.498;233.290;23.000;0.000;2.000;17.000\n",
      "16/12/2006;17:27:00;5.388;0.502;233.740;23.000;0.000;1.000;17.000\n"
     ]
    }
   ],
   "source": [
    "import java.io.File\n",
    "val data = spark.sparkContext.textFile(\"./data/data.txt\")\n",
    "data.take(5).foreach(println)"
   ]
  },
  {
   "cell_type": "code",
   "execution_count": 3,
   "metadata": {},
   "outputs": [
    {
     "name": "stdout",
     "output_type": "stream",
     "text": [
      "Date;Time;Global_active_power;Global_reactive_power;Voltage;Global_intensity;Sub_metering_1;Sub_metering_2;Sub_metering_3\n",
      "16/12/2006;17:24:00;4.216;0.418;234.840;18.400;0.000;1.000;17.000\n",
      "16/12/2006;17:25:00;5.360;0.436;233.630;23.000;0.000;1.000;16.000\n",
      "16/12/2006;17:26:00;5.374;0.498;233.290;23.000;0.000;2.000;17.000\n",
      "16/12/2006;17:27:00;5.388;0.502;233.740;23.000;0.000;1.000;17.000\n"
     ]
    }
   ],
   "source": [
    "// Remove Header\n",
    "val header = data.first\n",
    "val rows = data.filter(l => l != header)\n",
    "data.take(5).foreach(println)"
   ]
  },
  {
   "cell_type": "code",
   "execution_count": 4,
   "metadata": {},
   "outputs": [
    {
     "name": "stdout",
     "output_type": "stream",
     "text": [
      "(Global Active Power,4.216)\n",
      "(Global Reactive Power,0.418)\n",
      "(Voltage,234.84)\n",
      "(Global Intensity,18.4)\n",
      "(Global Active Power,5.36)\n",
      "(Global Reactive Power,0.436)\n",
      "(Voltage,233.63)\n",
      "(Global Intensity,23.0)\n",
      "(Global Active Power,5.374)\n",
      "(Global Reactive Power,0.498)\n"
     ]
    }
   ],
   "source": [
    "val flattenData = rows.\n",
    "    flatMap{ dataString =>\n",
    "        dataString.split(\";\").\n",
    "            zipWithIndex.\n",
    "            filter{\n",
    "                case (value,index) => index >= 2 && index <= 5 && value !=\"?\"\n",
    "            }.map{\n",
    "                case (value,index) => \n",
    "                    index match{\n",
    "                        case 2 => (\"Global Active Power\",value.toDouble)\n",
    "                        case 3 => (\"Global Reactive Power\",value.toDouble)\n",
    "                        case 4 => (\"Voltage\",value.toDouble)\n",
    "                        case 5 => (\"Global Intensity\",value.toDouble)\n",
    "                    }\n",
    "                }\n",
    "    }\n",
    "flattenData.take(10).foreach(println)"
   ]
  },
  {
   "cell_type": "markdown",
   "metadata": {},
   "source": [
    "### Task 1 - Find Min, Max and Count"
   ]
  },
  {
   "cell_type": "code",
   "execution_count": 5,
   "metadata": {},
   "outputs": [
    {
     "data": {
      "text/plain": [
       "Map(Global Active Power -> 2049280, Global Reactive Power -> 2049280, Global Intensity -> 2049280, Voltage -> 2049280)"
      ]
     },
     "execution_count": 5,
     "metadata": {},
     "output_type": "execute_result"
    }
   ],
   "source": [
    "val count = flattenData.map{case (k,v) => (k,1)}.reduceByKey((i, j) => i+j).collectAsMap()\n",
    "count"
   ]
  },
  {
   "cell_type": "code",
   "execution_count": 6,
   "metadata": {},
   "outputs": [
    {
     "data": {
      "text/plain": [
       "Map(Global Active Power -> 11.122, Global Reactive Power -> 1.39, Global Intensity -> 48.4, Voltage -> 254.15)"
      ]
     },
     "execution_count": 6,
     "metadata": {},
     "output_type": "execute_result"
    }
   ],
   "source": [
    "val max = flattenData.reduceByKey{(i, j) => if (i>j) i else j}.collectAsMap()\n",
    "max"
   ]
  },
  {
   "cell_type": "code",
   "execution_count": 7,
   "metadata": {},
   "outputs": [
    {
     "data": {
      "text/plain": [
       "Map(Global Active Power -> 0.076, Global Reactive Power -> 0.0, Global Intensity -> 0.2, Voltage -> 223.2)"
      ]
     },
     "execution_count": 7,
     "metadata": {},
     "output_type": "execute_result"
    }
   ],
   "source": [
    "val min = flattenData.reduceByKey{(i, j) => if (i<j) i else j}.collectAsMap()\n",
    "min"
   ]
  },
  {
   "cell_type": "markdown",
   "metadata": {},
   "source": [
    "### Task 2 - Mean & Standard Deviation"
   ]
  },
  {
   "cell_type": "code",
   "execution_count": 8,
   "metadata": {},
   "outputs": [
    {
     "data": {
      "text/plain": [
       "Map(Global Active Power -> 1.0916150365005446, Global Reactive Power -> 0.12371447630388221, Global Intensity -> 4.627759310588324, Voltage -> 240.8398579745135)"
      ]
     },
     "execution_count": 8,
     "metadata": {},
     "output_type": "execute_result"
    }
   ],
   "source": [
    "val average = flattenData.reduceByKey((i, j) => i+j).map{case (i, j) => (i,j/2049280)}.collectAsMap()\n",
    "average"
   ]
  },
  {
   "cell_type": "code",
   "execution_count": 9,
   "metadata": {},
   "outputs": [
    {
     "data": {
      "text/plain": [
       "Map(Global Active Power -> 1.0572939031266613, Global Reactive Power -> 0.11272195204783488, Global Intensity -> 4.444395175407247, Voltage -> 3.239985888491343)"
      ]
     },
     "execution_count": 9,
     "metadata": {},
     "output_type": "execute_result"
    }
   ],
   "source": [
    "val std = flattenData.\n",
    "    map{case (k,v) => (k, scala.math.pow(v-average(k),2))}.\n",
    "    reduceByKey((i,j) => i+j).\n",
    "    map{case (k,v) => (k, math.sqrt(v/count(k)))}.collectAsMap()\n",
    "std"
   ]
  },
  {
   "cell_type": "markdown",
   "metadata": {},
   "source": [
    "### Task 3 - Min-Max Normalization"
   ]
  },
  {
   "cell_type": "code",
   "execution_count": 10,
   "metadata": {},
   "outputs": [
    {
     "data": {
      "text/plain": [
       "Array((Global Active Power,0.3747963063552418), (Global Reactive Power,0.30071942446043165), (Voltage,0.376090468497577), (Global Intensity,0.37759336099585067), (Global Active Power,0.4783632084012313), (Global Reactive Power,0.31366906474820144), (Voltage,0.33699515347334413), (Global Intensity,0.47302904564315357), (Global Active Power,0.4796306355241717), (Global Reactive Power,0.35827338129496406))"
      ]
     },
     "execution_count": 10,
     "metadata": {},
     "output_type": "execute_result"
    }
   ],
   "source": [
    "val norm = flattenData.take(10).map{case (k,v) => (k, (v-min(k))/(max(k)-min(k)))}\n",
    "norm"
   ]
  },
  {
   "cell_type": "markdown",
   "metadata": {},
   "source": [
    "## Result "
   ]
  },
  {
   "cell_type": "code",
   "execution_count": 11,
   "metadata": {},
   "outputs": [
    {
     "name": "stdout",
     "output_type": "stream",
     "text": [
      "For Global Active Power:\n",
      "        Number of Meaningful Data - 2049280\n",
      "        Maximum Value - 11.122\n",
      "        Minimum Value - 0.076\n",
      "        Mean - 1.0916150365005446\n",
      "        Standard Deviation - 1.0572939031266613\n",
      "\n",
      "For Global Reactive Power:\n",
      "        Number of Meaningful Data - 2049280\n",
      "        Maximum Value - 1.39\n",
      "        Minimum Value - 0.0\n",
      "        Mean - 0.12371447630388221\n",
      "        Standard Deviation - 0.11272195204783488\n",
      "\n",
      "For Voltage:\n",
      "        Number of Meaningful Data - 2049280\n",
      "        Maximum Value - 254.15\n",
      "        Minimum Value - 223.2\n",
      "        Mean - 240.8398579745135\n",
      "        Standard Deviation - 3.239985888491343\n",
      "\n",
      "For Global Intensity:\n",
      "        Number of Meaningful Data - 2049280\n",
      "        Maximum Value - 48.4\n",
      "        Minimum Value - 0.2\n",
      "        Mean - 4.627759310588324\n",
      "        Standard Deviation - 4.444395175407247\n",
      "\n"
     ]
    }
   ],
   "source": [
    "object MyFunctions {\n",
    "    def myprint(s: String): Unit = {\n",
    "        println(\"For \"+s+\":\")\n",
    "        println(\"        Number of Meaningful Data - \" + count(s))\n",
    "        println(\"        Maximum Value - \" + max(s))\n",
    "        println(\"        Minimum Value - \" + min(s))\n",
    "        println(\"        Mean - \" + average(s))\n",
    "        println(\"        Standard Deviation - \" + std(s) + \"\\n\")\n",
    "    }    \n",
    "}\n",
    "\n",
    "MyFunctions.myprint(\"Global Active Power\")\n",
    "MyFunctions.myprint(\"Global Reactive Power\")\n",
    "MyFunctions.myprint(\"Voltage\")\n",
    "MyFunctions.myprint(\"Global Intensity\")\n"
   ]
  },
  {
   "cell_type": "code",
   "execution_count": 12,
   "metadata": {},
   "outputs": [],
   "source": [
    "// For implicit conversions from RDDs to DataFrames\n",
    "val spark2 = spark\n",
    "import spark2.implicits._\n",
    "\n",
    "object Norm {\n",
    "    def AP(s: String): Double = {\n",
    "        process(s, \"Global Active Power\")\n",
    "    } \n",
    "    \n",
    "    def RP(s: String): Double = {\n",
    "        process(s, \"Global Reactive Power\")\n",
    "    } \n",
    "    \n",
    "    def V(s: String): Double = {\n",
    "        process(s, \"Voltage\")\n",
    "    } \n",
    "    \n",
    "    def I(s: String): Double = {\n",
    "        process(s, \"Global Intensity\")\n",
    "    } \n",
    "    \n",
    "    def process(s: String, k: String): Double = {\n",
    "        var retVal = 0.0\n",
    "        if(s == \"?\"){\n",
    "            retVal = Double.NaN\n",
    "        }else{\n",
    "            retVal = (s.toDouble-min(k))/(max(k)-min(k))\n",
    "        }\n",
    "        retVal\n",
    "    }\n",
    "}\n",
    "\n",
    "val dataDF = rows.\n",
    "                map(_.split(\";\")).\n",
    "                map(att => (att(0), att(1), Norm.AP(att(2)), Norm.RP(att(3)), Norm.V(att(4)), Norm.I(att(5)) )).\n",
    "                toDF(\"Date\", \"Time\", \"Active_Power\", \"Reactive_Power\",\"Voltage\",\"Intensity\")\n",
    "                \n"
   ]
  },
  {
   "cell_type": "code",
   "execution_count": 17,
   "metadata": {},
   "outputs": [],
   "source": [
    "dataDF.write.csv(\"./data/output\")"
   ]
  },
  {
   "cell_type": "code",
   "execution_count": 14,
   "metadata": {},
   "outputs": [
    {
     "name": "stdout",
     "output_type": "stream",
     "text": [
      "+---------+--------+--------------------+-------------------+-------------------+--------------------+\n",
      "|     Date|    Time|        Active_Power|     Reactive_Power|            Voltage|           Intensity|\n",
      "+---------+--------+--------------------+-------------------+-------------------+--------------------+\n",
      "|28/4/2007|00:00:00| 0.11696541734564549| 0.0618705035971223|0.31825525040387775| 0.11618257261410789|\n",
      "|28/4/2007|00:01:00|  0.1171464783632084| 0.0618705035971223|0.32374798061389354| 0.11618257261410789|\n",
      "|28/4/2007|00:02:00| 0.11732753938077133|0.06330935251798561| 0.3350565428109854| 0.11618257261410789|\n",
      "|28/4/2007|00:03:00|  0.1171464783632084| 0.0618705035971223| 0.3295638126009697| 0.11618257261410789|\n",
      "|28/4/2007|00:04:00| 0.11696541734564549| 0.0618705035971223| 0.3247172859450729| 0.11618257261410789|\n",
      "|28/4/2007|00:05:00| 0.11696541734564549| 0.0618705035971223|0.32213247172859427| 0.11618257261410789|\n",
      "|28/4/2007|00:06:00|  0.1171464783632084| 0.0618705035971223|0.32859450726979034| 0.11618257261410789|\n",
      "|28/4/2007|00:07:00| 0.11642223429295674|  0.060431654676259| 0.3021001615508891| 0.11618257261410789|\n",
      "|28/4/2007|00:08:00| 0.11642223429295674|  0.060431654676259| 0.2982229402261717| 0.11618257261410789|\n",
      "|28/4/2007|00:09:00| 0.11678435632808257| 0.0618705035971223| 0.3185783521809373| 0.11618257261410789|\n",
      "|28/4/2007|00:10:00| 0.11696541734564549| 0.0618705035971223|0.32084006462035547| 0.11618257261410789|\n",
      "|28/4/2007|00:11:00|  0.1171464783632084| 0.0618705035971223|0.33085621970920853| 0.11618257261410789|\n",
      "|28/4/2007|00:12:00|   0.126923773311606|0.14244604316546763| 0.3353796445880458|  0.1286307053941909|\n",
      "|28/4/2007|00:13:00| 0.11950027159152633| 0.1510791366906475| 0.3421647819063004| 0.12033195020746888|\n",
      "|28/4/2007|00:14:00|0.037298569617961255|0.15683453237410072| 0.3744749596122778|0.041493775933609964|\n",
      "|28/4/2007|00:15:00| 0.03766069165308709|0.13093525179856116|0.40516962843295684|0.041493775933609964|\n",
      "|28/4/2007|00:16:00|0.038203874705775846|0.14676258992805755| 0.4029079159935377|0.041493775933609964|\n",
      "|28/4/2007|00:17:00| 0.03802281368821293|0.14676258992805755|0.40161550888529884|0.041493775933609964|\n",
      "|28/4/2007|00:18:00| 0.03784175267065001|0.14676258992805755| 0.4009693053311799|0.041493775933609964|\n",
      "|28/4/2007|00:19:00|0.037479630635524175|0.14532374100719425| 0.3819063004846531|0.041493775933609964|\n",
      "|28/4/2007|00:20:00| 0.03766069165308709|0.14964028776978416| 0.4213247172859455|0.041493775933609964|\n",
      "|28/4/2007|00:21:00|                 NaN|                NaN|                NaN|                 NaN|\n",
      "|28/4/2007|00:22:00|                 NaN|                NaN|                NaN|                 NaN|\n",
      "|28/4/2007|00:23:00|                 NaN|                NaN|                NaN|                 NaN|\n",
      "|28/4/2007|00:24:00|                 NaN|                NaN|                NaN|                 NaN|\n",
      "+---------+--------+--------------------+-------------------+-------------------+--------------------+\n",
      "only showing top 25 rows\n",
      "\n"
     ]
    }
   ],
   "source": [
    "dataDF.createOrReplaceTempView(\"records\")\n",
    "spark.sql(\"SELECT * FROM records WHERE date = '28/4/2007'\").show(25)"
   ]
  },
  {
   "cell_type": "markdown",
   "metadata": {},
   "source": [
    "103820004 Michael Fu"
   ]
  }
 ],
 "metadata": {
  "kernelspec": {
   "display_name": "Apache Toree - Scala",
   "language": "scala",
   "name": "apache_toree_scala"
  },
  "language_info": {
   "file_extension": ".scala",
   "name": "scala",
   "version": "2.11.8"
  }
 },
 "nbformat": 4,
 "nbformat_minor": 2
}
