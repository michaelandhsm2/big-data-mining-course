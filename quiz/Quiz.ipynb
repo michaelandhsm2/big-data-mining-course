{
 "cells": [
  {
   "cell_type": "markdown",
   "metadata": {},
   "source": [
    "# Quiz\n",
    "\n",
    "## Description\n",
    "\n",
    "### Features\n",
    "\n",
    "back,buffer_overflow,ftp_write,guess_passwd,imap,ipsweep,land,loadmodule,multihop,neptune,nmap,normal,perl,phf,pod,portsweep,rootkit,satan,smurf,spy,teardrop,warezclient,warezmaster.\n",
    "\n",
    "0. duration: continuous.\n",
    "0. protocol_type: symbolic.\n",
    "1. service: symbolic.\n",
    "1. flag: symbolic.\n",
    "+ src_bytes: continuous.\n",
    "+ dst_bytes: continuous.\n",
    "+ land: symbolic.\n",
    "+ wrong_fragment: continuous.\n",
    "+ urgent: continuous.\n",
    "+ hot: continuous.\n",
    "+ num_failed_logins: continuous.\n",
    "+ logged_in: symbolic.\n",
    "+ num_compromised: continuous.\n",
    "+ root_shell: continuous.\n",
    "+ su_attempted: continuous.\n",
    "+ num_root: continuous.\n",
    "+ num_file_creations: continuous.\n",
    "+ num_shells: continuous.\n",
    "+ num_access_files: continuous.\n",
    "+ num_outbound_cmds: continuous.\n",
    "+ is_host_login: symbolic.\n",
    "+ is_guest_login: symbolic.\n",
    "+ count: continuous.\n",
    "+ srv_count: continuous.\n",
    "+ serror_rate: continuous.\n",
    "+ srv_serror_rate: continuous.\n",
    "+ rerror_rate: continuous.\n",
    "+ srv_rerror_rate: continuous.\n",
    "+ same_srv_rate: continuous.\n",
    "+ diff_srv_rate: continuous.\n",
    "+ srv_diff_host_rate: continuous.\n",
    "+ dst_host_count: continuous.\n",
    "+ dst_host_srv_count: continuous.\n",
    "+ dst_host_same_srv_rate: continuous.\n",
    "+ dst_host_diff_srv_rate: continuous.\n",
    "+ dst_host_same_src_port_rate: continuous.\n",
    "+ dst_host_srv_diff_host_rate: continuous.\n",
    "+ dst_host_serror_rate: continuous.\n",
    "+ dst_host_srv_serror_rate: continuous.\n",
    "+ dst_host_rerror_rate: continuous.\n",
    "+ dst_host_srv_rerror_rate: continuous.\n",
    "+ intrusion_type: symbolic\n",
    "\n",
    "### Task\n",
    "\n",
    "\n",
    "#### Primary tasks\n",
    "\n",
    "* (32pt) (1) For continuous attributes ‘duration’, ‘src_bytes’, ‘dst_bytes’,‘num_failed_logins’, please calculate their mean, median, mode, standard deviation, respectively\n",
    "\n",
    "\n",
    "* (20pt) (2) For symbolic attributes ‘protocol_type’, ‘service’, ‘flag’, ‘logged_in’, ‘intrusion_type’, output the list of each value and the corresponding frequency count, sorted in descending order of the count\n",
    "\n",
    "\n",
    "* (20pt) (3) Output the list of the most frequently used ‘service’ for each ‘intrusion_type’, sorted in descending order of the occurrence frequency\n",
    "\n",
    "\n",
    "* (30pt) (4) If we regard the values of ‘intrusion_type’ except “normal” as abnormal, calculate the correlation coefficient of “number of abnormal instances” and ‘num_failed_logins’ by the following formula: \n",
    "\n",
    "#### Advanced task: (optional bonus)\n",
    "* (35pt) (5) Which ‘intrusion type’ has the highest value for each of the following fields:\n",
    "    * same_srv_rate\n",
    "    * diff_srv_rate\n",
    "    * srv_diff_host_rate\n",
    "    + dst_host_count\n",
    "    + dst_host_srv_count\n",
    "    + dst_host_same_srv_rate\n",
    "    + dst_host_diff_srv_rate"
   ]
  },
  {
   "cell_type": "code",
   "execution_count": 24,
   "metadata": {},
   "outputs": [
    {
     "name": "stdout",
     "output_type": "stream",
     "text": [
      "Spark Entity:       org.apache.spark.sql.SparkSession@41713869\n",
      "Spark version:      2.2.0\n",
      "Spark master:       local[*]\n",
      "Running 'locally'?: true\n",
      "\n"
     ]
    },
    {
     "data": {
      "text/plain": [
       "printSample: (writer: Any, data: Any, title: String, format: String)Unit\n",
       "printSpark: (writer: Any, spark: org.apache.spark.sql.SparkSession)Unit\n",
       "outputWriter: (fileString: String)java.io.PrintWriter\n",
       "writer: Null = null\n"
      ]
     },
     "metadata": {},
     "output_type": "display_data"
    }
   ],
   "source": [
    "import org.apache.spark.sql.SparkSession\n",
    "import org.apache.spark.SparkContext\n",
    "import org.apache.spark.SparkConf\n",
    "import org.apache.hadoop.fs._\n",
    "import org.apache.hadoop.conf.Configuration\n",
    "\n",
    "import java.io.{File,PrintWriter}\n",
    "\n",
    "  def printSample(writer: Any, data: Any, title: String = \"\", format: String = \"\"){\n",
    "    println(\"\\n\"+title+\" Data Sample: \" + format)\n",
    "    println(data+\"\\n\")\n",
    "  }\n",
    "\n",
    "  def printSpark(writer: Any, spark: SparkSession): Unit = {\n",
    "    println(\"Spark Entity:       \" + spark)\n",
    "    println(\"Spark version:      \" + spark.version)\n",
    "    println(\"Spark master:       \" + spark.sparkContext.master)\n",
    "    println(\"Running 'locally'?: \" + spark.sparkContext.isLocal)\n",
    "    println(\"\")\n",
    "  }\n",
    "\n",
    "  def outputWriter(fileString: String): PrintWriter ={\n",
    "    val outputPath = new Path(fileString)\n",
    "    val outputStream = outputPath.getFileSystem(new Configuration()).create(outputPath);\n",
    "    new PrintWriter(outputStream)\n",
    "  }\n",
    "\n",
    "val writer = null\n",
    "printSpark(writer, spark)"
   ]
  },
  {
   "cell_type": "code",
   "execution_count": 13,
   "metadata": {},
   "outputs": [
    {
     "data": {
      "text/plain": [
       "spark2 = org.apache.spark.sql.SparkSession@5ef44a3d\n"
      ]
     },
     "metadata": {},
     "output_type": "display_data"
    },
    {
     "data": {
      "text/html": [
       "<ul>\n",
       "<li><a href=\"Some(http://10.128.0.2:4041)\" target=\"new_tab\">Spark UI: local-1524287638063</a></li>\n",
       "</ul>"
      ],
      "text/plain": [
       "Spark local-1524287638063: Some(http://10.128.0.2:4041)"
      ]
     },
     "execution_count": 13,
     "metadata": {},
     "output_type": "execute_result"
    }
   ],
   "source": [
    "val spark2 = spark\n",
    "import spark2.implicits._"
   ]
  },
  {
   "cell_type": "code",
   "execution_count": 3,
   "metadata": {},
   "outputs": [
    {
     "name": "stdout",
     "output_type": "stream",
     "text": [
      "[Stage 1:======================================================>  (22 + 1) / 23]\n",
      "Continuous Sample Data Sample: \n",
      "0,tcp,http,SF,251,451,0,0,0,0,0,1,0,0,0,0,0,0,0,0,0,0,4,4,0.00,0.00,0.00,0.00,1.00,0.00,0.00,255,255,1.00,0.00,0.00,0.00,0.00,0.00,0.00,0.00,normal.\n",
      "0,icmp,ecr_i,SF,1032,0,0,0,0,0,0,0,0,0,0,0,0,0,0,0,0,0,511,511,0.00,0.00,0.00,0.00,1.00,0.00,0.00,255,255,1.00,0.00,1.00,0.00,0.00,0.00,0.00,0.00,smurf.\n",
      "0,icmp,ecr_i,SF,1032,0,0,0,0,0,0,0,0,0,0,0,0,0,0,0,0,0,511,511,0.00,0.00,0.00,0.00,1.00,0.00,0.00,255,255,1.00,0.00,1.00,0.00,0.00,0.00,0.00,0.00,smurf.\n",
      "0,icmp,ecr_i,SF,1032,0,0,0,0,0,0,0,0,0,0,0,0,0,0,0,0,0,511,511,0.00,0.00,0.00,0.00,1.00,0.00,0.00,255,255,1.00,0.00,1.00,0.00,0.00,0.00,0.00,0.00,smurf.\n",
      "0,icmp,ecr_i,SF,1032,0,0,0,0,0,0,0,0,0,0,0,0,0,0,0,0,0,511,511,0.00,0.00,0.00,0.00,1.00,0.00,0.00,255,255,1.00,0.00,1.00,0.00,0.00,0.00,0.00,0.00,smurf.\n",
      "\n"
     ]
    },
    {
     "data": {
      "text/plain": [
       "data = ./data/kddcup.data MapPartitionsRDD[1] at textFile at <console>:38\n",
       "sampleData = ParallelCollectionRDD[3] at parallelize at <console>:40\n"
      ]
     },
     "metadata": {},
     "output_type": "display_data"
    },
    {
     "data": {
      "text/plain": [
       "ParallelCollectionRDD[3] at parallelize at <console>:40"
      ]
     },
     "execution_count": 3,
     "metadata": {},
     "output_type": "execute_result"
    }
   ],
   "source": [
    "val data = spark.sparkContext.textFile(\"./data/kddcup.data\")\n",
    "\n",
    "val sampleData = spark.sparkContext.parallelize(data.takeSample(false, 30, System.nanoTime.toInt))\n",
    "printSample(writer, sampleData.take(5).mkString(\"\\n\"), \"Continuous Sample\")"
   ]
  },
  {
   "cell_type": "markdown",
   "metadata": {},
   "source": [
    "## Implementation\n",
    "\n",
    "### Task 1 \n",
    "For continuous attributes ‘duration’(0), ‘src_bytes’(4), ‘dst_bytes’(5),‘num_failed_logins’(10), please calculate their mean, median, mode, standard deviation, respectively"
   ]
  },
  {
   "cell_type": "code",
   "execution_count": 15,
   "metadata": {},
   "outputs": [
    {
     "name": "stdout",
     "output_type": "stream",
     "text": [
      "\n",
      "Continuous Sample Data Sample: \n",
      "(duration,0.0)\n",
      "(src_bytes,217.0)\n",
      "(dst_bytes,2445.0)\n",
      "(num_failed_logins,0.0)\n",
      "(duration,0.0)\n",
      "\n"
     ]
    },
    {
     "data": {
      "text/plain": [
       "continous = Array(duration, src_bytes, dst_bytes, num_failed_logins)\n",
       "flattenContinuousData = MapPartitionsRDD[21] at flatMap at <console>:69\n"
      ]
     },
     "metadata": {},
     "output_type": "display_data"
    },
    {
     "data": {
      "text/plain": [
       "MapPartitionsRDD[21] at flatMap at <console>:69"
      ]
     },
     "execution_count": 15,
     "metadata": {},
     "output_type": "execute_result"
    }
   ],
   "source": [
    "//TODO: SampleData => Data\n",
    "val continous = Array(\"duration\", \"src_bytes\", \"dst_bytes\", \"num_failed_logins\")\n",
    "\n",
    "var flattenContinuousData = sampleData.\n",
    "    flatMap{ dataString =>\n",
    "        dataString.split(\",\").\n",
    "            zipWithIndex.\n",
    "            map{\n",
    "                case (value,index) => \n",
    "                    index match{\n",
    "                        case 0 => (continous(0),value.toString.toDouble)\n",
    "                        case 4 => (continous(1),value.toString.toDouble)\n",
    "                        case 5 => (continous(2),value.toString.toDouble)\n",
    "                        case 10 => (continous(3),value.toString.toDouble)\n",
    "                        case _ => (\"\",0.0)\n",
    "                    }\n",
    "                }.\n",
    "            filter(x => x!=(\"\",0.0))\n",
    "    }\n",
    "printSample(writer, flattenContinuousData.take(5).mkString(\"\\n\"), \"Continuous Sample\")"
   ]
  },
  {
   "cell_type": "code",
   "execution_count": 16,
   "metadata": {},
   "outputs": [
    {
     "name": "stdout",
     "output_type": "stream",
     "text": [
      "\n",
      "Count Sample Data Sample: \n",
      "Map(src_bytes -> 30, dst_bytes -> 30, num_failed_logins -> 30, duration -> 30)\n",
      "\n"
     ]
    },
    {
     "data": {
      "text/plain": [
       "countMap = Map(src_bytes -> 30, dst_bytes -> 30, num_failed_logins -> 30, duration -> 30)\n",
       "countBroadcast = Broadcast(26)\n"
      ]
     },
     "metadata": {},
     "output_type": "display_data"
    },
    {
     "data": {
      "text/plain": [
       "Broadcast(26)"
      ]
     },
     "execution_count": 16,
     "metadata": {},
     "output_type": "execute_result"
    }
   ],
   "source": [
    "var countMap = flattenContinuousData.map{case (k,v) => (k,1)}.reduceByKey((i, j) => i+j).collectAsMap()\n",
    "var countBroadcast = spark.sparkContext.broadcast(countMap)\n",
    "printSample(writer, countBroadcast.value, \"Count Sample\")"
   ]
  },
  {
   "cell_type": "code",
   "execution_count": 17,
   "metadata": {},
   "outputs": [
    {
     "name": "stdout",
     "output_type": "stream",
     "text": [
      "\n",
      "Average Sample Data Sample: \n",
      "Map(src_bytes -> 454.76666666666665, dst_bytes -> 712.9666666666667, num_failed_logins -> 0.0, duration -> 394.6666666666667)\n",
      "\n"
     ]
    },
    {
     "data": {
      "text/plain": [
       "averageMap = Map(src_bytes -> 454.76666666666665, dst_bytes -> 712.9666666666667, num_failed_logins -> 0.0, duration -> 394.6666666666667)\n",
       "averageBroadcast = Broadcast(29)\n"
      ]
     },
     "metadata": {},
     "output_type": "display_data"
    },
    {
     "data": {
      "text/plain": [
       "Broadcast(29)"
      ]
     },
     "execution_count": 17,
     "metadata": {},
     "output_type": "execute_result"
    }
   ],
   "source": [
    "var averageMap = flattenContinuousData.reduceByKey((i, j) => i+j).\n",
    "                                       map{case (k, v) => (k,v/countBroadcast.value(k))}.collectAsMap()\n",
    "var averageBroadcast = spark.sparkContext.broadcast(averageMap)\n",
    "printSample(writer, averageBroadcast.value, \"Average Sample\")"
   ]
  },
  {
   "cell_type": "code",
   "execution_count": 18,
   "metadata": {},
   "outputs": [
    {
     "name": "stdout",
     "output_type": "stream",
     "text": [
      "\n",
      "Standard Deviation Sample Data Sample: \n",
      "Map(src_bytes -> 438.3953834408184, dst_bytes -> 2706.7507887173915, num_failed_logins -> 0.0, duration -> 1725.2439119021851)\n",
      "\n"
     ]
    },
    {
     "data": {
      "text/plain": [
       "stdMap = Map(src_bytes -> 438.3953834408184, dst_bytes -> 2706.7507887173915, num_failed_logins -> 0.0, duration -> 1725.2439119021851)\n",
       "stdBroadcast = Broadcast(32)\n"
      ]
     },
     "metadata": {},
     "output_type": "display_data"
    },
    {
     "data": {
      "text/plain": [
       "Broadcast(32)"
      ]
     },
     "execution_count": 18,
     "metadata": {},
     "output_type": "execute_result"
    }
   ],
   "source": [
    "val stdMap = flattenContinuousData.\n",
    "    map{case (k,v) => (k, scala.math.pow(v-averageBroadcast.value(k),2))}.\n",
    "    reduceByKey((i,j) => i+j).\n",
    "    map{case (k,v) => (k, math.sqrt(v/countBroadcast.value(k)))}.collectAsMap()\n",
    "var stdBroadcast = spark.sparkContext.broadcast(stdMap)\n",
    "printSample(writer, stdBroadcast.value, \"Standard Deviation Sample\")"
   ]
  },
  {
   "cell_type": "code",
   "execution_count": 21,
   "metadata": {},
   "outputs": [
    {
     "name": "stdout",
     "output_type": "stream",
     "text": [
      "\n",
      "Mode Sample Data Sample: \n",
      "Map(src_bytes -> Vector(1032.0), dst_bytes -> Vector(0.0), num_failed_logins -> Vector(0.0), duration -> Vector(0.0))\n",
      "\n"
     ]
    },
    {
     "data": {
      "text/plain": [
       "modeMap = Map(src_bytes -> Vector(1032.0), dst_bytes -> Vector(0.0), num_failed_logins -> Vector(0.0), duration -> Vector(0.0))\n",
       "modeBroadcast = Broadcast(44)\n"
      ]
     },
     "metadata": {},
     "output_type": "display_data"
    },
    {
     "data": {
      "text/plain": [
       "Broadcast(44)"
      ]
     },
     "execution_count": 21,
     "metadata": {},
     "output_type": "execute_result"
    }
   ],
   "source": [
    "var modeMap = flattenContinuousData.\n",
    "                map{case(k, v) => ((k,v),1)}.\n",
    "                reduceByKey((i, j) => i+j).\n",
    "                map{case((k,v),count) => (k,(v,count))}.\n",
    "                groupByKey.mapValues{ iterator =>\n",
    "                    iterator.toVector.sortBy { case(v, count) => \n",
    "                        (-count, v)\n",
    "                    }.take(1).map{\n",
    "                        case(v,count) => v \n",
    "                    }\n",
    "                }.collectAsMap()\n",
    "var modeBroadcast = spark.sparkContext.broadcast(modeMap)\n",
    "printSample(writer, modeBroadcast.value, \"Mode Sample\")"
   ]
  },
  {
   "cell_type": "code",
   "execution_count": 42,
   "metadata": {},
   "outputs": [
    {
     "name": "stdout",
     "output_type": "stream",
     "text": [
      "\n",
      "Median Sample Data Sample: \n",
      "Map(src_bytes -> 220.0, dst_bytes -> 0.0, num_failed_logins -> 0.0, duration -> 0.0)\n",
      "\n"
     ]
    },
    {
     "data": {
      "text/plain": [
       "medianMap = Map(src_bytes -> 220.0, dst_bytes -> 0.0, num_failed_logins -> 0.0, duration -> 0.0)\n",
       "medianBroadcast = Broadcast(84)\n"
      ]
     },
     "metadata": {},
     "output_type": "display_data"
    },
    {
     "data": {
      "text/plain": [
       "Broadcast(84)"
      ]
     },
     "execution_count": 42,
     "metadata": {},
     "output_type": "execute_result"
    }
   ],
   "source": [
    "var medianMap = flattenContinuousData.\n",
    "                groupByKey.map{ case (k,iterator) =>\n",
    "                    val medianVector = iterator.toVector.sortBy { case(count) => \n",
    "                        (-count)\n",
    "                    }\n",
    "                    val num = (countBroadcast.value(k)/2).toInt\n",
    "                    (k,medianVector(num))\n",
    "                }.collectAsMap()\n",
    "var medianBroadcast = spark.sparkContext.broadcast(medianMap)\n",
    "printSample(writer, medianBroadcast.value, \"Median Sample\")"
   ]
  },
  {
   "cell_type": "code",
   "execution_count": 52,
   "metadata": {},
   "outputs": [
    {
     "name": "stdout",
     "output_type": "stream",
     "text": [
      "For duration:\n",
      "        Number of Meaningful Data - 30\n",
      "        Mean - 394.6666666666667\n",
      "        Standard Deviation - 1725.2439119021851\n",
      "        Mode - Vector(0.0)\n",
      "        Median - 0.0\n",
      "\n",
      "For src_bytes:\n",
      "        Number of Meaningful Data - 30\n",
      "        Mean - 454.76666666666665\n",
      "        Standard Deviation - 438.3953834408184\n",
      "        Mode - Vector(1032.0)\n",
      "        Median - 220.0\n",
      "\n",
      "For dst_bytes:\n",
      "        Number of Meaningful Data - 30\n",
      "        Mean - 712.9666666666667\n",
      "        Standard Deviation - 2706.7507887173915\n",
      "        Mode - Vector(0.0)\n",
      "        Median - 0.0\n",
      "\n",
      "For num_failed_logins:\n",
      "        Number of Meaningful Data - 30\n",
      "        Mean - 0.0\n",
      "        Standard Deviation - 0.0\n",
      "        Mode - Vector(0.0)\n",
      "        Median - 0.0\n",
      "\n"
     ]
    },
    {
     "data": {
      "text/plain": [
       "lastException = null\n"
      ]
     },
     "metadata": {},
     "output_type": "display_data"
    },
    {
     "data": {
      "text/plain": [
       "Name: java.lang.ArrayIndexOutOfBoundsException\n",
       "Message: 4\n",
       "StackTrace:   at scala.collection.immutable.Range.foreach$mVc$sp(Range.scala:160)"
      ]
     },
     "execution_count": 52,
     "metadata": {},
     "output_type": "execute_result"
    }
   ],
   "source": [
    "def task1Print(s: String): Unit = {\n",
    "    println(\"For \"+s+\":\")\n",
    "    println(\"        Number of Meaningful Data - \" + countBroadcast.value(s))\n",
    "    println(\"        Mean - \" + averageBroadcast.value(s))\n",
    "    println(\"        Standard Deviation - \" + stdBroadcast.value(s))\n",
    "    println(\"        Mode - \" + modeBroadcast.value(s))\n",
    "    println(\"        Median - \" + medianBroadcast.value(s)+ \"\\n\")\n",
    "} \n",
    "\n",
    "var i = 0;\n",
    "for(i <- 0 to continous.length){\n",
    "    task1Print(continous(i))\n",
    "}"
   ]
  },
  {
   "cell_type": "markdown",
   "metadata": {},
   "source": [
    "### Task 2\n",
    "For symbolic attributes ‘protocol_type’(1), ‘service’(2), ‘flag’(3), ‘logged_in’(11), ‘intrusion_type’(41), output the list of each value and the corresponding frequency count, sorted in descending order of the count"
   ]
  },
  {
   "cell_type": "code",
   "execution_count": 4,
   "metadata": {},
   "outputs": [
    {
     "name": "stdout",
     "output_type": "stream",
     "text": [
      "\n",
      "Discrete Sample Data Sample: \n",
      "(protocol_type,tcp)\n",
      "(service,http)\n",
      "(flag,SF)\n",
      "(logged_in,1)\n",
      "(intrusion_type,normal)\n",
      "\n"
     ]
    },
    {
     "data": {
      "text/plain": [
       "discrete = Array(protocol_type, service, flag, logged_in, intrusion_type)\n",
       "flattenDiscreteData = MapPartitionsRDD[4] at flatMap at <console>:45\n"
      ]
     },
     "metadata": {},
     "output_type": "display_data"
    },
    {
     "data": {
      "text/plain": [
       "MapPartitionsRDD[4] at flatMap at <console>:45"
      ]
     },
     "execution_count": 4,
     "metadata": {},
     "output_type": "execute_result"
    }
   ],
   "source": [
    "//TODO: SampleData => Data\n",
    "val discrete = Array(\"protocol_type\", \"service\", \"flag\", \"logged_in\", \"intrusion_type\")\n",
    "\n",
    "var flattenDiscreteData = sampleData.\n",
    "    flatMap{ dataString =>\n",
    "        dataString.split(\",\").\n",
    "            zipWithIndex.\n",
    "            map{\n",
    "                case (value,index) => \n",
    "                    index match{\n",
    "                        case 1 => (discrete(0),value.toString)\n",
    "                        case 2 => (discrete(1),value.toString)\n",
    "                        case 3 => (discrete(2),value.toString)\n",
    "                        case 11 => (discrete(3),value.toString)\n",
    "                        case 41 => (discrete(4),value.toString.replace(\".\",\"\"))\n",
    "                        case _ => (\"\",0.0)\n",
    "                    }\n",
    "                }.\n",
    "            filter(x => x!=(\"\",0.0))\n",
    "    }\n",
    "printSample(writer, flattenDiscreteData.take(5).mkString(\"\\n\"), \"Discrete Sample\")"
   ]
  },
  {
   "cell_type": "code",
   "execution_count": 25,
   "metadata": {},
   "outputs": [
    {
     "name": "stdout",
     "output_type": "stream",
     "text": [
      "\n",
      "Freq Sample Data Sample: \n",
      "icmp,18\n",
      "tcp,11\n",
      "udp,1...\n",
      "\n"
     ]
    },
    {
     "data": {
      "text/plain": [
       "freqMap = \n"
      ]
     },
     "metadata": {},
     "output_type": "display_data"
    },
    {
     "data": {
      "text/plain": [
       "Map(logged_in -> 0,25\n",
       "1,5, flag -> SF,24\n",
       "S0,5\n",
       "REJ,1, service -> ecr_i,18\n",
       "private,6\n",
       "http,4\n",
       "other,1\n",
       "smtp,1, intrusion_type -> smurf,18\n",
       "neptune,6\n",
       "normal,6, protocol_type -> icmp,18\n",
       "tcp,11\n",
       "udp,1)"
      ]
     },
     "execution_count": 25,
     "metadata": {},
     "output_type": "execute_result"
    }
   ],
   "source": [
    "var freqMap = flattenDiscreteData.\n",
    "                map{case(k, v) => ((k,v),1)}.\n",
    "                reduceByKey((i, j) => i+j).\n",
    "                map{case((k,v),count) => (k,(v.toString,count))}.\n",
    "                groupByKey.mapValues{ iterator =>\n",
    "                    iterator.toVector.sortBy { case(v, count) => \n",
    "                        (-count, v)\n",
    "                    }.map{\n",
    "                        case(word,count) => word + \",\"+ count\n",
    "                    }.mkString(\"\\n\")\n",
    "                }.collectAsMap()\n",
    "\n",
    "freqMap.foreach{ case (feature, vect_string) =>\n",
    "   val local_writer =  outputWriter(\"./output/task2/\"+feature+\".csv\")\n",
    "   try {local_writer.write(vect_string)} finally {local_writer.close()}\n",
    "}\n",
    "\n",
    "printSample(writer, freqMap(discrete(0)).take(30) + \"...\", \"Freq Sample\")"
   ]
  },
  {
   "cell_type": "code",
   "execution_count": null,
   "metadata": {},
   "outputs": [],
   "source": []
  },
  {
   "cell_type": "code",
   "execution_count": null,
   "metadata": {},
   "outputs": [],
   "source": []
  },
  {
   "cell_type": "code",
   "execution_count": null,
   "metadata": {},
   "outputs": [],
   "source": [
    "val count = flattenData.map{case (k,v) => (k,1)}.reduceByKey((i, j) => i+j).collectAsMap()\n",
    "count"
   ]
  },
  {
   "cell_type": "code",
   "execution_count": null,
   "metadata": {},
   "outputs": [],
   "source": [
    "val max = flattenData.reduceByKey{(i, j) => if (i>j) i else j}.collectAsMap()\n",
    "max"
   ]
  },
  {
   "cell_type": "code",
   "execution_count": null,
   "metadata": {},
   "outputs": [],
   "source": [
    "val min = flattenData.reduceByKey{(i, j) => if (i<j) i else j}.collectAsMap()\n",
    "min"
   ]
  },
  {
   "cell_type": "markdown",
   "metadata": {},
   "source": [
    "### Task 2 - Mean & Standard Deviation"
   ]
  },
  {
   "cell_type": "code",
   "execution_count": null,
   "metadata": {},
   "outputs": [],
   "source": [
    "val average = flattenData.reduceByKey((i, j) => i+j).map{case (i, j) => (i,j/2049280)}.collectAsMap()\n",
    "average"
   ]
  },
  {
   "cell_type": "code",
   "execution_count": null,
   "metadata": {},
   "outputs": [],
   "source": [
    "val std = flattenData.\n",
    "    map{case (k,v) => (k, scala.math.pow(v-average(k),2))}.\n",
    "    reduceByKey((i,j) => i+j).\n",
    "    map{case (k,v) => (k, math.sqrt(v/count(k)))}.collectAsMap()\n",
    "std"
   ]
  },
  {
   "cell_type": "markdown",
   "metadata": {},
   "source": [
    "### Task 3 - Min-Max Normalization"
   ]
  },
  {
   "cell_type": "code",
   "execution_count": null,
   "metadata": {},
   "outputs": [],
   "source": [
    "val norm = flattenData.take(10).map{case (k,v) => (k, (v-min(k))/(max(k)-min(k)))}\n",
    "norm"
   ]
  },
  {
   "cell_type": "markdown",
   "metadata": {},
   "source": [
    "## Result "
   ]
  },
  {
   "cell_type": "code",
   "execution_count": null,
   "metadata": {},
   "outputs": [],
   "source": [
    "object MyFunctions {\n",
    "    def myprint(s: String): Unit = {\n",
    "        println(\"For \"+s+\":\")\n",
    "        println(\"        Number of Meaningful Data - \" + count(s))\n",
    "        println(\"        Maximum Value - \" + max(s))\n",
    "        println(\"        Minimum Value - \" + min(s))\n",
    "        println(\"        Mean - \" + average(s))\n",
    "        println(\"        Standard Deviation - \" + std(s) + \"\\n\")\n",
    "    }    \n",
    "}\n",
    "\n",
    "MyFunctions.myprint(\"Global Active Power\")\n",
    "MyFunctions.myprint(\"Global Reactive Power\")\n",
    "MyFunctions.myprint(\"Voltage\")\n",
    "MyFunctions.myprint(\"Global Intensity\")\n"
   ]
  },
  {
   "cell_type": "code",
   "execution_count": null,
   "metadata": {},
   "outputs": [],
   "source": [
    "// For implicit conversions from RDDs to DataFrames\n",
    "val spark2 = spark\n",
    "import spark2.implicits._\n",
    "\n",
    "object Norm {\n",
    "    def AP(s: String): Double = {\n",
    "        process(s, \"Global Active Power\")\n",
    "    } \n",
    "    \n",
    "    def RP(s: String): Double = {\n",
    "        process(s, \"Global Reactive Power\")\n",
    "    } \n",
    "    \n",
    "    def V(s: String): Double = {\n",
    "        process(s, \"Voltage\")\n",
    "    } \n",
    "    \n",
    "    def I(s: String): Double = {\n",
    "        process(s, \"Global Intensity\")\n",
    "    } \n",
    "    \n",
    "    def process(s: String, k: String): Double = {\n",
    "        var retVal = 0.0\n",
    "        if(s == \"?\"){\n",
    "            retVal = Double.NaN\n",
    "        }else{\n",
    "            retVal = (s.toDouble-min(k))/(max(k)-min(k))\n",
    "        }\n",
    "        retVal\n",
    "    }\n",
    "}\n",
    "\n",
    "val dataDF = rows.\n",
    "                map(_.split(\";\")).\n",
    "                map(att => (att(0), att(1), Norm.AP(att(2)), Norm.RP(att(3)), Norm.V(att(4)), Norm.I(att(5)) )).\n",
    "                toDF(\"Date\", \"Time\", \"Active_Power\", \"Reactive_Power\",\"Voltage\",\"Intensity\")\n",
    "                \n"
   ]
  },
  {
   "cell_type": "code",
   "execution_count": null,
   "metadata": {},
   "outputs": [],
   "source": [
    "dataDF.write.csv(\"./data/output\")"
   ]
  },
  {
   "cell_type": "code",
   "execution_count": null,
   "metadata": {},
   "outputs": [],
   "source": [
    "dataDF.createOrReplaceTempView(\"records\")\n",
    "spark.sql(\"SELECT * FROM records WHERE date = '28/4/2007'\").show(25)"
   ]
  },
  {
   "cell_type": "markdown",
   "metadata": {},
   "source": [
    "103820004 Michael Fu"
   ]
  }
 ],
 "metadata": {
  "kernelspec": {
   "display_name": "Apache Toree - Scala",
   "language": "scala",
   "name": "apache_toree_scala"
  },
  "language_info": {
   "codemirror_mode": "text/x-scala",
   "file_extension": ".scala",
   "mimetype": "text/x-scala",
   "name": "scala",
   "pygments_lexer": "scala",
   "version": "2.11.8"
  }
 },
 "nbformat": 4,
 "nbformat_minor": 2
}
