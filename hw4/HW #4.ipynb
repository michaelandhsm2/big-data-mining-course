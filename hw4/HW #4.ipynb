{
 "cells": [
  {
   "cell_type": "markdown",
   "metadata": {},
   "source": [
    "# Homework 4\n",
    "\n",
    "## Description\n",
    "\n",
    "### Data\n",
    "[Reuters-21578 Text Categorization Collection Data Set](https://archive.ics.uci.edu/ml/datasets/reuters-21578+text+categorization+collection) - about 2 million instances, 28MB in size\n",
    "\n",
    "\n",
    "News: 21 SGML files\n",
    "We only deal with news contents inside <body> </body> tags\n",
    "The other files will not be needed in this homework\n",
    "\n",
    "### Format\n",
    "One text file consisting of lines of records.\n",
    "\n",
    "Each record contains 9 attributes separated by semicolons: \n",
    "\n",
    "\n",
    "Reuters-21578, Distribution 1.0 includes five files (all-exchanges-strings.lc.txt, all-orgs-strings.lc.txt, all-people-strings.lc.txt, all-places-strings.lc.txt, and all-topics-strings.lc.txt) which list the names of *all* legal categories in each set. A sixth file, cat-descriptions_120396.txt gives some additional information on the category sets.\n",
    "\n",
    "\n",
    "### Task\n",
    "4 subtasks:\n",
    "+ (30pt) Given the Reuters-21578 dataset, please calculate the term frequencies, and output the representation of the document contents as a term-document count matrix.\n",
    "+ (30pt) Implement matrix multiplication by MapReduce. Your program should be able to output the result in appropriate dimensions.\n",
    "+ (40pt) Given the term-document matrix in (1), compute the SVD decomposition of the matrix using MapReduce. Output the resulting eigenvalues and eigenvectors.\n",
    "+ (Bonus) Given the term-document matrix in (1), compute the CUR decomposition of the matrix using MapReduce. Output the resulting eigenvalues and eigenvectors."
   ]
  },
  {
   "cell_type": "markdown",
   "metadata": {},
   "source": [
    "## Output Format\n",
    "\n",
    "1. Term-Document Matrix:\n",
    "A MxN matrix: with rows as term frequencies and columns as documents (N=21,578) \n",
    "2. Result of Matrix Multiplication:\n",
    "A MxR matrix: (MxN) * (NxR)\n",
    "3. Eigen Pairs:\n",
    "Eigenvalues sorted in descending order, and their corresponding eigenvectors\n",
    "4. Eigen Pairs: \n",
    "Eigenvalues sorted in descending order, and their corresponding eigenvectors"
   ]
  },
  {
   "cell_type": "markdown",
   "metadata": {},
   "source": [
    "## Implementation"
   ]
  },
  {
   "cell_type": "code",
   "execution_count": 41,
   "metadata": {},
   "outputs": [
    {
     "name": "stdout",
     "output_type": "stream",
     "text": [
      "Spark Entity:       org.apache.spark.sql.SparkSession@2703d2d0\n",
      "Spark version:      2.2.0\n",
      "Spark master:       local[*]\n",
      "Running 'locally'?: true\n",
      "\n"
     ]
    },
    {
     "data": {
      "text/plain": [
       "printSample: (writer: Any, data: Any, title: String, format: String)Unit\n",
       "printSpark: (writer: Any, spark: org.apache.spark.sql.SparkSession)Unit\n",
       "outputWriter: (fileString: String)java.io.PrintWriter\n",
       "getFile: (fileString: String)Array[String]\n",
       "writer: Null = null\n"
      ]
     },
     "metadata": {},
     "output_type": "display_data"
    }
   ],
   "source": [
    "import org.apache.spark.sql.SparkSession\n",
    "import org.apache.spark.SparkContext\n",
    "import org.apache.spark.SparkConf\n",
    "import org.apache.hadoop.fs._\n",
    "import org.apache.hadoop.conf.Configuration\n",
    "\n",
    "import java.io.{File,PrintWriter}\n",
    "\n",
    "  def printSample(writer: Any, data: Any, title: String = \"\", format: String = \"\"){\n",
    "    println(\"\\n\"+title+\" Data Sample: \" + format)\n",
    "    println(data+\"\\n\")\n",
    "  }\n",
    "\n",
    "  def printSpark(writer: Any, spark: SparkSession): Unit = {\n",
    "    println(\"Spark Entity:       \" + spark)\n",
    "    println(\"Spark version:      \" + spark.version)\n",
    "    println(\"Spark master:       \" + spark.sparkContext.master)\n",
    "    println(\"Running 'locally'?: \" + spark.sparkContext.isLocal)\n",
    "    println(\"\")\n",
    "  }\n",
    "\n",
    "  def outputWriter(fileString: String): PrintWriter ={\n",
    "    val outputPath = new Path(fileString)\n",
    "    val outputStream = outputPath.getFileSystem(new Configuration()).create(outputPath);\n",
    "    new PrintWriter(outputStream)\n",
    "  }\n",
    "\n",
    "  def getFile(fileString: String): Array[String] ={\n",
    "    val inputPath = new Path(fileString)\n",
    "    val inputBuffer = scala.collection.mutable.ArrayBuffer.empty[String]\n",
    "    val iterator = inputPath.getFileSystem(new Configuration()).listFiles(inputPath, false)\n",
    "    while(iterator.hasNext()){\n",
    "        val fileStatus = iterator.next()\n",
    "        if(fileStatus.isFile()){\n",
    "          inputBuffer += fileStatus.getPath().toString()\n",
    "        }\n",
    "    }\n",
    "    inputBuffer.toArray\n",
    "  }\n",
    "\n",
    "\n",
    "val writer = null\n",
    "printSpark(writer, spark)"
   ]
  },
  {
   "cell_type": "code",
   "execution_count": 42,
   "metadata": {
    "scrolled": true
   },
   "outputs": [
    {
     "data": {
      "text/plain": [
       "spark2 = org.apache.spark.sql.SparkSession@2703d2d0\n",
       "data = Array(file:/home/micky/big_data/hw4/data/reut2-017.sgm, file:/home/micky/big_data/hw4/data/reut2-001.sgm, file:/home/micky/big_data/hw4/data/reut2-021.sgm, file:/home/micky/big_data/hw4/data/reut2-003.sgm, file:/home/micky/big_data/hw4/data/reut2-010.sgm, file:/home/micky/big_data/hw4/data/reut2-013.sgm, file:/home/micky/big_data/hw4/data/reut2-004.sgm, file:/home/micky/big_data/hw4/data/reut2-020.sgm, file:/home/micky/big_data/hw4/data/reut2-008.sgm, file:/home/micky/big_data/hw4/data/reut2-014.sgm, file:/home/micky/big_data/hw4/data/reut2-007.sgm, file:/home/micky/big_data/hw4/data/reut2-018.sgm, file:/home/micky/big_data/hw4/data/reut2-005.sgm, file:/home/micky/big_data/hw4/da...\n"
      ]
     },
     "metadata": {},
     "output_type": "display_data"
    },
    {
     "data": {
      "text/plain": [
       "[file:/home/micky/big_data/hw4/data/reut2-017.sgm, file:/home/micky/big_data/hw4/data/reut2-001.sgm, file:/home/micky/big_data/hw4/data/reut2-021.sgm, file:/home/micky/big_data/hw4/data/reut2-003.sgm, file:/home/micky/big_data/hw4/data/reut2-010.sgm, file:/home/micky/big_data/hw4/data/reut2-013.sgm, file:/home/micky/big_data/hw4/data/reut2-004.sgm, file:/home/micky/big_data/hw4/data/reut2-020.sgm, file:/home/micky/big_data/hw4/data/reut2-008.sgm, file:/home/micky/big_data/hw4/data/reut2-014.sgm, file:/home/micky/big_data/hw4/data/reut2-007.sgm, file:/home/micky/big_data/hw4/data/reut2-018.sgm, file:/home/micky/big_data/hw4/data/reut2-005.sgm, file:/home/micky/big_data/hw4/data/reut2-015.sgm, file:/home/micky/big_data/hw4/data/reut2-011.sgm, file:/home/micky/big_data/hw4/data/reut2-002.sgm, file:/home/micky/big_data/hw4/data/reut2-012.sgm, file:/home/micky/big_data/hw4/data/reut2-019.sgm, file:/home/micky/big_data/hw4/data/reut2-009.sgm, file:/home/micky/big_data/hw4/data/reut2-016.sgm, file:/home/micky/big_data/hw4/data/reut2-000.sgm, file:/home/micky/big_data/hw4/data/reut2-006.sgm]"
      ]
     },
     "execution_count": 42,
     "metadata": {},
     "output_type": "execute_result"
    }
   ],
   "source": [
    "val spark2 = spark\n",
    "\n",
    "var data = getFile(\"./data\")\n",
    "var sample_data = Array(\"file:/home/micky/big_data/hw3/data/reut2-017.sgm\")"
   ]
  },
  {
   "cell_type": "code",
   "execution_count": 43,
   "metadata": {},
   "outputs": [
    {
     "name": "stdout",
     "output_type": "stream",
     "text": [
      "\n",
      "Count: 940\n",
      "\n",
      "Parsed Sample Data Sample: \n",
      "(17001,The Brazilian Coffee Institute, IBC,\n",
      "plans to sell in a series of auctions over the next few weeks\n",
      "robusta coffee purchased in London last year, but details of\n",
      "where and when auctions will take place are still to be\n",
      "finalised, IBC president Jorio Dauster told reporters.\n",
      "    The sales of 630,000 bags of robusta and an unspecified\n",
      "amount of Brazilian arabica coffee will take place over a\n",
      "minimum of six months but it is not decided where sales will\n",
      "take place or whether they will be held weekly or monthly.\n",
      "    The amount offered at each sale has also not been set, but\n",
      "could be in the order of 100,000 bags, Dauster said.)\n",
      "\n",
      "(17002,AMCA International Ltd said it\n",
      "appointed president and chief executive officer WIlliam Holland\n",
      "to succeed Kenneth Barclay as chairman.\n",
      "    Barclay, who is 60 years old, decided not to stand for\n",
      "reappointment as chairman this year but will continue as a\n",
      "director, AMCA said.)\n",
      "\n"
     ]
    },
    {
     "data": {
      "text/plain": [
       "regex = (?s)<REUTERS.*?NEWID=\"(\\d*)\".*?>.*?<TEXT.*?>(.*?)<\\/TEXT>.*?<\\/REUTERS>\n",
       "body_regex = (?s).*?<BODY.*?>(.*?)<\\/BODY>.*?\n",
       "newsParse = UnionRDD[23] at union at <console>:78\n",
       "newsCount = 940\n"
      ]
     },
     "metadata": {},
     "output_type": "display_data"
    },
    {
     "data": {
      "text/plain": [
       "940"
      ]
     },
     "execution_count": 43,
     "metadata": {},
     "output_type": "execute_result"
    }
   ],
   "source": [
    "import scala.collection.mutable.ListBuffer\n",
    "\n",
    "//TODO: Sample -> Actual\n",
    "var regex = \"\"\"(?s)<REUTERS.*?NEWID=\"(\\d*)\".*?>.*?<TEXT.*?>(.*?)<\\/TEXT>.*?<\\/REUTERS>\"\"\".r\n",
    "var body_regex = \"\"\"(?s).*?<BODY.*?>(.*?)<\\/BODY>.*?\"\"\".r\n",
    "var newsParse = spark.sparkContext.emptyRDD[(Int, String)]\n",
    "\n",
    "sample_data.map{\n",
    "    path  =>\n",
    "    val singleNewsParse = spark.sparkContext.wholeTextFiles(path).flatMap{\n",
    "        case (_, string) =>\n",
    "        val list =  ListBuffer[Tuple2[Int, String]]()\n",
    "        for(m <- regex.findAllIn(string).matchData){\n",
    "            for( n <- body_regex.findAllIn(m.group(2)).matchData){\n",
    "                list += (Tuple2(m.group(1).toInt, n.group(1).replace(\"\\n Reuter\\n&#3;\",\"\")))\n",
    "            }\n",
    "        }\n",
    "        list.toSeq\n",
    "    }\n",
    "    newsParse = newsParse.union(singleNewsParse)\n",
    "}\n",
    "var newsCount = newsParse.count()\n",
    "print(\"\\nCount: \"+ newsCount+\"\\n\")\n",
    "printSample(writer, newsParse.take(2).mkString(\"\\n\\n\"), \"Parsed Sample\")"
   ]
  },
  {
   "cell_type": "markdown",
   "metadata": {},
   "source": [
    "### Task 1 - Term-Frequency Matrix"
   ]
  },
  {
   "cell_type": "code",
   "execution_count": 44,
   "metadata": {},
   "outputs": [
    {
     "name": "stdout",
     "output_type": "stream",
     "text": [
      "\n",
      "Ziped With Index Sample Data Sample: \n",
      "17758 -> 719\n",
      "17417 -> 411\n",
      "17408 -> 402\n",
      "17004 -> 3\n",
      "17749 -> 711\n",
      "\n"
     ]
    },
    {
     "data": {
      "text/plain": [
       "newsCount = Broadcast(22)\n",
       "matrixIndex = Broadcast(25)\n"
      ]
     },
     "metadata": {},
     "output_type": "display_data"
    },
    {
     "data": {
      "text/plain": [
       "wordPreProcess: (input: Any)Array[String]\n"
      ]
     },
     "metadata": {},
     "output_type": "display_data"
    },
    {
     "data": {
      "text/plain": [
       "Broadcast(25)"
      ]
     },
     "execution_count": 44,
     "metadata": {},
     "output_type": "execute_result"
    }
   ],
   "source": [
    "def wordPreProcess(input: Any): Array[String] = {\n",
    "        var matchRegex = \"\"\"([$]?(?:[\\w]+(?:[\\w',]*[\\w]+)+|[\\w]))\"\"\".r\n",
    "        var list =  ListBuffer[String]()\n",
    "        for(m <- matchRegex.findAllIn(input.toString.toLowerCase).matchData;\n",
    "          e <- m.subgroups)\n",
    "          list+=e\n",
    "        list.toArray\n",
    "    }\n",
    "\n",
    "var newsCount = spark.sparkContext.broadcast(newsParse.count())\n",
    "var matrixIndex = spark.sparkContext.broadcast(newsParse.map{\n",
    "    case(id, string) =>\n",
    "    id.toInt\n",
    "}.sortBy{\n",
    "    case (id) => id\n",
    "}.zipWithIndex.collectAsMap())\n",
    "\n",
    "printSample(writer, matrixIndex.value.take(5).mkString(\"\\n\"), \"Ziped With Index Sample\")"
   ]
  },
  {
   "cell_type": "code",
   "execution_count": 45,
   "metadata": {},
   "outputs": [
    {
     "name": "stdout",
     "output_type": "stream",
     "text": [
      "\n",
      "Parsed Shingle Sample Data Sample: \n",
      "(secure,CompactBuffer((896,2), (106,1), (508,1), (413,1)))\n",
      "(gaping,CompactBuffer((820,1)))\n",
      "(dayton,CompactBuffer((607,1)))\n",
      "(fred,CompactBuffer((353,1)))\n",
      "(end,CompactBuffer((322,4), (330,1), (729,1), (96,1), (811,1), (178,1), (193,1), (860,1), (266,1), (422,1), (79,2), (176,1), (117,1), (795,1), (39,1), (600,1), (410,2), (90,1), (402,1), (239,1), (302,1), (909,1), (569,1), (813,1), (198,1), (908,1), (485,3), (357,1), (253,1), (454,1), (776,1), (257,1), (210,3), (207,1), (41,1), (868,1), (235,1), (92,1), (351,1), (423,1), (879,1), (26,1), (842,1), (625,1), (185,1), (171,2), (160,1), (352,2), (367,1), (380,1), (157,1), (877,1), (832,2), (280,1), (240,2), (396,2), (353,1), (42,1), (194,2), (57,1), (404,2), (437,1), (136,1), (201,1), (481,1), (432,1), (459,2), (348,1), (677,1), (18,1), (35,1), (243,1), (119,1), (632,1), (848,2), (467,1), (70,1), (681,1), (318,1), (271,3), (413,1), (875,5), (268,1), (466,1), (463,2), (452,1), (342,1), (517,1)))\n",
      "(been,CompactBuffer((877,1), (575,1), (875,1), (498,1), (230,1), (283,2), (446,1), (330,1), (865,1), (577,1), (501,1), (828,2), (65,1), (115,1), (842,4), (611,1), (168,1), (883,2), (733,1), (44,1), (804,1), (409,1), (364,1), (374,1), (376,1), (102,2), (68,1), (299,1), (192,1), (606,3), (741,1), (250,1), (211,1), (826,1), (362,3), (216,1), (165,2), (251,1), (26,1), (851,1), (307,1), (63,1), (253,1), (288,2), (547,1), (774,1), (267,1), (331,2), (806,2), (920,1), (286,1), (35,1), (655,2), (228,1), (873,1), (792,3), (179,2), (668,2), (51,1), (923,2), (674,3), (600,1), (194,2), (585,1), (234,1), (761,1), (819,2), (591,1), (830,3), (579,1), (425,2), (467,1), (399,1), (497,1), (74,1), (403,1), (812,2), (135,1), (549,1), (411,2), (227,2), (367,1), (811,3), (43,1), (650,1), (158,1), (885,1), (312,1), (207,1), (342,3), (822,2), (3,1), (105,1), (442,5), (191,1), (729,1), (417,4), (823,1), (737,1), (260,1), (466,1), (167,1), (816,1), (90,1), (235,1), (572,1), (154,1), (122,2), (381,1), (329,1), (239,2), (614,1), (178,2), (169,1), (95,1), (118,1), (266,3), (291,1), (649,1), (290,2), (795,1), (369,1), (156,1), (415,1), (350,1), (292,1), (363,2), (82,1), (66,2), (396,1), (706,1), (762,3), (418,2), (588,2), (163,1), (305,1), (919,3), (49,1), (280,1), (323,1), (897,1), (151,1), (73,2), (370,1), (720,2), (93,1), (243,3), (443,2), (878,5), (42,2), (347,2), (936,1), (269,1), (441,1), (899,1), (248,2), (22,5), (79,1), (70,1), (316,1), (361,1), (459,1), (868,1), (214,1), (815,1), (246,1), (836,1), (268,2), (444,1), (849,1), (464,1), (352,1), (469,1), (17,1), (117,1), (332,1), (226,1), (365,1), (0,1), (593,1), (858,1), (143,1), (500,1), (793,1), (449,4), (202,1), (427,1), (750,1), (119,3), (850,2), (721,1), (728,3), (834,1), (476,2), (903,1), (688,1), (696,4), (57,3), (255,1), (738,1), (909,5), (76,1), (265,1), (860,5), (161,3), (215,1), (854,1), (437,2), (473,1), (357,2)))\n",
      "(ltd's,CompactBuffer((432,1), (318,2), (105,1)))\n",
      "(wasn't,CompactBuffer((650,1)))\n",
      "(tough,CompactBuffer((299,1), (201,1), (360,1), (198,2), (79,2), (196,1), (22,1), (655,1), (380,1), (66,1), (362,1), (404,2), (352,4)))\n",
      "(accomplished,CompactBuffer((487,1), (122,1)))\n",
      "(countervail,CompactBuffer((640,1), (655,1)))\n",
      "(262,242,CompactBuffer((10,1)))\n",
      "(7,237,000,CompactBuffer((670,1)))\n",
      "(clients,CompactBuffer((432,1)))\n",
      "(1,900,CompactBuffer((418,1)))\n",
      "(venezuelans,CompactBuffer((826,1)))\n",
      "(minorities,CompactBuffer((846,1)))\n",
      "(paso,CompactBuffer((808,1)))\n",
      "(sarasota,CompactBuffer((796,1)))\n",
      "(different,CompactBuffer((668,1), (606,1), (842,1), (304,1), (481,2), (368,1), (442,1), (350,1), (443,1)))\n",
      "\n"
     ]
    },
    {
     "data": {
      "text/plain": [
       "flattenTerms = ShuffledRDD[32] at groupByKey at <console>:75\n"
      ]
     },
     "metadata": {},
     "output_type": "display_data"
    },
    {
     "data": {
      "text/plain": [
       "ShuffledRDD[32] at groupByKey at <console>:75"
      ]
     },
     "execution_count": 45,
     "metadata": {},
     "output_type": "execute_result"
    }
   ],
   "source": [
    "var flattenTerms = newsParse.flatMap{\n",
    "    case (id, string)  =>\n",
    "    wordPreProcess(string).map{\n",
    "        word =>\n",
    "        ((word, matrixIndex.value(id).toInt), 1)\n",
    "    }  \n",
    "}.reduceByKey{\n",
    "    (x, y) => x + y\n",
    "}.map{\n",
    "    case((word, id),count) =>\n",
    "    (word,(id, count))\n",
    "}.groupByKey()\n",
    "printSample(writer, flattenTerms.take(20).mkString(\"\\n\"), \"Parsed Shingle Sample\")"
   ]
  },
  {
   "cell_type": "code",
   "execution_count": 46,
   "metadata": {},
   "outputs": [
    {
     "data": {
      "text/plain": [
       "termDocumentMatrix = MapPartitionsRDD[33] at map at <console>:53\n"
      ]
     },
     "metadata": {},
     "output_type": "display_data"
    },
    {
     "data": {
      "text/plain": [
       "MapPartitionsRDD[33] at map at <console>:53"
      ]
     },
     "execution_count": 46,
     "metadata": {},
     "output_type": "execute_result"
    }
   ],
   "source": [
    "var termDocumentMatrix = flattenTerms.map{\n",
    "    case (word, iterable) =>\n",
    "    var row = Array.fill(newsCount.value.toInt){0}\n",
    "    iterable.toVector.map{\n",
    "        case(id, count) =>\n",
    "        row(id) = count\n",
    "    }\n",
    "    row\n",
    "}"
   ]
  },
  {
   "cell_type": "code",
   "execution_count": null,
   "metadata": {},
   "outputs": [],
   "source": [
    "val termDocumentString = termDocumentMatrix.map{\n",
    "      array =>\n",
    "      array.mkString(\",\")\n",
    "}\n",
    "\n",
    "termDocumentString.saveAsTextFile(\"./output/termDocumentString\")"
   ]
  },
  {
   "cell_type": "markdown",
   "metadata": {},
   "source": [
    "### Task 2 - Matrix Multiplication"
   ]
  },
  {
   "cell_type": "code",
   "execution_count": 47,
   "metadata": {},
   "outputs": [
    {
     "data": {
      "text/plain": [
       "rand = scala.util.Random$@79b3490b\n",
       "r_value = 3\n",
       "otherMatrix = Broadcast(29)\n"
      ]
     },
     "metadata": {},
     "output_type": "display_data"
    },
    {
     "data": {
      "text/plain": [
       "Broadcast(29)"
      ]
     },
     "execution_count": 47,
     "metadata": {},
     "output_type": "execute_result"
    }
   ],
   "source": [
    "val rand = scala.util.Random\n",
    "val r_value = 3\n",
    "var otherMatrix = spark.sparkContext.broadcast(Array.fill(newsCount.value.toInt,r_value){rand.nextInt(2000) - 1000})"
   ]
  },
  {
   "cell_type": "code",
   "execution_count": 48,
   "metadata": {},
   "outputs": [
    {
     "name": "stdout",
     "output_type": "stream",
     "text": [
      "-1931, -2051, 1485\n",
      "-571, 946, -341\n"
     ]
    },
    {
     "data": {
      "text/plain": [
       "multipliedMatrix = MapPartitionsRDD[34] at map at <console>:75\n"
      ]
     },
     "metadata": {},
     "output_type": "display_data"
    },
    {
     "data": {
      "text/plain": [
       "MapPartitionsRDD[34] at map at <console>:75"
      ]
     },
     "execution_count": 48,
     "metadata": {},
     "output_type": "execute_result"
    }
   ],
   "source": [
    "var multipliedMatrix = termDocumentMatrix.map{\n",
    "    array =>\n",
    "    var newRow = Array.fill(otherMatrix.value(0).length){0}\n",
    "    newRow.zipWithIndex.map{\n",
    "        case(value, columnid) =>\n",
    "        var newValue = value\n",
    "        array.zipWithIndex.foreach{\n",
    "            case(arrayValue, rowid) =>\n",
    "            newValue += arrayValue * otherMatrix.value(rowid)(columnid)\n",
    "        }\n",
    "        newValue\n",
    "    }\n",
    "}\n",
    "\n",
    "multipliedMatrix.take(2).foreach{\n",
    "    array =>\n",
    "    println(array.mkString(\", \"))\n",
    "}"
   ]
  },
  {
   "cell_type": "markdown",
   "metadata": {},
   "source": [
    "103820004 Michael Fu"
   ]
  }
 ],
 "metadata": {
  "kernelspec": {
   "display_name": "Apache Toree - Scala",
   "language": "scala",
   "name": "apache_toree_scala"
  },
  "language_info": {
   "codemirror_mode": "text/x-scala",
   "file_extension": ".scala",
   "mimetype": "text/x-scala",
   "name": "scala",
   "pygments_lexer": "scala",
   "version": "2.11.8"
  }
 },
 "nbformat": 4,
 "nbformat_minor": 2
}
